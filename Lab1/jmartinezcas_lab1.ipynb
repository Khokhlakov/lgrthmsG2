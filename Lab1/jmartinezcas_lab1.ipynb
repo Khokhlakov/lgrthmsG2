{
  "nbformat": 4,
  "nbformat_minor": 0,
  "metadata": {
    "colab": {
      "name": "jmartinezcas_lab1.ipynb.ipynb",
      "provenance": [],
      "collapsed_sections": []
    },
    "kernelspec": {
      "display_name": "Python 3",
      "language": "python",
      "name": "python3"
    },
    "language_info": {
      "codemirror_mode": {
        "name": "ipython",
        "version": 3
      },
      "file_extension": ".py",
      "mimetype": "text/x-python",
      "name": "python",
      "nbconvert_exporter": "python",
      "pygments_lexer": "ipython3",
      "version": "3.6.4"
    }
  },
  "cells": [
    {
      "cell_type": "markdown",
      "source": [
        ""
      ],
      "metadata": {
        "id": "0aRGfD7vZK_Y"
      }
    },
    {
      "cell_type": "markdown",
      "metadata": {
        "id": "eQzBbvyKQymx"
      },
      "source": [
        "<div align=\"center\">\n",
        "<img style=\"display: block; margin: auto;\" alt=\"photo\" src=\"https://cdn.quantconnect.com/web/i/icon.png\">\n",
        "\n",
        "Quantconnect\n",
        "\n",
        "Introduction to Financial Python\n",
        "</div>\n",
        "\n",
        "# 01 Data Types and Data Structures\n",
        "\n",
        "# Introduction\n",
        "\n",
        "This tutorial provides a basic introduction to the Python programming language. If you are new to Python, you should run the code snippets while reading this tutorial. If you are an advanced Python user, please feel free to skip this chapter.\n",
        "\n",
        "# Basic Variable Types\n",
        "The basic types of variables in Python are: strings, integers, floating point numbers and booleans.\n",
        "\n",
        "Strings in python are identified as a contiguous set of characters represented in either single quotes (' ') or double quotes (\" \").\n"
      ]
    },
    {
      "cell_type": "code",
      "metadata": {
        "colab": {
          "base_uri": "https://localhost:8080/"
        },
        "id": "N5t-UrcfOqid",
        "outputId": "62a1bcfd-e2aa-4c55-b754-6c28ba6d13ee"
      },
      "source": [
        "my_string1 = 'Welcome to'\n",
        "my_string2 = \"QuantConnect\"\n",
        "print(my_string1 + ' ' + my_string2)\n",
        "\n",
        "\n",
        "# ++\n",
        "\n",
        "change_line_in_string = \"\\nCHANGE da world\\n\"\n",
        "\n",
        "# Convertions between a character and it's Unicode representation\n",
        "s = chr(ord(\"r\")+1)\n",
        "\n",
        "# String multiplication\n",
        "double_s = s*2\n",
        "\n",
        "# Concatenation of strings with '+' and ','.\n",
        "# the string methods lower converts the string to lower case.\n",
        "print(change_line_in_string.lower() + \"my final me\" + double_s + \"age\", \n",
        "      \"Goodbye\", sep=\". \")"
      ],
      "execution_count": 244,
      "outputs": [
        {
          "output_type": "stream",
          "name": "stdout",
          "text": [
            "Welcome to QuantConnect\n",
            "\n",
            "change da world\n",
            "my final message. Goodbye\n"
          ]
        }
      ]
    },
    {
      "cell_type": "markdown",
      "metadata": {
        "id": "bXHnxZyHSd1M"
      },
      "source": [
        "An integer is a round number with no values after the decimal point."
      ]
    },
    {
      "cell_type": "code",
      "metadata": {
        "colab": {
          "base_uri": "https://localhost:8080/"
        },
        "id": "pNjuz3toOqif",
        "outputId": "a4878ba5-18cd-450b-f6c6-efbf1683b18a"
      },
      "source": [
        "my_int = 10\n",
        "print(my_int)\n",
        "print(type(my_int))"
      ],
      "execution_count": 245,
      "outputs": [
        {
          "output_type": "stream",
          "name": "stdout",
          "text": [
            "10\n",
            "<class 'int'>\n"
          ]
        }
      ]
    },
    {
      "cell_type": "markdown",
      "metadata": {
        "id": "_1ZanWrYSnzF"
      },
      "source": [
        "The built-in function int() can convert a string into an integer."
      ]
    },
    {
      "cell_type": "code",
      "metadata": {
        "colab": {
          "base_uri": "https://localhost:8080/"
        },
        "id": "zPwGb20FOqif",
        "outputId": "f0c62a41-3d57-43b8-d483-55a8ae26f08c"
      },
      "source": [
        "my_string = \"100\"\n",
        "print(type(my_string))\n",
        "my_int = int(my_string)\n",
        "print(type(my_int))"
      ],
      "execution_count": 246,
      "outputs": [
        {
          "output_type": "stream",
          "name": "stdout",
          "text": [
            "<class 'str'>\n",
            "<class 'int'>\n"
          ]
        }
      ]
    },
    {
      "cell_type": "markdown",
      "metadata": {
        "id": "WqMDPDTHSrE9"
      },
      "source": [
        "A floating point number, or a float, is a real number in mathematics. In Python we need to include a value after a decimal point to define it as a float"
      ]
    },
    {
      "cell_type": "code",
      "metadata": {
        "colab": {
          "base_uri": "https://localhost:8080/"
        },
        "id": "otCzKKW9Oqig",
        "outputId": "0a29a937-e28f-4394-ec4e-7b2b51e0e211"
      },
      "source": [
        "my_string = \"100\"\n",
        "my_float = float(my_string)\n",
        "print(type(my_float))\n",
        "flo=3.54\n",
        "print(type(flo))"
      ],
      "execution_count": 247,
      "outputs": [
        {
          "output_type": "stream",
          "name": "stdout",
          "text": [
            "<class 'float'>\n",
            "<class 'float'>\n"
          ]
        }
      ]
    },
    {
      "cell_type": "markdown",
      "metadata": {
        "id": "2iuyv8Q7StTJ"
      },
      "source": [
        "As you can see above, if we don't include a decimal value, the variable would be defined as an integer. The built-in function float() can convert a string or an integer into a float."
      ]
    },
    {
      "cell_type": "markdown",
      "metadata": {
        "id": "bnGMwH21Szr_"
      },
      "source": [
        "A boolean, or bool, is a binary variable. Its value can only be True or False. It is useful when we do some logic operations, which would be covered in our next chapter."
      ]
    },
    {
      "cell_type": "code",
      "metadata": {
        "colab": {
          "base_uri": "https://localhost:8080/"
        },
        "id": "wwLw5VthOqig",
        "outputId": "4162f57a-4df3-440c-cd01-c26786a0cb15"
      },
      "source": [
        "my_bool = False\n",
        "print(my_bool)\n",
        "print(type(my_bool))"
      ],
      "execution_count": 248,
      "outputs": [
        {
          "output_type": "stream",
          "name": "stdout",
          "text": [
            "False\n",
            "<class 'bool'>\n"
          ]
        }
      ]
    },
    {
      "cell_type": "code",
      "metadata": {
        "colab": {
          "base_uri": "https://localhost:8080/"
        },
        "id": "DMa6pDl5Oqig",
        "outputId": "eb4f57f8-339c-4eb6-c79b-7cd2737a01e4"
      },
      "source": [
        "print(\"Addition \", 1+1)\n",
        "print(\"Subtraction \", 5-2)\n",
        "print(\"Multiplication \", 2*3)\n",
        "print(\"Division \", 10/2)\n",
        "print('exponent', 2**3)"
      ],
      "execution_count": 249,
      "outputs": [
        {
          "output_type": "stream",
          "name": "stdout",
          "text": [
            "Addition  2\n",
            "Subtraction  3\n",
            "Multiplication  6\n",
            "Division  5.0\n",
            "exponent 8\n"
          ]
        }
      ]
    },
    {
      "cell_type": "markdown",
      "metadata": {
        "id": "1Xc9G9_sS2ju"
      },
      "source": [
        "# Basic Math Operations\n",
        "\n",
        "The basic math operators in python are demonstrated below:"
      ]
    },
    {
      "cell_type": "code",
      "metadata": {
        "colab": {
          "base_uri": "https://localhost:8080/"
        },
        "id": "KE9gUryAOqig",
        "outputId": "537c6a43-569f-4af9-a52d-1c3da932b0f6"
      },
      "source": [
        "print(1/3)\n",
        "print(1.0/3)"
      ],
      "execution_count": 250,
      "outputs": [
        {
          "output_type": "stream",
          "name": "stdout",
          "text": [
            "0.3333333333333333\n",
            "0.3333333333333333\n"
          ]
        }
      ]
    },
    {
      "cell_type": "markdown",
      "metadata": {
        "id": "AN5Oa3DoS_Nf"
      },
      "source": [
        "# Data Collections\n",
        "\n",
        "## List\n",
        "A list is an ordered collection of values. A list is mutable, which means you can change a list's value without changing the list itself. Creating a list is simply putting different comma-separated values between square brackets."
      ]
    },
    {
      "cell_type": "code",
      "metadata": {
        "colab": {
          "base_uri": "https://localhost:8080/"
        },
        "id": "-tQdNqCvOqig",
        "outputId": "45b0a7ce-5d47-43e3-ec36-6da50123ed9f"
      },
      "source": [
        "my_list = ['Quant', 'Connect']#, 1,2,3]\n",
        "print(my_list)\n",
        "\n",
        "\n",
        "# ++\n",
        "\n",
        "my_int_list = [1, 2, 3, 4, 5, 6, 39]\n",
        "print(\"\\nInteger list: \\n\", my_int_list, sep=\"\")\n",
        "\n",
        "# Lists are iterable, thus the built-in function map can be used\n",
        "# to pass each list element as an argument to a callback function\n",
        "my_str_list = list(map(str, my_int_list))\n",
        "print(\"String list: \\n\", my_str_list, sep=\"\")"
      ],
      "execution_count": 251,
      "outputs": [
        {
          "output_type": "stream",
          "name": "stdout",
          "text": [
            "['Quant', 'Connect']\n",
            "\n",
            "Integer list: \n",
            "[1, 2, 3, 4, 5, 6, 39]\n",
            "String list: \n",
            "['1', '2', '3', '4', '5', '6', '39']\n"
          ]
        }
      ]
    },
    {
      "cell_type": "markdown",
      "metadata": {
        "id": "1O0TsgZCTHrM"
      },
      "source": [
        "The values in a list are called \"elements\". We can access list elements by indexing. Python index starts from 0. So if you have a list of length n, the index of the first element will be 0, and that of the last element will be n − 1. By the way, the length of a list can be obtained by the built-in function len()."
      ]
    },
    {
      "cell_type": "code",
      "metadata": {
        "colab": {
          "base_uri": "https://localhost:8080/"
        },
        "id": "QhuVhRR5Oqih",
        "outputId": "5dfcf0f7-8437-412b-aef8-c5b77f2d1f95"
      },
      "source": [
        "my_list = [\"First element\", 'Quant', 'Connect', 1,2,3, \"Last element\"]\n",
        "print(\"My list: \", my_list, \"\\n\")\n",
        "print(\"n: \", len(my_list))\n",
        "print(\"Index 0: \", my_list[0])\n",
        "print(\"Index n-1: \", my_list[len(my_list) -1], \"\\n\")\n",
        "\n",
        "\n",
        "# ++\n",
        "\n",
        "# One way of swapping two elements.\n",
        "my_list[3], my_list[4] = my_list[4], my_list[3]\n",
        "print(\"Swapped 1 and 2: \", my_list, \"\\n\")\n",
        "\n",
        "# Elements can be accessed by negative indexes. Should our list have n\n",
        "# elements, the last one has index -1 and the first one index -n.\n",
        "print(\"Index -1: \", my_list[-1])\n",
        "print(\"Index -n: \", my_list[-len(my_list)])"
      ],
      "execution_count": 252,
      "outputs": [
        {
          "output_type": "stream",
          "name": "stdout",
          "text": [
            "My list:  ['First element', 'Quant', 'Connect', 1, 2, 3, 'Last element'] \n",
            "\n",
            "n:  7\n",
            "Index 0:  First element\n",
            "Index n-1:  Last element \n",
            "\n",
            "Swapped 1 and 2:  ['First element', 'Quant', 'Connect', 2, 1, 3, 'Last element'] \n",
            "\n",
            "Index -1:  Last element\n",
            "Index -n:  First element\n"
          ]
        }
      ]
    },
    {
      "cell_type": "markdown",
      "metadata": {
        "id": "jgSZy1VGTKSc"
      },
      "source": [
        "You can also change the elements in the list by accessing an index and assigning a new value."
      ]
    },
    {
      "cell_type": "code",
      "metadata": {
        "colab": {
          "base_uri": "https://localhost:8080/"
        },
        "id": "NQBNLjAvOqih",
        "outputId": "9146a0f7-f821-49a2-ae92-4add0faa2abb"
      },
      "source": [
        "my_list = [\"First element\", 'Quant', 'Connect', 1,2,3, \"Last element\"]\n",
        "my_list[2] = 'go'\n",
        "print(my_list)"
      ],
      "execution_count": 253,
      "outputs": [
        {
          "output_type": "stream",
          "name": "stdout",
          "text": [
            "['First element', 'Quant', 'go', 1, 2, 3, 'Last element']\n"
          ]
        }
      ]
    },
    {
      "cell_type": "markdown",
      "metadata": {
        "id": "EQPs5ojoTVrk"
      },
      "source": [
        "A list can also be sliced with a colon:"
      ]
    },
    {
      "cell_type": "code",
      "metadata": {
        "colab": {
          "base_uri": "https://localhost:8080/"
        },
        "id": "keNX2RbtOqii",
        "outputId": "8d08165d-2152-48b8-fe0d-ce48dffc7a54"
      },
      "source": [
        "my_list = [\"First element\", 'Quant', 'Connect', 1,2,3, \"Last element\"]\n",
        "print(my_list[1:3])"
      ],
      "execution_count": 254,
      "outputs": [
        {
          "output_type": "stream",
          "name": "stdout",
          "text": [
            "['Quant', 'Connect']\n"
          ]
        }
      ]
    },
    {
      "cell_type": "markdown",
      "metadata": {
        "id": "AZqQd0K8TYul"
      },
      "source": [
        "The slice starts from the first element indicated, but excludes the last element indicated. Here we select all elements starting from index 1, which refers to the second element:"
      ]
    },
    {
      "cell_type": "code",
      "metadata": {
        "colab": {
          "base_uri": "https://localhost:8080/"
        },
        "id": "0-76sLfkOqii",
        "outputId": "8f8fb227-b429-45a0-aa21-1f38355cb747"
      },
      "source": [
        "print(my_list[1:])"
      ],
      "execution_count": 255,
      "outputs": [
        {
          "output_type": "stream",
          "name": "stdout",
          "text": [
            "['Quant', 'Connect', 1, 2, 3, 'Last element']\n"
          ]
        }
      ]
    },
    {
      "cell_type": "markdown",
      "metadata": {
        "id": "XBqvhUdZVKWs"
      },
      "source": [
        "And all elements up to but excluding index 3:"
      ]
    },
    {
      "cell_type": "code",
      "metadata": {
        "colab": {
          "base_uri": "https://localhost:8080/"
        },
        "id": "5NWr75L9Oqii",
        "outputId": "f278cb74-1ce4-49a0-de54-09da98945351"
      },
      "source": [
        "print(my_list[:3])\n",
        "\n",
        "\n",
        "# ++\n",
        "\n",
        "# A second colon can be used to designate the increment step. \n",
        "# The following code prints the list from start to end omitting the\n",
        "# elements with odd indexes.\n",
        "print(my_list[::2])"
      ],
      "execution_count": 256,
      "outputs": [
        {
          "output_type": "stream",
          "name": "stdout",
          "text": [
            "['First element', 'Quant', 'Connect']\n",
            "['First element', 'Connect', 2, 'Last element']\n"
          ]
        }
      ]
    },
    {
      "cell_type": "markdown",
      "metadata": {
        "id": "eAFmM6bkTZz9"
      },
      "source": [
        "If you wish to add or remove an element from a list, you can use the append() and remove() methods for lists as follows:"
      ]
    },
    {
      "cell_type": "code",
      "metadata": {
        "colab": {
          "base_uri": "https://localhost:8080/"
        },
        "id": "pHmgTPElTo19",
        "outputId": "1d37b883-7f37-4dae-c2af-1c1689c34ded"
      },
      "source": [
        "my_list = ['Hello', 'Quant']\n",
        "# This takes place at the end of the list\n",
        "my_list.append('Hello')\n",
        "print(my_list)\n",
        "\n",
        "\n",
        "# ++\n",
        "\n",
        "# insert method can be used to append elements at a given index\n",
        "my_list.insert(0 ,\"Don't\")\n",
        "print(my_list)\n",
        "my_list.insert(4 ,\"Me\")\n",
        "print(my_list)\n",
        "\n",
        "# Alternatively, the '+' and '*' operators can be used to append elements.\n",
        "my_list = my_list + my_list + [\":)\"]*3\n",
        "print(my_list)"
      ],
      "execution_count": 257,
      "outputs": [
        {
          "output_type": "stream",
          "name": "stdout",
          "text": [
            "['Hello', 'Quant', 'Hello']\n",
            "[\"Don't\", 'Hello', 'Quant', 'Hello']\n",
            "[\"Don't\", 'Hello', 'Quant', 'Hello', 'Me']\n",
            "[\"Don't\", 'Hello', 'Quant', 'Hello', 'Me', \"Don't\", 'Hello', 'Quant', 'Hello', 'Me', ':)', ':)', ':)']\n"
          ]
        }
      ]
    },
    {
      "cell_type": "code",
      "metadata": {
        "colab": {
          "base_uri": "https://localhost:8080/"
        },
        "id": "4C4U1Yf0Tr8l",
        "outputId": "4c793544-2d8b-4c7a-ba08-d1ad291c86a6"
      },
      "source": [
        "my_list.remove('Hello')\n",
        "print(my_list)"
      ],
      "execution_count": 258,
      "outputs": [
        {
          "output_type": "stream",
          "name": "stdout",
          "text": [
            "[\"Don't\", 'Quant', 'Hello', 'Me', \"Don't\", 'Hello', 'Quant', 'Hello', 'Me', ':)', ':)', ':)']\n"
          ]
        }
      ]
    },
    {
      "cell_type": "markdown",
      "metadata": {
        "id": "11W1gG-cVmOU"
      },
      "source": [
        "When there are repeated instances of \"Hello\", the first one is removed.\n",
        "\n",
        "## Tuple\n",
        "A tuple is a data structure type similar to a list. The difference is that a tuple is immutable, which means you can't change the elements in it once it's defined. We create a tuple by putting comma-separated values between parentheses."
      ]
    },
    {
      "cell_type": "code",
      "metadata": {
        "collapsed": true,
        "id": "vPmn6BAaOqii"
      },
      "source": [
        "my_tuple = ('Welcome','to','QuantConnect')"
      ],
      "execution_count": 259,
      "outputs": []
    },
    {
      "cell_type": "markdown",
      "metadata": {
        "id": "zMIme4dDV0Wz"
      },
      "source": [
        "Just like a list, a tuple can be sliced by using index."
      ]
    },
    {
      "cell_type": "code",
      "metadata": {
        "colab": {
          "base_uri": "https://localhost:8080/"
        },
        "id": "8P-ddO0sOqii",
        "outputId": "b5898666-c3a5-4b87-bda8-a90d1ef01248"
      },
      "source": [
        "my_tuple = ('Welcome','to','QuantConnect')\n",
        "print(my_tuple[1:])\n",
        "\n",
        "\n",
        "# ++\n",
        "\n",
        "# We can iterate over tuples with the map function.\n",
        "print(tuple(map(len, my_tuple[::2])))"
      ],
      "execution_count": 260,
      "outputs": [
        {
          "output_type": "stream",
          "name": "stdout",
          "text": [
            "('to', 'QuantConnect')\n",
            "(7, 12)\n"
          ]
        }
      ]
    },
    {
      "cell_type": "markdown",
      "metadata": {
        "id": "l2JqbusAV1Y2"
      },
      "source": [
        "## Set\n",
        "A set is an **unordered**  collection with **no duplicate** elements. The built-in function **set()** can be used to create sets."
      ]
    },
    {
      "cell_type": "code",
      "metadata": {
        "colab": {
          "base_uri": "https://localhost:8080/"
        },
        "id": "Plau8r-UOqij",
        "outputId": "1279d61e-e0b1-4056-d590-035a7b85d43a"
      },
      "source": [
        "stock_list = ['AAPL','GOOG','IBM','AAPL','IBM','FB','F','GOOG']\n",
        "stock_set = set(stock_list)\n",
        "print(stock_set)\n",
        "\n",
        "\n",
        "# ++\n",
        "\n",
        "# Sets are iterable but not subscriptable, that is, due to the lack of \n",
        "# order, their elements can't be accesses with indexes.\n",
        "print(set(map(len, stock_list)))"
      ],
      "execution_count": 261,
      "outputs": [
        {
          "output_type": "stream",
          "name": "stdout",
          "text": [
            "{'IBM', 'AAPL', 'F', 'FB', 'GOOG'}\n",
            "{1, 2, 3, 4}\n"
          ]
        }
      ]
    },
    {
      "cell_type": "markdown",
      "metadata": {
        "id": "Jyb4GGIoWIHk"
      },
      "source": [
        "Set is an easy way to remove duplicate elements from a list.\n",
        "\n",
        "##Dictionary\n",
        "A dictionary is one of the most important data structures in Python. Unlike sequences which are indexed by integers, dictionaries are indexed by keys which can be either strings or floats.\n",
        "\n",
        "A dictionary is an **unordered** collection of key : value pairs, with the requirement that the keys are unique. We create a dictionary by placing a comma-separated list of key : value pairs within the braces."
      ]
    },
    {
      "cell_type": "code",
      "metadata": {
        "collapsed": true,
        "id": "36mTe5BaOqij"
      },
      "source": [
        "my_dic = {'AAPL':'AAPLE', 'FB':'FaceBook', 'GOOG':'Alphabet'}"
      ],
      "execution_count": 262,
      "outputs": []
    },
    {
      "cell_type": "markdown",
      "metadata": {
        "id": "gSicoNqDWP4c"
      },
      "source": [
        "After defining a dictionary, we can access any value by indicating its key in brackets."
      ]
    },
    {
      "cell_type": "code",
      "metadata": {
        "colab": {
          "base_uri": "https://localhost:8080/"
        },
        "id": "KUfdVf43Oqij",
        "outputId": "c303ed5b-fdb6-4e76-8836-9137db86d3b3"
      },
      "source": [
        "print(my_dic['GOOG'])\n",
        "\n",
        "\n",
        "# ++\n",
        "\n",
        "# Keys and values admit various types (keys must be hashable).\n",
        "my_dict = {1:2, \n",
        "           'a':'b', \n",
        "           True:False, \n",
        "           3.4:{\"inner\":\"dictionary\"}, \n",
        "           \"subscriptables\":[(\"core1\", \"core2\"), True]}\n",
        "print(my_dict[3.4], my_dict[True])\n",
        "print(my_dict[\"subscriptables\"][0][0])"
      ],
      "execution_count": 263,
      "outputs": [
        {
          "output_type": "stream",
          "name": "stdout",
          "text": [
            "Alphabet\n",
            "{'inner': 'dictionary'} False\n",
            "core1\n"
          ]
        }
      ]
    },
    {
      "cell_type": "markdown",
      "metadata": {
        "id": "M9sDsTEMWQvc"
      },
      "source": [
        "We can also change the value associated with a specified key:"
      ]
    },
    {
      "cell_type": "code",
      "metadata": {
        "colab": {
          "base_uri": "https://localhost:8080/"
        },
        "id": "IrTZdq9FOqij",
        "outputId": "69a96de3-66ca-4dd6-9a38-8b297c62778e"
      },
      "source": [
        "my_dic['GOOG'] = 'Alphabet Company'\n",
        "print(my_dic['GOOG'])"
      ],
      "execution_count": 264,
      "outputs": [
        {
          "output_type": "stream",
          "name": "stdout",
          "text": [
            "Alphabet Company\n"
          ]
        }
      ]
    },
    {
      "cell_type": "markdown",
      "metadata": {
        "id": "VPuDinlwWS9D"
      },
      "source": [
        "The built-in method of the dictionary object dict.keys() returns a list of all the keys used in the dictionary."
      ]
    },
    {
      "cell_type": "code",
      "metadata": {
        "colab": {
          "base_uri": "https://localhost:8080/"
        },
        "id": "lupRHf1_Oqij",
        "outputId": "c4cb454d-bdf0-41b4-a1f0-b9287398e5ba"
      },
      "source": [
        "print(my_dic.keys())"
      ],
      "execution_count": 265,
      "outputs": [
        {
          "output_type": "stream",
          "name": "stdout",
          "text": [
            "dict_keys(['AAPL', 'FB', 'GOOG'])\n"
          ]
        }
      ]
    },
    {
      "cell_type": "markdown",
      "metadata": {
        "id": "kSGzgNb2Womz"
      },
      "source": [
        "# Common String Operations\n",
        "A string is an immutable sequence of characters. It can be sliced by index just like a tuple:"
      ]
    },
    {
      "cell_type": "code",
      "metadata": {
        "colab": {
          "base_uri": "https://localhost:8080/"
        },
        "id": "xPojDnm9Oqik",
        "outputId": "86710ca8-c9a7-4f0b-d315-cc167b45e8f9"
      },
      "source": [
        "my_str = 'Welcome to QuantConnect'\n",
        "print(my_str[8:])\n",
        "\n",
        "\n",
        "# ++\n",
        "\n",
        "my_str2 = \"a1Ab2Bc3Cd4De5Ef6F\"\n",
        "\n",
        "# Slicing up to the element indexed by 5.\n",
        "print(my_str2[:6])\n",
        "\n",
        "# Printing from the third character to the nineth one with a step\n",
        "# of three (the slicing goes up to the index previous to the one\n",
        "# that follows the first colon, in this case, up to index 8).\n",
        "print(my_str2[2:9:3]) "
      ],
      "execution_count": 266,
      "outputs": [
        {
          "output_type": "stream",
          "name": "stdout",
          "text": [
            "to QuantConnect\n",
            "a1Ab2B\n",
            "ABC\n"
          ]
        }
      ]
    },
    {
      "cell_type": "markdown",
      "metadata": {
        "id": "wuJYy7tvWtM7"
      },
      "source": [
        "There are many methods associated with strings. We can use string.count() to count the occurrences of a character in a string, use string.find() to return the index of a specific character, and use string.replace() to replace characters"
      ]
    },
    {
      "cell_type": "code",
      "metadata": {
        "colab": {
          "base_uri": "https://localhost:8080/"
        },
        "id": "u9deZq1SOqik",
        "outputId": "c7c06148-c1cb-445c-e125-f3ffdd0ed6a9"
      },
      "source": [
        "print('Counting the number of e appears in this sentence'.count('e'))\n",
        "print('The first time e appears in this sentence'.find('e'))\n",
        "print('all the a in this sentence now becomes e'.replace('a','e'))\n",
        "\n",
        "\n",
        "# ++\n",
        "\n",
        "# We can operate on strings as well.\n",
        "print('up down down up down up down up up'.count('up'))\n",
        "\n",
        "# A third parameter can be added to determine an upper bound to \n",
        "# the number of uccurances to be replaced with the replace method.\n",
        "print('up down down up down up down up up'.replace('down','up', 3))\n",
        "\n",
        "# The find method returns the firs matching string\n",
        "print('hanarebanare no machi o tsunagu ressha'.find('na'))\n",
        "\n",
        "# A search range can be established by adding two more arguments.\n",
        "print('hanarebanare no machi o tsunagu ressha'.find('na', 3, 12))"
      ],
      "execution_count": 267,
      "outputs": [
        {
          "output_type": "stream",
          "name": "stdout",
          "text": [
            "7\n",
            "2\n",
            "ell the e in this sentence now becomes e\n",
            "5\n",
            "up up up up up up down up up\n",
            "2\n",
            "8\n"
          ]
        }
      ]
    },
    {
      "cell_type": "markdown",
      "metadata": {
        "id": "sJPn3rkvWwHN"
      },
      "source": [
        "The most commonly used method for strings is string.split(). This method will split the string by the indicated character and return a list:"
      ]
    },
    {
      "cell_type": "code",
      "metadata": {
        "colab": {
          "base_uri": "https://localhost:8080/"
        },
        "id": "hbIaFLFHOqik",
        "outputId": "3e817dfd-bb39-4657-a007-3c3d21d79ab7"
      },
      "source": [
        "Time = '2016-04-01 09:43:00'\n",
        "splited_list = Time.split(' ')\n",
        "date = splited_list[0]\n",
        "time = splited_list[1]\n",
        "print(date, time)\n",
        "hour = time.split(':')[0]\n",
        "print(hour)"
      ],
      "execution_count": 268,
      "outputs": [
        {
          "output_type": "stream",
          "name": "stdout",
          "text": [
            "2016-04-01 09:43:00\n",
            "09\n"
          ]
        }
      ]
    },
    {
      "cell_type": "markdown",
      "metadata": {
        "id": "9cJQGk96WyVc"
      },
      "source": [
        "We can replace parts of a string by our variable. This is called string formatting."
      ]
    },
    {
      "cell_type": "code",
      "metadata": {
        "colab": {
          "base_uri": "https://localhost:8080/"
        },
        "id": "-E_rIvv6Oqik",
        "outputId": "19533b93-d3d7-4710-868c-61bdcd83074e"
      },
      "source": [
        "my_time = 'Hour: {}, Minute:{}'.format('09','43')\n",
        "print(my_time)"
      ],
      "execution_count": 269,
      "outputs": [
        {
          "output_type": "stream",
          "name": "stdout",
          "text": [
            "Hour: 09, Minute:43\n"
          ]
        }
      ]
    },
    {
      "cell_type": "markdown",
      "metadata": {
        "id": "1_NbVldpWzAs"
      },
      "source": [
        "Another way to format a string is to use the % symbol."
      ]
    },
    {
      "cell_type": "code",
      "metadata": {
        "colab": {
          "base_uri": "https://localhost:8080/"
        },
        "id": "4rZ4rkD2Oqik",
        "outputId": "f975d4a9-80fa-4484-d3d5-d0cea188834c"
      },
      "source": [
        "print('the pi number is %f'%3.14)\n",
        "print('%s to %s'%('Welcome','Quantconnect'))\n",
        "\n",
        "\n",
        "# ++\n",
        "\n",
        "# the value between the dot and the 'f' designates the number of\n",
        "# decimal places for the float expression. Here we can appreciate\n",
        "# it rounding our float number.\n",
        "print('the pi number is %.3f'%3.14159)\n",
        "\n",
        "# A third way of string formatting is accomplised by typing 'f'\n",
        "# before the string.\n",
        "word = \"etiolate\"\n",
        "print(f\"The word \\\"{word}\\\" has {len(word)} characters.\")"
      ],
      "execution_count": 270,
      "outputs": [
        {
          "output_type": "stream",
          "name": "stdout",
          "text": [
            "the pi number is 3.140000\n",
            "Welcome to Quantconnect\n",
            "the pi number is 3.142\n",
            "The word \"etiolate\" has 8 characters.\n"
          ]
        }
      ]
    },
    {
      "cell_type": "markdown",
      "metadata": {
        "id": "v_5cocrDW3MN"
      },
      "source": [
        "# Summary\n",
        "\n",
        "Weave seen the basic data types and data structures in Python. It's important to keep practicing to become familiar with these data structures. In the next tutorial, we will cover for and while loops and logical operations in Python."
      ]
    },
    {
      "cell_type": "markdown",
      "metadata": {
        "id": "QL6dNxwCXNEt"
      },
      "source": [
        "<div align=\"center\">\n",
        "<img style=\"display: block; margin: auto;\" alt=\"photo\" src=\"https://cdn.quantconnect.com/web/i/icon.png\">\n",
        "\n",
        "Quantconnect\n",
        "\n",
        "Introduction to Financial Python\n",
        "</div>\n",
        "\n",
        "# 02 Logical Operations and Loops\n",
        "\n",
        "# Introduction\n",
        "We discussed the basic data types and data structures in Python in the last tutorial. This chapter covers logical operations and loops in Python, which are very common in programming.\n",
        "\n",
        "# Logical Operations\n",
        "Like most programming languages, Python has comparison operators:"
      ]
    },
    {
      "cell_type": "code",
      "metadata": {
        "colab": {
          "base_uri": "https://localhost:8080/"
        },
        "id": "70Guys_rOv7a",
        "outputId": "e240d1e0-197c-4542-c570-f6fd69832de3"
      },
      "source": [
        "# Comparison operators return boolean values.\n",
        "\n",
        "# == checks if the values are the same.\n",
        "print(1 == 0)\n",
        "print(1 == 1)\n",
        "# != checks if the values differ.\n",
        "print(1 != 0)\n",
        "# >= checks if the first value is greater than or equal to the second.\n",
        "print(5 >= 5)\n",
        "print(5 >= 6, end=\"\\n\"*2)\n",
        "\n",
        "\n",
        "# ++\n",
        "\n",
        "# <= checks if the first value is lesser than or equal to the second.\n",
        "print(4 <= 4.5)\n",
        "\n",
        "# > checks if the first value is greater than the second.\n",
        "print(-5 > -12)\n",
        "\n",
        "# < checks if the first value is lesser than the second.\n",
        "# Many objects support comparison, for example, characters are compered\n",
        "# using their Unicode value.\n",
        "print(\"a\" < \"b\")\n",
        "print(\"c\" < \"b\")"
      ],
      "execution_count": 271,
      "outputs": [
        {
          "output_type": "stream",
          "name": "stdout",
          "text": [
            "False\n",
            "True\n",
            "True\n",
            "True\n",
            "False\n",
            "\n",
            "True\n",
            "True\n",
            "True\n",
            "False\n"
          ]
        }
      ]
    },
    {
      "cell_type": "markdown",
      "metadata": {
        "id": "8aFHYDj-YTXt"
      },
      "source": [
        "Each statement above has a boolean value, which must be either True or False, but not both.\n",
        "\n",
        "We can combine simple statements P and Q to form complex statements using logical operators:\n",
        "\n",
        "- The statement \"P and Q\" is true if both P and Q are true, otherwise it is false.\n",
        "- The statement \"P or Q\" is false if both P and Q are false, otherwise it is true.\n",
        "- The statement \"not P\" is true if P is false, and vice versa."
      ]
    },
    {
      "cell_type": "code",
      "metadata": {
        "colab": {
          "base_uri": "https://localhost:8080/"
        },
        "id": "O5YEEcUbOv7d",
        "outputId": "db919fde-3dc0-4584-bf25-3aab60878b9a"
      },
      "source": [
        "print(2 > 1 and 3 > 2)\n",
        "print(2 > 1 and 3 < 2) \n",
        "print(2 > 1 or 3 < 2)\n",
        "print(2 < 1 and 3 < 2, end=\"\\n\"*2)\n",
        "\n",
        "# ++\n",
        "\n",
        "# Statement negation can be achieved placing 'not' at the begining\n",
        "# of the expression.\n",
        "print(not(2 > 1 and 3 > 2))\n",
        "print(not(2 > 1 and 3 < 2))\n",
        "print(not(2 > 1 or 3 < 2))\n",
        "print(not(2 < 1 and 3 < 2))"
      ],
      "execution_count": 272,
      "outputs": [
        {
          "output_type": "stream",
          "name": "stdout",
          "text": [
            "True\n",
            "False\n",
            "True\n",
            "False\n",
            "\n",
            "False\n",
            "True\n",
            "False\n",
            "True\n"
          ]
        }
      ]
    },
    {
      "cell_type": "markdown",
      "metadata": {
        "id": "Dy7yzoSXYXmL"
      },
      "source": [
        "When dealing with a very complex logical statement that involves in several statements, we can use brackets to separate and combine them."
      ]
    },
    {
      "cell_type": "code",
      "metadata": {
        "colab": {
          "base_uri": "https://localhost:8080/"
        },
        "id": "QZ-W2xJZOv7d",
        "outputId": "b72c939c-3947-44cc-bf97-a70eca8d2ebf"
      },
      "source": [
        "print((3 > 2 or 1 < 3) and (1 != 3 and 4 > 3) and\n",
        "      not (3 < 2 or 1 < 3 and (1 != 3 and 4 > 3)))\n",
        "print(3 > 2 or 1 < 3 and (1 != 3 and 4 > 3) and \n",
        "      not (3 < 2 or 1 < 3 and (1 != 3 and 4 > 3)))"
      ],
      "execution_count": 273,
      "outputs": [
        {
          "output_type": "stream",
          "name": "stdout",
          "text": [
            "False\n",
            "True\n"
          ]
        }
      ]
    },
    {
      "cell_type": "markdown",
      "metadata": {
        "id": "s95xoRYMYaPD"
      },
      "source": [
        "Comparing the above two statements, we can see that it's wise to use brackets when we make a complex logical statement.\n",
        "\n",
        "# If Statement\n",
        "An if statement executes a segment of code only if its condition is true. A standard if statement consists of 3 segments: if, elif and else."
      ]
    },
    {
      "cell_type": "markdown",
      "metadata": {
        "id": "aRzMMitAaBOL"
      },
      "source": [
        "```python\n",
        "if statement1:\n",
        "    # if the statement1 is true, execute the code here.\n",
        "    # code.....\n",
        "    # code.....\n",
        "elif statement2:\n",
        "    # if the statement 1 is false, skip the codes above to this part.\n",
        "    # code......\n",
        "    # code......\n",
        "else:\n",
        "    # if none of the above statements is True, skip to this part\n",
        "    # code......\n",
        "```"
      ]
    },
    {
      "cell_type": "markdown",
      "metadata": {
        "id": "l59R2AS8aH2K"
      },
      "source": [
        "An if statement doesn't necessarily has elif and else part. If it's not specified, the indented block of code will be executed when the condition is true, otherwise the whole if statement will be skipped."
      ]
    },
    {
      "cell_type": "code",
      "metadata": {
        "colab": {
          "base_uri": "https://localhost:8080/"
        },
        "id": "FZ5GoTXfOv7e",
        "outputId": "5a016155-de0d-41dc-c775-8e249f2ace9a"
      },
      "source": [
        "i = 0\n",
        "if i == 0:\n",
        "    print('i==0 is True')\n",
        "if i == 1:\n",
        "    print(\"This won't be printed.\")"
      ],
      "execution_count": 274,
      "outputs": [
        {
          "output_type": "stream",
          "name": "stdout",
          "text": [
            "i==0 is True\n"
          ]
        }
      ]
    },
    {
      "cell_type": "markdown",
      "metadata": {
        "id": "nPNW-l5eaJn8"
      },
      "source": [
        "As we mentioned above, we can write some complex statements here:"
      ]
    },
    {
      "cell_type": "code",
      "metadata": {
        "colab": {
          "base_uri": "https://localhost:8080/"
        },
        "id": "gh-U6nMzOv7e",
        "outputId": "954afb71-01ee-4006-8c5b-e8fd1c747d09"
      },
      "source": [
        "p = 1 > 0\n",
        "q = 2 > 3\n",
        "if p and q:\n",
        "    # q is false, so the next line is ignored.\n",
        "    print('p and q is true')\n",
        "elif p and not q:\n",
        "    # p is true and q is false, so the next line is run and \n",
        "    # the remaining elif and else segments are ignored.\n",
        "    print('q is false')\n",
        "elif q and not p:\n",
        "    print('p is false')\n",
        "else:\n",
        "    print('None of p and q is true')\n",
        "\n",
        "\n",
        "# ++\n",
        "\n",
        "# A one line if-else statement can be implemented using the ternary \n",
        "# operator, which follows the structure: x if condition else y.\n",
        "print(\"p and q is true\") if p and q else print(\"p is false or q is false\")"
      ],
      "execution_count": 275,
      "outputs": [
        {
          "output_type": "stream",
          "name": "stdout",
          "text": [
            "q is false\n",
            "p is false or q is false\n"
          ]
        }
      ]
    },
    {
      "cell_type": "markdown",
      "metadata": {
        "id": "tgRDwiAsaMOL"
      },
      "source": [
        "# Loop Structure\n",
        "Loops are an essential part of programming. The \"for\" and \"while\" loops run a block of code repeatedly.\n",
        "\n",
        "## While Loop\n",
        "A \"while\" loop will run repeatedly until a certain condition has been met."
      ]
    },
    {
      "cell_type": "code",
      "metadata": {
        "colab": {
          "base_uri": "https://localhost:8080/"
        },
        "id": "uQLau8d5Ov7f",
        "outputId": "52d7c5f0-f0dd-4bcb-d037-870868485dd8"
      },
      "source": [
        "i = 0\n",
        "# 5 iterations of the command i += 1 are needed \n",
        "# for i to fail the condition, thus stoping the loop.\n",
        "while i < 5:\n",
        "    print(i)\n",
        "    i += 1 "
      ],
      "execution_count": 276,
      "outputs": [
        {
          "output_type": "stream",
          "name": "stdout",
          "text": [
            "0\n",
            "1\n",
            "2\n",
            "3\n",
            "4\n"
          ]
        }
      ]
    },
    {
      "cell_type": "markdown",
      "metadata": {
        "id": "ydLddFAPaTOE"
      },
      "source": [
        "When making a while loop, we need to ensure that something changes from iteration to iteration so that the while loop will terminate, otherwise, it will run forever. Here we used i += 1 (short for i = i + 1) to make i larger after each iteration. This is the most commonly used method to control a while loop.\n",
        "\n",
        "## For Loop\n",
        "A \"for\" loop will iterate over a sequence of value and terminate when the sequence has ended."
      ]
    },
    {
      "cell_type": "code",
      "metadata": {
        "colab": {
          "base_uri": "https://localhost:8080/"
        },
        "id": "kt8Ie8u1Ov7f",
        "outputId": "88aff40f-0ab3-47c8-868a-469644e0832e"
      },
      "source": [
        "print(\"Iteration over list:\")\n",
        "for i in [1,2,3,4,5]:\n",
        "    print(i)\n",
        "\n",
        "\n",
        "# ++\n",
        "\n",
        "# The sequence in question can be any iterable.\n",
        "my_tuple = (1,2,3)\n",
        "my_str = \"123\"\n",
        "my_dict = {'a':1, 'b':2, 'c':3}\n",
        "my_set = {1, 2, 3}\n",
        "my_map = map(int, my_tuple)\n",
        "\n",
        "print(\"Iteration over tuple:\")\n",
        "for i in my_tuple:\n",
        "    print(i, end=\" \")\n",
        "print(\"\\nIteration over string:\")\n",
        "for i in my_str:\n",
        "    print(i, end=\" \")\n",
        "print(\"\\nIteration over dictionary keys:\")\n",
        "for i in my_dict:\n",
        "    print(i, end=\" \")\n",
        "print(\"\\nIteration over set:\")\n",
        "for i in my_set:\n",
        "    print(i, end=\" \")\n",
        "print(\"\\nIteration over map object:\")\n",
        "for i in my_map:\n",
        "    print(i, end=\" \")"
      ],
      "execution_count": 277,
      "outputs": [
        {
          "output_type": "stream",
          "name": "stdout",
          "text": [
            "Iteration over list:\n",
            "1\n",
            "2\n",
            "3\n",
            "4\n",
            "5\n",
            "Iteration over tuple:\n",
            "1 2 3 \n",
            "Iteration over string:\n",
            "1 2 3 \n",
            "Iteration over dictionary keys:\n",
            "a b c \n",
            "Iteration over set:\n",
            "1 2 3 \n",
            "Iteration over map object:\n",
            "1 2 3 "
          ]
        }
      ]
    },
    {
      "cell_type": "markdown",
      "metadata": {
        "id": "yWStqpreaX-T"
      },
      "source": [
        "We can also add if statements in a for loop. Here is a real example from our pairs trading algorithm:"
      ]
    },
    {
      "cell_type": "code",
      "metadata": {
        "colab": {
          "base_uri": "https://localhost:8080/"
        },
        "id": "kElmffvFOv7f",
        "outputId": "c2a4b5ac-6a53-472e-fe94-c25a9e2c1e6c"
      },
      "source": [
        "stocks = ['AAPL','GOOG','IBM','FB','F','V', 'G', 'GE']\n",
        "selected = ['AAPL','IBM']\n",
        "new_list = []\n",
        "# This code creates a list of stocks' elements that aren't part \n",
        "# of the selected list.\n",
        "for i in stocks:\n",
        "    if i not in selected:\n",
        "        new_list.append(i)\n",
        "print(stocks)\n",
        "\n",
        "\n",
        "# ++\n",
        "\n",
        "print(\"Not selected stocks:\", new_list)"
      ],
      "execution_count": 278,
      "outputs": [
        {
          "output_type": "stream",
          "name": "stdout",
          "text": [
            "['AAPL', 'GOOG', 'IBM', 'FB', 'F', 'V', 'G', 'GE']\n",
            "Not selected stocks: ['GOOG', 'FB', 'F', 'V', 'G', 'GE']\n"
          ]
        }
      ]
    },
    {
      "cell_type": "markdown",
      "metadata": {
        "id": "wb2hry9dahE0"
      },
      "source": [
        "Here we iterated all the elements in the list 'stocks'. Later in this chapter, we will introduce a smarter way to do this, which is just a one-line code.\n",
        "\n",
        "## Break and continue\n",
        "These are two commonly used commands in a for loop. If \"break\" is triggered while a loop is executing, the loop will terminate immediately:"
      ]
    },
    {
      "cell_type": "code",
      "metadata": {
        "colab": {
          "base_uri": "https://localhost:8080/"
        },
        "id": "yF5wMVItOv7g",
        "outputId": "4798554d-48d0-4658-c98c-4a70dce27a9a"
      },
      "source": [
        "stocks = ['AAPL','GOOG','IBM','FB','F','V', 'G', 'GE']\n",
        "for i in stocks:\n",
        "    print(i)\n",
        "    # The for loop will be terminated when as soon as i \n",
        "    # is assigned to be 'FB'.\n",
        "    if i == 'FB':\n",
        "        break"
      ],
      "execution_count": 279,
      "outputs": [
        {
          "output_type": "stream",
          "name": "stdout",
          "text": [
            "AAPL\n",
            "GOOG\n",
            "IBM\n",
            "FB\n"
          ]
        }
      ]
    },
    {
      "cell_type": "markdown",
      "metadata": {
        "id": "R0toxyp3ao0T"
      },
      "source": [
        "The \"continue\" command tells the loop to end this iteration and skip to the next iteration:"
      ]
    },
    {
      "cell_type": "code",
      "metadata": {
        "colab": {
          "base_uri": "https://localhost:8080/"
        },
        "id": "Stg-CH6IOv7g",
        "outputId": "56a4b4eb-21f8-494f-d0d8-4037202db968"
      },
      "source": [
        "stocks = ['AAPL','GOOG','IBM','FB','F','V', 'G', 'GE']\n",
        "for i in stocks:\n",
        "    # When 'FB' is assigned to the variable i, the lines of the for\n",
        "    # loop below the continue will be skipped.\n",
        "    if i == 'FB':\n",
        "        continue\n",
        "    print(i)\n",
        "\n",
        "\n",
        "# ++\n",
        "\n",
        "# The following code will print all the positive numbers in a list by\n",
        "# skipping the print instruction when facing a negative number or 0.\n",
        "my_nums = [-2, 3.3, 4, 0, 34, -2, -83, 2.99993, -0.5, -20, 8, 39]\n",
        "print(\"Positive numbers:\")\n",
        "for i in my_nums:\n",
        "  if i <= 0:\n",
        "    continue\n",
        "  print(i, end=\" \")"
      ],
      "execution_count": 280,
      "outputs": [
        {
          "output_type": "stream",
          "name": "stdout",
          "text": [
            "AAPL\n",
            "GOOG\n",
            "IBM\n",
            "F\n",
            "V\n",
            "G\n",
            "GE\n",
            "Positive numbers:\n",
            "3.3 4 34 2.99993 8 39 "
          ]
        }
      ]
    },
    {
      "cell_type": "markdown",
      "metadata": {
        "id": "4NusvdhBaxpZ"
      },
      "source": [
        "# List Comprehension\n",
        "List comprehension is a Pythonic way to create lists. Common applications are to make new lists where each element is the result of some operations applied to each member of another sequence. For example, if we want to create a list of squares using for loop:"
      ]
    },
    {
      "cell_type": "code",
      "metadata": {
        "colab": {
          "base_uri": "https://localhost:8080/"
        },
        "id": "bdxxeOABOv7h",
        "outputId": "7ae0c6f2-d41a-4ff5-cb3a-92a5dfafc097"
      },
      "source": [
        "squares = []\n",
        "for i in [1,2,3,4,5]:\n",
        "    squares.append(i**2)\n",
        "print(squares)"
      ],
      "execution_count": 281,
      "outputs": [
        {
          "output_type": "stream",
          "name": "stdout",
          "text": [
            "[1, 4, 9, 16, 25]\n"
          ]
        }
      ]
    },
    {
      "cell_type": "markdown",
      "metadata": {
        "id": "--KliJBOa1CC"
      },
      "source": [
        "Using list comprehension:"
      ]
    },
    {
      "cell_type": "code",
      "metadata": {
        "colab": {
          "base_uri": "https://localhost:8080/"
        },
        "id": "440-yjG8Ov7h",
        "outputId": "baa28dd5-3757-4a82-8454-10ce4044463e"
      },
      "source": [
        "list = [1,2,3,4,5]\n",
        "squares = [x**2 for x in list]\n",
        "print(squares)\n",
        "\n",
        "\n",
        "# ++\n",
        "\n",
        "# Getting the built-in definition of list\n",
        "del list"
      ],
      "execution_count": 282,
      "outputs": [
        {
          "output_type": "stream",
          "name": "stdout",
          "text": [
            "[1, 4, 9, 16, 25]\n"
          ]
        }
      ]
    },
    {
      "cell_type": "markdown",
      "metadata": {
        "id": "uMuCfR3ya3zT"
      },
      "source": [
        "Recall the example above where we used a for loop to select stocks. Here we use list comprehension:"
      ]
    },
    {
      "cell_type": "code",
      "metadata": {
        "colab": {
          "base_uri": "https://localhost:8080/"
        },
        "id": "ZGtCtog2Ov7h",
        "outputId": "3ce66dcf-14c7-4b58-f7aa-923534c68339"
      },
      "source": [
        "stocks = ['AAPL','GOOG','IBM','FB','F','V', 'G', 'GE']\n",
        "selected = ['AAPL','IBM']\n",
        "new_list = [x for x in stocks if x in selected]\n",
        "print(new_list)\n",
        "\n",
        "\n",
        "# ++\n",
        "\n",
        "# Naturally, this works on other iterable objects.\n",
        "# The code below turns a string into a list of characters \n",
        "# omitting the spaces.\n",
        "my_str = \"that sky is the wrong color\"\n",
        "print([x for x in my_str if x != \" \"])\n",
        "\n",
        "# Here we have an easy way of creating a 4x4 matrix of zeros.\n",
        "print([[0 for j in range(4)] for i in range(4)])"
      ],
      "execution_count": 283,
      "outputs": [
        {
          "output_type": "stream",
          "name": "stdout",
          "text": [
            "['AAPL', 'IBM']\n",
            "['t', 'h', 'a', 't', 's', 'k', 'y', 'i', 's', 't', 'h', 'e', 'w', 'r', 'o', 'n', 'g', 'c', 'o', 'l', 'o', 'r']\n",
            "[[0, 0, 0, 0], [0, 0, 0, 0], [0, 0, 0, 0], [0, 0, 0, 0]]\n"
          ]
        }
      ]
    },
    {
      "cell_type": "markdown",
      "metadata": {
        "id": "EPeUv6Lia5oD"
      },
      "source": [
        "A list comprehension consists of square brackets containing an expression followed by a \"for\" clause, and possibly \"for\" or \"if\" clauses. For example:"
      ]
    },
    {
      "cell_type": "code",
      "metadata": {
        "colab": {
          "base_uri": "https://localhost:8080/"
        },
        "id": "O1AMB5d7Ov7i",
        "outputId": "f7ba7108-5a70-4cdd-a6bd-f17222895f2c"
      },
      "source": [
        "print([(x, y) for x in [1,2,3] for y in [3,1,4] if x != y])\n",
        "print([str(x)+' vs '+str(y) for x in ['AAPL','GOOG','IBM','FB'] for y in ['F','V','G','GE'] if x!=y])\n",
        "\n",
        "\n",
        "# ++\n",
        "\n",
        "# Below, an example containing all the integers from 2 to 10 paired\n",
        "# with their positive, greater than 2, divisors.\n",
        "print([(x,y) for x in range(2,11) for y in range(2,11) if x % y == 0])"
      ],
      "execution_count": 284,
      "outputs": [
        {
          "output_type": "stream",
          "name": "stdout",
          "text": [
            "[(1, 3), (1, 4), (2, 3), (2, 1), (2, 4), (3, 1), (3, 4)]\n",
            "['AAPL vs F', 'AAPL vs V', 'AAPL vs G', 'AAPL vs GE', 'GOOG vs F', 'GOOG vs V', 'GOOG vs G', 'GOOG vs GE', 'IBM vs F', 'IBM vs V', 'IBM vs G', 'IBM vs GE', 'FB vs F', 'FB vs V', 'FB vs G', 'FB vs GE']\n",
            "[(2, 2), (3, 3), (4, 2), (4, 4), (5, 5), (6, 2), (6, 3), (6, 6), (7, 7), (8, 2), (8, 4), (8, 8), (9, 3), (9, 9), (10, 2), (10, 5), (10, 10)]\n"
          ]
        }
      ]
    },
    {
      "cell_type": "markdown",
      "metadata": {
        "id": "jJpvq-o4a8P7"
      },
      "source": [
        "List comprehension is an elegant way to organize one or more for loops when creating a list.\n",
        "\n",
        "# Summary\n",
        "This chapter has introduced logical operations, loops, and list comprehension. In the next chapter, we will introduce functions and object-oriented programming, which will enable us to make our codes clean and versatile."
      ]
    },
    {
      "cell_type": "markdown",
      "metadata": {
        "id": "Tef_X2wJbdhn"
      },
      "source": [
        "<div align=\"center\">\n",
        "<img style=\"display: block; margin: auto;\" alt=\"photo\" src=\"https://cdn.quantconnect.com/web/i/icon.png\">\n",
        "\n",
        "Quantconnect\n",
        "\n",
        "Introduction to Financial Python\n",
        "</div>\n",
        "\n",
        "# 03 Functions and Objective-Oriented Programming\n",
        "\n",
        "# Introduction\n",
        "\n",
        "In the last tutorial we introduced logical operations, loops and list comprehension. We will introduce functions and object-oriented programming in this chapter, which will enable us to build complex algorithms in more flexible ways.\n",
        "\n",
        "# Functions\n",
        "A function is a reusable block of code. We can use a function to output a value, or do anything else we want. We can easily define our own function by using the keyword \"def\"."
      ]
    },
    {
      "cell_type": "code",
      "metadata": {
        "colab": {
          "base_uri": "https://localhost:8080/"
        },
        "id": "eE_NkTiSO2PO",
        "outputId": "a4df8554-54a7-4621-957f-3ac371fd6039"
      },
      "source": [
        "def product(x,y):\n",
        "    # Returns the product of x and y \n",
        "    # return specifies the output of the function\n",
        "    return x*y\n",
        "print(product(2,3))\n",
        "print(product(5,10))\n",
        "\n",
        "\n",
        "# ++\n",
        "\n",
        "# Implicit values can be implemented so as not to have to always pass \n",
        "# certain arguments to the function, as shown in the next example:\n",
        "\n",
        "# When given only one argument x, the root function returns an \n",
        "# approximation of the square root of x. On the other hand, when a second\n",
        "# argument y is provided, the function returns the approximate y-th root \n",
        "# of x.\n",
        "def root(x, root=2):\n",
        "    \"\"\"\n",
        "    Returns the root-th root of x.\n",
        "    \"\"\"\n",
        "    return x**(1/root)\n",
        "\n",
        "print(root(25))\n",
        "print(root(64, 3))"
      ],
      "execution_count": 285,
      "outputs": [
        {
          "output_type": "stream",
          "name": "stdout",
          "text": [
            "6\n",
            "50\n",
            "5.0\n",
            "3.9999999999999996\n"
          ]
        }
      ]
    },
    {
      "cell_type": "markdown",
      "metadata": {
        "id": "4oRU_dVJbsdD"
      },
      "source": [
        "The keyword \"def\" is followed by the function name and the parenthesized list of formal parameters. The statements that form the body of the function start at the next line, and must be indented. The product() function above has \"x\" and \"y\" as its parameters. A function doesn't necessarily have parameters:"
      ]
    },
    {
      "cell_type": "code",
      "metadata": {
        "colab": {
          "base_uri": "https://localhost:8080/"
        },
        "id": "JhdWVLbUO2PQ",
        "outputId": "76f6f86f-6806-4eca-a1d1-d1f155e4a72d"
      },
      "source": [
        "def say_hi():\n",
        "    \"\"\"\n",
        "    Prints 'Welcome to QuantConnect'\n",
        "    \"\"\"\n",
        "    print('Welcome to QuantConnect')\n",
        "say_hi()"
      ],
      "execution_count": 286,
      "outputs": [
        {
          "output_type": "stream",
          "name": "stdout",
          "text": [
            "Welcome to QuantConnect\n"
          ]
        }
      ]
    },
    {
      "cell_type": "markdown",
      "metadata": {
        "id": "lHwqVpWVb1Jr"
      },
      "source": [
        "# Built-in Function\n",
        "**range()** is a function that creates a list containing an arithmetic sequence. It's often used in for loops. The arguments must be integers. If the \"step\" argument is omitted, it defaults to 1."
      ]
    },
    {
      "cell_type": "code",
      "metadata": {
        "colab": {
          "base_uri": "https://localhost:8080/"
        },
        "id": "VVOTELcIO2PQ",
        "outputId": "54c684d5-d72c-464f-c16f-6bd4094e8926"
      },
      "source": [
        "print(range(10))\n",
        "print(range(1,11))\n",
        "print(range(1,11,2))\n",
        "\n",
        "# list and touple allow the sequence to be easily visualized. \n",
        "print(list(range(10)))\n",
        "print(list(range(1,11)))\n",
        "print(tuple(range(1,11,2)))\n",
        "\n",
        "\n",
        "# ++\n",
        "\n",
        "# Step can be negative.\n",
        "print(list(range(10, 0, -1)))\n",
        "\n",
        "# The resultant sequence is iterable, here chr turns integers \n",
        "# into characters.\n",
        "print(tuple(map(chr, range(65, 90, 2))))"
      ],
      "execution_count": 287,
      "outputs": [
        {
          "output_type": "stream",
          "name": "stdout",
          "text": [
            "range(0, 10)\n",
            "range(1, 11)\n",
            "range(1, 11, 2)\n",
            "[0, 1, 2, 3, 4, 5, 6, 7, 8, 9]\n",
            "[1, 2, 3, 4, 5, 6, 7, 8, 9, 10]\n",
            "(1, 3, 5, 7, 9)\n",
            "[10, 9, 8, 7, 6, 5, 4, 3, 2, 1]\n",
            "('A', 'C', 'E', 'G', 'I', 'K', 'M', 'O', 'Q', 'S', 'U', 'W', 'Y')\n"
          ]
        }
      ]
    },
    {
      "cell_type": "markdown",
      "metadata": {
        "id": "PD0cSgiwcQ4L"
      },
      "source": [
        "**len()** is another function used together with range() to create a for loop. This function returns the length of an object. The argument must be a sequence or a collection."
      ]
    },
    {
      "cell_type": "code",
      "metadata": {
        "colab": {
          "base_uri": "https://localhost:8080/"
        },
        "id": "Hg18c7v-O2PR",
        "outputId": "756da529-2802-4b0a-9109-62620e711f07"
      },
      "source": [
        "tickers = ['AAPL','GOOG','IBM','FB','F','V', 'G', 'GE']\n",
        "print('The length of tickers is {}'.format(len(tickers)))\n",
        "# Traversing a list using its length.\n",
        "for i in range(len(tickers)):\n",
        "    print(tickers[i])"
      ],
      "execution_count": 288,
      "outputs": [
        {
          "output_type": "stream",
          "name": "stdout",
          "text": [
            "The length of tickers is 8\n",
            "AAPL\n",
            "GOOG\n",
            "IBM\n",
            "FB\n",
            "F\n",
            "V\n",
            "G\n",
            "GE\n"
          ]
        }
      ]
    },
    {
      "cell_type": "markdown",
      "metadata": {
        "id": "OIQSuub1cWgi"
      },
      "source": [
        "Note: If you want to print only the tickers without those numbers, then simply write \"for ticker in tickers: print ticker\"\n",
        "\n",
        "**map(**) is a function that applies a specific function to every item of a sequence or collection, and returns a list of the results."
      ]
    },
    {
      "cell_type": "markdown",
      "metadata": {
        "id": "pqPuspeG5HAi"
      },
      "source": [
        "Because list at the moment is [1,2,3,4,5] and overwriting list() from builtins we del list"
      ]
    },
    {
      "cell_type": "code",
      "metadata": {
        "colab": {
          "base_uri": "https://localhost:8080/"
        },
        "id": "caV9c-qk4_eZ",
        "outputId": "1ed68c54-918a-4d5e-9872-77b458d066be"
      },
      "source": [
        "list = [1,2,3,4,5]\n",
        "print(list)\n",
        "del list\n",
        "list"
      ],
      "execution_count": 289,
      "outputs": [
        {
          "output_type": "stream",
          "name": "stdout",
          "text": [
            "[1, 2, 3, 4, 5]\n"
          ]
        },
        {
          "output_type": "execute_result",
          "data": {
            "text/plain": [
              "list"
            ]
          },
          "metadata": {},
          "execution_count": 289
        }
      ]
    },
    {
      "cell_type": "code",
      "metadata": {
        "colab": {
          "base_uri": "https://localhost:8080/"
        },
        "id": "lJBs5ECT4mSq",
        "outputId": "27e0956a-0bc2-41e6-e99f-a5d19be75455"
      },
      "source": [
        "tickers = ['AAPL','GOOG','IBM','FB','F','V', 'G', 'GE']\n",
        "# The following code turns a map object into a list, which gives \n",
        "# a handy visual representation when printed.\n",
        "list(map(len,tickers))"
      ],
      "execution_count": 290,
      "outputs": [
        {
          "output_type": "execute_result",
          "data": {
            "text/plain": [
              "[4, 4, 3, 2, 1, 1, 1, 2]"
            ]
          },
          "metadata": {},
          "execution_count": 290
        }
      ]
    },
    {
      "cell_type": "code",
      "metadata": {
        "colab": {
          "base_uri": "https://localhost:8080/"
        },
        "id": "78DyKVOyO2PR",
        "outputId": "f8177688-a09e-4795-971d-b3c2d82fd503"
      },
      "source": [
        "tickers = ['AAPL','GOOG','IBM','FB','F','V', 'G', 'GE']\n",
        "print(list(map(len,tickers)))\n",
        "\n",
        "\n",
        "# ++\n",
        "\n",
        "# Example with a tuple and a set, the later deals with duplicates.\n",
        "print(tuple(map(len,tickers)))\n",
        "print(set(map(len,tickers)))"
      ],
      "execution_count": 291,
      "outputs": [
        {
          "output_type": "stream",
          "name": "stdout",
          "text": [
            "[4, 4, 3, 2, 1, 1, 1, 2]\n",
            "(4, 4, 3, 2, 1, 1, 1, 2)\n",
            "{1, 2, 3, 4}\n"
          ]
        }
      ]
    },
    {
      "cell_type": "markdown",
      "metadata": {
        "id": "mvr06UM7ca7b"
      },
      "source": [
        "The **lambda operator** is a way to create small anonymous functions. These functions are just needed where they have been created. For example:"
      ]
    },
    {
      "cell_type": "code",
      "metadata": {
        "colab": {
          "base_uri": "https://localhost:8080/"
        },
        "id": "pAEHADYXO2PR",
        "outputId": "cc2d8348-8b90-4d2a-ece0-a878a9c3c438"
      },
      "source": [
        "list(map(lambda x: x**2, range(10)))\n",
        "\n",
        "\n",
        "# ++\n",
        "\n",
        "def distance(x1, y1, x2=0, y2=0):\n",
        "    \"\"\"\n",
        "    Returns the distance between two points (x1, y1) and (x2, y2).\n",
        "    When given two parameters, returns distance to the origin.\n",
        "    \"\"\"\n",
        "    return ((x1 - x2)**2 + (y1 - y2)**2)**(1/2)\n",
        "\n",
        "# The following code prints a list of the distances between the origin\n",
        "# and several points, namely: (0,0), (1,0), (2,0), (3,0), (4,0), (5,0), \n",
        "# (6,0), (7,0), (8,0), (9,0) and (10,0).\n",
        "# Notice how y1 is frozen to be 0.\n",
        "print(list(map(lambda x: distance(x, 0), range(11))))"
      ],
      "execution_count": 292,
      "outputs": [
        {
          "output_type": "stream",
          "name": "stdout",
          "text": [
            "[0.0, 1.0, 2.0, 3.0, 4.0, 5.0, 6.0, 7.0, 8.0, 9.0, 10.0]\n"
          ]
        }
      ]
    },
    {
      "cell_type": "markdown",
      "metadata": {
        "id": "Mgixpxomcj3T"
      },
      "source": [
        "map() can be applied to more than one list. The lists have to have the same length."
      ]
    },
    {
      "cell_type": "code",
      "metadata": {
        "colab": {
          "base_uri": "https://localhost:8080/"
        },
        "id": "HtckhAaJO2PS",
        "outputId": "895df987-8ed3-4fac-a4d4-ec6c163bee51"
      },
      "source": [
        "list(map(lambda x, y: x+y, [1,2,3,4,5],[5,4,3,2,1]))\n",
        "\n",
        "\n",
        "# ++\n",
        "\n",
        "# Here we freeze x2 and y2 to be 3 and 8 respectively, so the\n",
        "# result is a list of the distances between the point (3,8) and\n",
        "# the points (1,5), (2,3), (3,1), (4, -1) and (5, -3).\n",
        "print(list(map(lambda x, y: distance(x, y, 3, 8), \n",
        "               range(1, 6), \n",
        "               range(5, -4, -2))))"
      ],
      "execution_count": 293,
      "outputs": [
        {
          "output_type": "stream",
          "name": "stdout",
          "text": [
            "[3.605551275463989, 5.0990195135927845, 7.0, 9.055385138137417, 11.180339887498949]\n"
          ]
        }
      ]
    },
    {
      "cell_type": "markdown",
      "metadata": {
        "id": "ZDnMTH-KcklT"
      },
      "source": [
        "**sorted()** takes a list or set and returns a new sorted list"
      ]
    },
    {
      "cell_type": "code",
      "metadata": {
        "colab": {
          "base_uri": "https://localhost:8080/"
        },
        "id": "P0sHUMFWO2PS",
        "outputId": "89fc2b0f-f1b7-495e-c3e3-b3ba4e9b9fa4"
      },
      "source": [
        "print(sorted([5,2,3,4,1]))\n",
        "\n",
        "# ++\n",
        "\n",
        "# Sorting tuples.\n",
        "print(sorted((5,2,3,4,1)))\n",
        "# Sorting sets.\n",
        "print(sorted({5,2,3,4,1}))"
      ],
      "execution_count": 294,
      "outputs": [
        {
          "output_type": "stream",
          "name": "stdout",
          "text": [
            "[1, 2, 3, 4, 5]\n",
            "[1, 2, 3, 4, 5]\n",
            "[1, 2, 3, 4, 5]\n"
          ]
        }
      ]
    },
    {
      "cell_type": "markdown",
      "metadata": {
        "id": "-N5_EDOFcnsc"
      },
      "source": [
        "We can add a \"key\" parameter to specify a function to be called on each list element prior to making comparisons. For example:"
      ]
    },
    {
      "cell_type": "code",
      "metadata": {
        "colab": {
          "base_uri": "https://localhost:8080/"
        },
        "id": "0i3peZ0bO2PS",
        "outputId": "f64bdd69-61e4-47bc-d0f3-403d7a6f8096"
      },
      "source": [
        "price_list = [('AAPL',144.09),('GOOG',911.71),('MSFT',69),('FB',150),('WMT',75.32)]\n",
        "print(sorted(price_list, key = lambda x: x[1]))\n",
        "\n",
        "\n",
        "# ++\n",
        "\n",
        "# Strings are sorted lexicographically, as we can see when passing\n",
        "# a string to key:\n",
        "print(sorted(price_list, key = lambda x: x[0]))\n",
        "\n",
        "# Here the key is the length of the first element in every tuple, so sorting\n",
        "# will result in a list with the shortest word at the beginning.\n",
        "print(sorted(price_list, key = lambda x: len(x[0])))"
      ],
      "execution_count": 295,
      "outputs": [
        {
          "output_type": "stream",
          "name": "stdout",
          "text": [
            "[('MSFT', 69), ('WMT', 75.32), ('AAPL', 144.09), ('FB', 150), ('GOOG', 911.71)]\n",
            "[('AAPL', 144.09), ('FB', 150), ('GOOG', 911.71), ('MSFT', 69), ('WMT', 75.32)]\n",
            "[('FB', 150), ('WMT', 75.32), ('AAPL', 144.09), ('GOOG', 911.71), ('MSFT', 69)]\n"
          ]
        }
      ]
    },
    {
      "cell_type": "markdown",
      "metadata": {
        "id": "yun2zptKcxe_"
      },
      "source": [
        "By default the values are sorted by ascending order. We can change it to descending by adding an optional parameter \"reverse'."
      ]
    },
    {
      "cell_type": "code",
      "metadata": {
        "colab": {
          "base_uri": "https://localhost:8080/"
        },
        "id": "dEZqdl94O2PT",
        "outputId": "ee6d3245-a7a4-401b-9150-5921ccacee10"
      },
      "source": [
        "price_list = [('AAPL',144.09),('GOOG',911.71),('MSFT',69),('FB',150),('WMT',75.32)]\n",
        "print(sorted(price_list, key = lambda x: x[1], reverse = True))\n",
        "\n",
        "\n",
        "# ++\n",
        "\n",
        "# Inverse lexicographic order (z-a):\n",
        "print(sorted(price_list, key = lambda x: x[0], reverse = True))"
      ],
      "execution_count": 296,
      "outputs": [
        {
          "output_type": "stream",
          "name": "stdout",
          "text": [
            "[('GOOG', 911.71), ('FB', 150), ('AAPL', 144.09), ('WMT', 75.32), ('MSFT', 69)]\n",
            "[('WMT', 75.32), ('MSFT', 69), ('GOOG', 911.71), ('FB', 150), ('AAPL', 144.09)]\n"
          ]
        }
      ]
    },
    {
      "cell_type": "markdown",
      "metadata": {
        "id": "OA2wYAa0c6Dn"
      },
      "source": [
        "Lists also have a function list.sort(). This function takes the same \"key\" and \"reverse\" arguments as sorted(), but it doesn't return a new list."
      ]
    },
    {
      "cell_type": "code",
      "metadata": {
        "colab": {
          "base_uri": "https://localhost:8080/"
        },
        "id": "pG9VQCLnO2PT",
        "outputId": "05fa1522-a948-42ec-8a6b-134fcfc72ca0"
      },
      "source": [
        "price_list = [('AAPL',144.09),('GOOG',911.71),('MSFT',69),('FB',150),('WMT',75.32)]\n",
        "price_list.sort(key = lambda x: x[1])\n",
        "print(price_list)"
      ],
      "execution_count": 297,
      "outputs": [
        {
          "output_type": "stream",
          "name": "stdout",
          "text": [
            "[('MSFT', 69), ('WMT', 75.32), ('AAPL', 144.09), ('FB', 150), ('GOOG', 911.71)]\n"
          ]
        }
      ]
    },
    {
      "cell_type": "markdown",
      "metadata": {
        "id": "mxljL1W1c_c5"
      },
      "source": [
        "# Object-Oriented Programming\n",
        "Python is an object-oriented programming language. It's important to understand the concept of \"objects\" because almost every kind of data from QuantConnect API is an object.\n",
        "\n",
        "## Class\n",
        "A class is a type of data, just like a string, float, or list. When we create an object of that data type, we call it an instance of a class.\n",
        "\n",
        "In Python, everything is an object - everything is an instance of some class. The data stored inside an object are called attributes, and the functions which are associated with the object are called methods.\n",
        "\n",
        "For example, as mentioned above, a list is an object of the \"list\" class, and it has a method list.sort().\n",
        "\n",
        "We can create our own objects by defining a class. We would do this when it's helpful to group certain functions together. For example, we define a class named \"Stock\" here:"
      ]
    },
    {
      "cell_type": "code",
      "metadata": {
        "id": "zC4Y4PgDO2PT"
      },
      "source": [
        "class stock:\n",
        "    def __init__(self, ticker, open, close, volume):\n",
        "        \"\"\"\n",
        "        Constructor: initializes every instance of the class.\n",
        "        \"\"\"\n",
        "        self.ticker = ticker\n",
        "        self.open = open\n",
        "        self.close = close\n",
        "        self.volume = volume\n",
        "        self.rate_return = float(close)/open - 1\n",
        " \n",
        "    def update(self, open, close):\n",
        "        \"\"\"\n",
        "        Example of a method that updates instance variables.\n",
        "        \"\"\"\n",
        "        self.open = open\n",
        "        self.close = close\n",
        "        self.rate_return = float(self.close)/self.open - 1\n",
        " \n",
        "    def print_return(self):\n",
        "        print(self.rate_return)"
      ],
      "execution_count": 298,
      "outputs": []
    },
    {
      "cell_type": "markdown",
      "metadata": {
        "id": "rV06INT5dETi"
      },
      "source": [
        "The \"Stock\" class has attributes \"ticker\", \"open\", \"close\", \"volume\" and \"rate_return\". Inside the class body, the first method is called __init__, which is a special method. When we create a new instance of the class, the __init__ method is immediately executed with all the parameters that we pass to the \"Stock\" object. The purpose of this method is to set up a new \"Stock\" object using data we have provided.\n",
        "\n",
        "Here we create two Stock objects named \"apple\" and \"google\"."
      ]
    },
    {
      "cell_type": "code",
      "metadata": {
        "id": "8tIpNk93O2PU"
      },
      "source": [
        "apple = stock('AAPL', 143.69, 144.09, 20109375)\n",
        "google = stock('GOOG', 898.7, 911.7, 1561616)"
      ],
      "execution_count": 299,
      "outputs": []
    },
    {
      "cell_type": "markdown",
      "metadata": {
        "id": "VxmELNiHdPKS"
      },
      "source": [
        "Stock objects also have two other methods: update() and print_return(). We can access the attribues of a Stock object and call its methods:"
      ]
    },
    {
      "cell_type": "code",
      "metadata": {
        "colab": {
          "base_uri": "https://localhost:8080/"
        },
        "id": "SsiIkmekO2PU",
        "outputId": "b0cd2109-a213-4542-e330-f6a7a7efd75e"
      },
      "source": [
        "print(apple.ticker)\n",
        "# The following lines call the stock class methods print_return\n",
        "# and update passing google as the first argument.\n",
        "google.print_return()\n",
        "google.update(912.8,913.4)\n",
        "google.print_return()"
      ],
      "execution_count": 300,
      "outputs": [
        {
          "output_type": "stream",
          "name": "stdout",
          "text": [
            "AAPL\n",
            "0.014465338822744034\n",
            "0.0006573181419806673\n"
          ]
        }
      ]
    },
    {
      "cell_type": "markdown",
      "metadata": {
        "id": "Q8fl7keNdVKF"
      },
      "source": [
        "By calling the update() function, we updated the open and close prices of a stock. Please note that when we use the attributes or call the methods **inside a class**, we need to specify them as self.attribute or self.method(), otherwise Python will deem them as global variables and thus raise an error.\n",
        "\n",
        "We can add an attribute to an object anywhere:"
      ]
    },
    {
      "cell_type": "code",
      "metadata": {
        "colab": {
          "base_uri": "https://localhost:8080/"
        },
        "id": "rO4OLnqOO2PU",
        "outputId": "74ee080a-3467-45cd-c8bd-9fb4666ae526"
      },
      "source": [
        "# Adding an atribute to the apple object outside the class.\n",
        "apple.ceo = 'Tim Cook'\n",
        "print(apple.ceo)\n",
        "\n",
        "\n",
        "# ++\n",
        "\n",
        "# Adding a method to the apple object outside the class.\n",
        "def difference(a, b):\n",
        "    \"\"\"\n",
        "    Computes the difference between a and b.\n",
        "    \"\"\"\n",
        "    return abs(a - b)\n",
        "\n",
        "apple.difference = difference\n",
        "print(apple.difference(apple.open, apple.close))"
      ],
      "execution_count": 301,
      "outputs": [
        {
          "output_type": "stream",
          "name": "stdout",
          "text": [
            "Tim Cook\n",
            "0.4000000000000057\n"
          ]
        }
      ]
    },
    {
      "cell_type": "markdown",
      "metadata": {
        "id": "WyfnFgVidh4J"
      },
      "source": [
        "We can check what names (i.e. attributes and methods) are defined on an object using the dir() function:"
      ]
    },
    {
      "cell_type": "code",
      "metadata": {
        "colab": {
          "base_uri": "https://localhost:8080/"
        },
        "id": "pPoz0LA8O2PU",
        "outputId": "c95da258-aed9-46c3-e86a-ecf8ebae208b"
      },
      "source": [
        "# Notice how the method 'difference' is listed.\n",
        "dir(apple)"
      ],
      "execution_count": 302,
      "outputs": [
        {
          "output_type": "execute_result",
          "data": {
            "text/plain": [
              "['__class__',\n",
              " '__delattr__',\n",
              " '__dict__',\n",
              " '__dir__',\n",
              " '__doc__',\n",
              " '__eq__',\n",
              " '__format__',\n",
              " '__ge__',\n",
              " '__getattribute__',\n",
              " '__gt__',\n",
              " '__hash__',\n",
              " '__init__',\n",
              " '__init_subclass__',\n",
              " '__le__',\n",
              " '__lt__',\n",
              " '__module__',\n",
              " '__ne__',\n",
              " '__new__',\n",
              " '__reduce__',\n",
              " '__reduce_ex__',\n",
              " '__repr__',\n",
              " '__setattr__',\n",
              " '__sizeof__',\n",
              " '__str__',\n",
              " '__subclasshook__',\n",
              " '__weakref__',\n",
              " 'ceo',\n",
              " 'close',\n",
              " 'difference',\n",
              " 'open',\n",
              " 'print_return',\n",
              " 'rate_return',\n",
              " 'ticker',\n",
              " 'update',\n",
              " 'volume']"
            ]
          },
          "metadata": {},
          "execution_count": 302
        }
      ]
    },
    {
      "cell_type": "markdown",
      "metadata": {
        "id": "Qpemj1UZd2aa"
      },
      "source": [
        "## Inheritance\n",
        "Inheritance is a way of arranging classes in a hierarchy from the most general to the most specific. A \"child\" class is a more specific type of a \"parent\" class because a child class will inherit all the attribues and methods of its parent. For example, we define a class named \"Child\" which inherits \"Stock\":"
      ]
    },
    {
      "cell_type": "code",
      "metadata": {
        "id": "UELXnxomO2PV"
      },
      "source": [
        "class child(stock):\n",
        "    def __init__(self,name):\n",
        "        self.name = name"
      ],
      "execution_count": 303,
      "outputs": []
    },
    {
      "cell_type": "code",
      "metadata": {
        "colab": {
          "base_uri": "https://localhost:8080/"
        },
        "id": "ffS2THZyO2PV",
        "outputId": "5b3f8f73-7ddc-413e-960b-107844cdd64e"
      },
      "source": [
        "# Creation of an object of type child, with the property name set to 'aa'.\n",
        "aa = child('aa')\n",
        "print(aa.name)\n",
        "aa.update(100,102)\n",
        "print(aa.open)\n",
        "print(aa.close)\n",
        "print(aa.print_return())\n",
        "\n",
        "\n",
        "# ++\n",
        "\n",
        "# Since the method difference was thefined only for an instance of the class\n",
        "# stock, it is not passed down to the class child. Notice how it is not a\n",
        "# result in the dir list of aa:\n",
        "print(\"difference\" in dir(aa), \"difference\" in dir(apple))"
      ],
      "execution_count": 304,
      "outputs": [
        {
          "output_type": "stream",
          "name": "stdout",
          "text": [
            "aa\n",
            "100\n",
            "102\n",
            "0.020000000000000018\n",
            "None\n",
            "False True\n"
          ]
        }
      ]
    },
    {
      "cell_type": "markdown",
      "metadata": {
        "id": "pdIEjUv2eJqL"
      },
      "source": [
        "As seen above, the new class Child has inherited the methods from Stock.\n",
        "\n",
        "#Summary\n",
        "\n",
        "In this chapter we have introduced functions and classes. When we write a QuantConnect algorithm, we would define our algorithm as a class (QCAlgorithm). This means our algorithm inherited the QC API methods from QCAlgorithm class.\n",
        "\n",
        "In the next chapter, we will introduce NumPy and Pandas, which enable us to conduct scientific calculations in Python."
      ]
    },
    {
      "cell_type": "markdown",
      "metadata": {
        "id": "dQbENH6mexTd"
      },
      "source": [
        "<div align=\"center\">\n",
        "<img style=\"display: block; margin: auto;\" alt=\"photo\" src=\"https://cdn.quantconnect.com/web/i/icon.png\">\n",
        "\n",
        "Quantconnect\n",
        "\n",
        "Introduction to Financial Python\n",
        "</div>\n",
        "\n",
        "# 04 NumPy and Basic Pandas\n",
        "\n",
        "# Introduction\n",
        "\n",
        "Now that we have introduced the fundamentals of Python, it's time to learn about NumPy and Pandas.\n",
        "\n",
        "# NumPy\n",
        "NumPy is the core library for scientific computing in Python. It provides a high-performance multidimensional array object, and tools for working with these arrays. It also has strong integration with Pandas, which is another powerful tool for manipulating financial data.\n",
        "\n",
        "Python packages like NumPy and Pandas contain classes and methods which we can use by importing the package:"
      ]
    },
    {
      "cell_type": "code",
      "metadata": {
        "id": "aIESp-rdO58h"
      },
      "source": [
        "import numpy as np"
      ],
      "execution_count": 305,
      "outputs": []
    },
    {
      "cell_type": "markdown",
      "metadata": {
        "id": "GScHHJ5ke7ea"
      },
      "source": [
        "## Basic NumPy Arrays\n",
        "A NumPy array is a grid of values, all of the same type, and is indexed by a tuple of nonnegative integers. Here we make an array by passing a list of Apple stock prices:"
      ]
    },
    {
      "cell_type": "code",
      "metadata": {
        "colab": {
          "base_uri": "https://localhost:8080/"
        },
        "id": "lZI1wkwDO58i",
        "outputId": "26f94157-4818-42ce-fb61-7bddcfebae09"
      },
      "source": [
        "price_list = [143.73, 145.83, 143.68, 144.02, 143.5, 142.62]\n",
        "price_array = np.array(price_list)\n",
        "print(price_array, type(price_array))"
      ],
      "execution_count": 306,
      "outputs": [
        {
          "output_type": "stream",
          "name": "stdout",
          "text": [
            "[143.73 145.83 143.68 144.02 143.5  142.62] <class 'numpy.ndarray'>\n"
          ]
        }
      ]
    },
    {
      "cell_type": "markdown",
      "metadata": {
        "id": "-5Yj6u9ifB-t"
      },
      "source": [
        "Notice that the type of array is \"ndarray\" which is a multi-dimensional array. If we pass np.array() a list of lists, it will create a 2-dimensional array."
      ]
    },
    {
      "cell_type": "code",
      "metadata": {
        "colab": {
          "base_uri": "https://localhost:8080/"
        },
        "id": "obvIZrK-O58j",
        "outputId": "2f1fe5f2-3ca1-43d9-ff10-0b4f3a3ba603"
      },
      "source": [
        "Ar = np.array([[1,3],[2,4]])\n",
        "print(Ar, type(Ar), \"\\n\"*2)\n",
        "\n",
        "\n",
        "# ++\n",
        "\n",
        "# The next line gives the np class method array an alias.\n",
        "array = np.array\n",
        "\n",
        "# Three-dimensional nunpy array.\n",
        "arr3d = array([[[1,1,1],[2,2,2],[3,3,3]],[[4,4,4],[5,5,5],[6,6,6]],[[7,7,7],[8,8,8],[9,9,9]]])\n",
        "print(arr3d, type(arr3d))"
      ],
      "execution_count": 307,
      "outputs": [
        {
          "output_type": "stream",
          "name": "stdout",
          "text": [
            "[[1 3]\n",
            " [2 4]] <class 'numpy.ndarray'> \n",
            "\n",
            "\n",
            "[[[1 1 1]\n",
            "  [2 2 2]\n",
            "  [3 3 3]]\n",
            "\n",
            " [[4 4 4]\n",
            "  [5 5 5]\n",
            "  [6 6 6]]\n",
            "\n",
            " [[7 7 7]\n",
            "  [8 8 8]\n",
            "  [9 9 9]]] <class 'numpy.ndarray'>\n"
          ]
        }
      ]
    },
    {
      "cell_type": "markdown",
      "metadata": {
        "id": "uDdfLD9HfHkl"
      },
      "source": [
        "We get the dimensions of an ndarray using the .shape attribute:"
      ]
    },
    {
      "cell_type": "code",
      "metadata": {
        "colab": {
          "base_uri": "https://localhost:8080/"
        },
        "id": "G2txdn73O58j",
        "outputId": "cb04bdbc-32c9-4564-fabc-71712a3a21ef"
      },
      "source": [
        "print(Ar.shape)\n",
        "\n",
        "\n",
        "# ++\n",
        "\n",
        "# Dimensions of the 3-dimentional array form the previous example.\n",
        "print(arr3d.shape)"
      ],
      "execution_count": 308,
      "outputs": [
        {
          "output_type": "stream",
          "name": "stdout",
          "text": [
            "(2, 2)\n",
            "(3, 3, 3)\n"
          ]
        }
      ]
    },
    {
      "cell_type": "markdown",
      "metadata": {
        "id": "87W5ueORfPEy"
      },
      "source": [
        "If we create an 2-dimensional array (i.e. matrix), each row can be accessed by index:"
      ]
    },
    {
      "cell_type": "code",
      "metadata": {
        "colab": {
          "base_uri": "https://localhost:8080/"
        },
        "id": "x_QV9aPbO58j",
        "outputId": "930fe453-1a26-4c2f-962a-165cf9a832c3"
      },
      "source": [
        "print(Ar[0])\n",
        "print(Ar[1], end=\"\\n\"*2)\n",
        "\n",
        "\n",
        "# ++\n",
        "\n",
        "# Accessing \"layers\" from our 3-dimentional array.\n",
        "print(\"Second layer:\\n\", arr3d[1])\n",
        "print(\"\\nFirst layer:\\n\", arr3d[0])"
      ],
      "execution_count": 309,
      "outputs": [
        {
          "output_type": "stream",
          "name": "stdout",
          "text": [
            "[1 3]\n",
            "[2 4]\n",
            "\n",
            "Second layer:\n",
            " [[4 4 4]\n",
            " [5 5 5]\n",
            " [6 6 6]]\n",
            "\n",
            "First layer:\n",
            " [[1 1 1]\n",
            " [2 2 2]\n",
            " [3 3 3]]\n"
          ]
        }
      ]
    },
    {
      "cell_type": "markdown",
      "metadata": {
        "id": "5Hke7Vt-fSGB"
      },
      "source": [
        "If we want to access the matrix by column instead:"
      ]
    },
    {
      "cell_type": "code",
      "metadata": {
        "colab": {
          "base_uri": "https://localhost:8080/"
        },
        "id": "gHVwbPfOO58j",
        "outputId": "ff6865e6-f21c-4fcf-8e6e-880a658fdd6a"
      },
      "source": [
        "# The unpreceded and unfollowed colon indicates that all rows are selected,\n",
        "# while the values after the comma designate the column of the required \n",
        "# element on each one of the rows.\n",
        "print('the first column: ', Ar[:,0])\n",
        "print('the second column: ', Ar[:,1])\n",
        "\n",
        "\n",
        "# ++\n",
        "\n",
        "# To access the middle element in our \"cubic\" array, we must provide 3 indexes:\n",
        "print(arr3d[1,1,1])"
      ],
      "execution_count": 310,
      "outputs": [
        {
          "output_type": "stream",
          "name": "stdout",
          "text": [
            "the first column:  [1 2]\n",
            "the second column:  [3 4]\n",
            "5\n"
          ]
        }
      ]
    },
    {
      "cell_type": "markdown",
      "metadata": {
        "id": "T61cD0HMfStB"
      },
      "source": [
        "## Array Functions\n",
        "Some functions built in NumPy that allow us to perform calculations on arrays. For example, we can apply the natural logarithm to each element of an array:"
      ]
    },
    {
      "cell_type": "code",
      "metadata": {
        "colab": {
          "base_uri": "https://localhost:8080/"
        },
        "id": "PKhwtJ7XO58k",
        "outputId": "993014df-18ff-42b8-ac26-ba851a23c2fc"
      },
      "source": [
        "print(np.log(price_array))\n",
        "\n",
        "\n",
        "# ++\n",
        "\n",
        "# Here we apply the natural logarithm to the middle column that goes across\n",
        "# the three \"layers\" or \"floors\" of our 3-dimentional array, thanks to a\n",
        "# carefull slicing:\n",
        "print(arr3d[:,1,1])\n",
        "print(np.log(arr3d[:,1,1]))"
      ],
      "execution_count": 311,
      "outputs": [
        {
          "output_type": "stream",
          "name": "stdout",
          "text": [
            "[4.96793654 4.98244156 4.9675886  4.96995218 4.96633504 4.96018375]\n",
            "[2 5 8]\n",
            "[0.69314718 1.60943791 2.07944154]\n"
          ]
        }
      ]
    },
    {
      "cell_type": "markdown",
      "metadata": {
        "id": "uzjBRFBLfZ-D"
      },
      "source": [
        "Other functions return a single value:"
      ]
    },
    {
      "cell_type": "code",
      "metadata": {
        "colab": {
          "base_uri": "https://localhost:8080/"
        },
        "id": "nQuABZqUO58k",
        "outputId": "e562136b-6508-4552-b8a6-d5b198f5c44c"
      },
      "source": [
        "# Returns the result of adding all the array elements and dividing the\n",
        "# result by the number of elements.\n",
        "print(np.mean(price_array))\n",
        "\n",
        "# Handles the array like a distribution to compute the standard deviation.\n",
        "print(np.std(price_array))\n",
        "\n",
        "# Returns the result of adding all the elements in the array.\n",
        "print(np.sum(price_array))\n",
        "\n",
        "# Returns the greatest element in the array.\n",
        "print(np.max(price_array))\n",
        "\n",
        "\n",
        "# ++\n",
        "\n",
        "# One of the faces (actually 2 of them) of the cube that represents our \n",
        "# 3-dimentional array is composed of the numbers from 1 to 9:\n",
        "print(arr3d[:,:,0])\n",
        "\n",
        "# We can compare the result of their addition with a known formula:\n",
        "print(np.sum(arr3d[:,:,0]) == 9*(10)/2)"
      ],
      "execution_count": 312,
      "outputs": [
        {
          "output_type": "stream",
          "name": "stdout",
          "text": [
            "143.89666666666668\n",
            "0.9673790478515796\n",
            "863.38\n",
            "145.83\n",
            "[[1 2 3]\n",
            " [4 5 6]\n",
            " [7 8 9]]\n",
            "True\n"
          ]
        }
      ]
    },
    {
      "cell_type": "markdown",
      "metadata": {
        "id": "IRW95BsifgDB"
      },
      "source": [
        "The functions above return the mean, standard deviation, total and maximum value of an array.\n",
        "\n",
        "# Pandas\n",
        "Pandas is one of the most powerful tools for dealing with financial data. \n",
        "\n",
        "First we need to import Pandas:"
      ]
    },
    {
      "cell_type": "code",
      "metadata": {
        "id": "xIYH4oUfO58k"
      },
      "source": [
        "import pandas as pd"
      ],
      "execution_count": 313,
      "outputs": []
    },
    {
      "cell_type": "markdown",
      "metadata": {
        "id": "zOig5gORfnJU"
      },
      "source": [
        "## Series\n",
        "Series is a one-dimensional labeled array capable of holding any data type (integers, strings, float, Python object, etc.)\n",
        "\n",
        "We create a Series by calling pd.Series(data), where data can be a dictionary, an array or just a scalar value."
      ]
    },
    {
      "cell_type": "code",
      "metadata": {
        "colab": {
          "base_uri": "https://localhost:8080/"
        },
        "id": "JmzoNzrPO58k",
        "outputId": "57036d1a-7966-49fe-9b49-80061d3db57d"
      },
      "source": [
        "price = [143.73, 145.83, 143.68, 144.02, 143.5, 142.62]\n",
        "s = pd.Series(price)\n",
        "print(s)\n",
        "\n",
        "\n",
        "# ++\n",
        "\n",
        "# A series of integer cubes from 1 to 100:\n",
        "my_cubes = pd.Series([x**3 for x in range(1, 11)])\n",
        "print(\"Cubes:\\n\", my_cubes, sep=\"\")"
      ],
      "execution_count": 314,
      "outputs": [
        {
          "output_type": "stream",
          "name": "stdout",
          "text": [
            "0    143.73\n",
            "1    145.83\n",
            "2    143.68\n",
            "3    144.02\n",
            "4    143.50\n",
            "5    142.62\n",
            "dtype: float64\n",
            "Cubes:\n",
            "0       1\n",
            "1       8\n",
            "2      27\n",
            "3      64\n",
            "4     125\n",
            "5     216\n",
            "6     343\n",
            "7     512\n",
            "8     729\n",
            "9    1000\n",
            "dtype: int64\n"
          ]
        }
      ]
    },
    {
      "cell_type": "markdown",
      "metadata": {
        "id": "tP5iDnunfq46"
      },
      "source": [
        "We can customize the indices of a new Series:"
      ]
    },
    {
      "cell_type": "code",
      "metadata": {
        "colab": {
          "base_uri": "https://localhost:8080/"
        },
        "id": "eswQC3ZPO58l",
        "outputId": "5dd6dd54-c55b-401c-e093-5319c7a43450"
      },
      "source": [
        "s = pd.Series(price, index = ['a','b','c','d','e','f'])\n",
        "print(s)"
      ],
      "execution_count": 315,
      "outputs": [
        {
          "output_type": "stream",
          "name": "stdout",
          "text": [
            "a    143.73\n",
            "b    145.83\n",
            "c    143.68\n",
            "d    144.02\n",
            "e    143.50\n",
            "f    142.62\n",
            "dtype: float64\n"
          ]
        }
      ]
    },
    {
      "cell_type": "markdown",
      "metadata": {
        "id": "wdZrb8pEfuua"
      },
      "source": [
        "Or we can change the indices of an existing Series:"
      ]
    },
    {
      "cell_type": "code",
      "metadata": {
        "colab": {
          "base_uri": "https://localhost:8080/"
        },
        "id": "MwlRnPF6O58l",
        "outputId": "e5810010-4687-4599-b2d5-0102205f07e4"
      },
      "source": [
        "s.index = [6,5,4,3,2,1]\n",
        "print(s)\n",
        "# ++\n",
        "\n",
        "# Below we use the index method to shift the indexes of our cubes series by 1:\n",
        "my_cubes.index = range(1, 11)\n",
        "print(\"Cubes:\\n\", my_cubes, sep=\"\")"
      ],
      "execution_count": 316,
      "outputs": [
        {
          "output_type": "stream",
          "name": "stdout",
          "text": [
            "6    143.73\n",
            "5    145.83\n",
            "4    143.68\n",
            "3    144.02\n",
            "2    143.50\n",
            "1    142.62\n",
            "dtype: float64\n",
            "Cubes:\n",
            "1        1\n",
            "2        8\n",
            "3       27\n",
            "4       64\n",
            "5      125\n",
            "6      216\n",
            "7      343\n",
            "8      512\n",
            "9      729\n",
            "10    1000\n",
            "dtype: int64\n"
          ]
        }
      ]
    },
    {
      "cell_type": "markdown",
      "metadata": {
        "id": "6cGNQZwLfxIz"
      },
      "source": [
        "Series is like a list since it can be sliced by index:"
      ]
    },
    {
      "cell_type": "code",
      "metadata": {
        "colab": {
          "base_uri": "https://localhost:8080/"
        },
        "id": "N9bBSg6cO58l",
        "outputId": "f0201aad-36cc-4bbf-9416-daf87d3a51a6"
      },
      "source": [
        "print(s[1:])\n",
        "print(s[:-2])\n",
        "\n",
        "\n",
        "# ++\n",
        "\n",
        "# The next line displays the odd cubes of my_cubes.\n",
        "print(my_cubes[::2])\n",
        "\n",
        "# The next line displays the even cubes of my_cubes in descending order.\n",
        "print(my_cubes[10:0:-2])"
      ],
      "execution_count": 317,
      "outputs": [
        {
          "output_type": "stream",
          "name": "stdout",
          "text": [
            "5    145.83\n",
            "4    143.68\n",
            "3    144.02\n",
            "2    143.50\n",
            "1    142.62\n",
            "dtype: float64\n",
            "6    143.73\n",
            "5    145.83\n",
            "4    143.68\n",
            "3    144.02\n",
            "dtype: float64\n",
            "1      1\n",
            "3     27\n",
            "5    125\n",
            "7    343\n",
            "9    729\n",
            "dtype: int64\n",
            "10    1000\n",
            "8      512\n",
            "6      216\n",
            "4       64\n",
            "2        8\n",
            "dtype: int64\n"
          ]
        }
      ]
    },
    {
      "cell_type": "markdown",
      "metadata": {
        "id": "5V25nViZfz3Z"
      },
      "source": [
        "Series is also like a dictionary whose values can be set or fetched by index label:"
      ]
    },
    {
      "cell_type": "code",
      "metadata": {
        "colab": {
          "base_uri": "https://localhost:8080/"
        },
        "id": "b3Y0kKGYO58l",
        "outputId": "42f12a04-3f99-4d2f-e5aa-fb490bb74eae"
      },
      "source": [
        "print(s[4])\n",
        "s[4] = 0\n",
        "print(s)\n",
        "\n",
        "\n",
        "# ++\n",
        "\n",
        "# Notice how the first element is accessed with the number 1 instead of 0.\n",
        "print(my_cubes[1])"
      ],
      "execution_count": 318,
      "outputs": [
        {
          "output_type": "stream",
          "name": "stdout",
          "text": [
            "143.68\n",
            "6    143.73\n",
            "5    145.83\n",
            "4      0.00\n",
            "3    144.02\n",
            "2    143.50\n",
            "1    142.62\n",
            "dtype: float64\n",
            "1\n"
          ]
        }
      ]
    },
    {
      "cell_type": "markdown",
      "metadata": {
        "id": "RQ1P7Gkyf060"
      },
      "source": [
        "Series can also have a name attribute, which will be used when we make up a Pandas DataFrame using several series."
      ]
    },
    {
      "cell_type": "code",
      "metadata": {
        "colab": {
          "base_uri": "https://localhost:8080/"
        },
        "id": "ZeD4-p7KO58m",
        "outputId": "4a3fc7fd-4fa3-40ad-b6b7-95f8a66bf62a"
      },
      "source": [
        "s = pd.Series(price, name = 'Apple Price List')\n",
        "print(s)\n",
        "print(s.name)\n",
        "\n",
        "\n",
        "# ++\n",
        "\n",
        "# the next line add a name to my_cubes by directly accessing the property\n",
        "my_cubes.name = \"First 10 integer cubes\"\n",
        "print(my_cubes)"
      ],
      "execution_count": 319,
      "outputs": [
        {
          "output_type": "stream",
          "name": "stdout",
          "text": [
            "0    143.73\n",
            "1    145.83\n",
            "2    143.68\n",
            "3    144.02\n",
            "4    143.50\n",
            "5    142.62\n",
            "Name: Apple Price List, dtype: float64\n",
            "Apple Price List\n",
            "1        1\n",
            "2        8\n",
            "3       27\n",
            "4       64\n",
            "5      125\n",
            "6      216\n",
            "7      343\n",
            "8      512\n",
            "9      729\n",
            "10    1000\n",
            "Name: First 10 integer cubes, dtype: int64\n"
          ]
        }
      ]
    },
    {
      "cell_type": "markdown",
      "metadata": {
        "id": "geJb1pGHf5Et"
      },
      "source": [
        "We can get the statistical summaries of a Series:"
      ]
    },
    {
      "cell_type": "code",
      "metadata": {
        "colab": {
          "base_uri": "https://localhost:8080/"
        },
        "id": "mGPtFcjegm4i",
        "outputId": "1fb7c33e-815f-479b-9173-66a44e223132"
      },
      "source": [
        "print(s.describe(), end=\"\\n\"*2)\n",
        "\n",
        "\n",
        "# ++\n",
        "\n",
        "# Description of the odd cubes.\n",
        "print(my_cubes[::2].describe())\n",
        "\n",
        "# Description of the even cubes.\n",
        "print(my_cubes[1::2].describe())"
      ],
      "execution_count": 320,
      "outputs": [
        {
          "output_type": "stream",
          "name": "stdout",
          "text": [
            "count      6.000000\n",
            "mean     143.896667\n",
            "std        1.059711\n",
            "min      142.620000\n",
            "25%      143.545000\n",
            "50%      143.705000\n",
            "75%      143.947500\n",
            "max      145.830000\n",
            "Name: Apple Price List, dtype: float64\n",
            "\n",
            "count      5.000000\n",
            "mean     245.000000\n",
            "std      302.208537\n",
            "min        1.000000\n",
            "25%       27.000000\n",
            "50%      125.000000\n",
            "75%      343.000000\n",
            "max      729.000000\n",
            "Name: First 10 integer cubes, dtype: float64\n",
            "count       5.000000\n",
            "mean      360.000000\n",
            "std       407.725398\n",
            "min         8.000000\n",
            "25%        64.000000\n",
            "50%       216.000000\n",
            "75%       512.000000\n",
            "max      1000.000000\n",
            "Name: First 10 integer cubes, dtype: float64\n"
          ]
        }
      ]
    },
    {
      "cell_type": "markdown",
      "metadata": {
        "id": "LkdZu-CDgvlR"
      },
      "source": [
        "## Time Index\n",
        "Pandas has a built-in function specifically for creating date indices: pd.date_range(). We use it to create a new index for our Series:"
      ]
    },
    {
      "cell_type": "code",
      "metadata": {
        "colab": {
          "base_uri": "https://localhost:8080/"
        },
        "id": "HJe5hU4zO58m",
        "outputId": "c4146288-b611-4e0f-fc3a-2ec5bbfb107f"
      },
      "source": [
        "time_index = pd.date_range('2017-01-01', periods = len(s), freq = 'D')\n",
        "print(time_index)\n",
        "s.index = time_index\n",
        "print(s)\n",
        "\n",
        "\n",
        "# ++\n",
        "\n",
        "# By stablishing freq = 'M' the indexes vary by month.\n",
        "cube_index = pd.date_range('2022-01-03', periods = len(my_cubes), freq = 'M')\n",
        "my_cubes.index = cube_index\n",
        "print(my_cubes)"
      ],
      "execution_count": 321,
      "outputs": [
        {
          "output_type": "stream",
          "name": "stdout",
          "text": [
            "DatetimeIndex(['2017-01-01', '2017-01-02', '2017-01-03', '2017-01-04',\n",
            "               '2017-01-05', '2017-01-06'],\n",
            "              dtype='datetime64[ns]', freq='D')\n",
            "2017-01-01    143.73\n",
            "2017-01-02    145.83\n",
            "2017-01-03    143.68\n",
            "2017-01-04    144.02\n",
            "2017-01-05    143.50\n",
            "2017-01-06    142.62\n",
            "Freq: D, Name: Apple Price List, dtype: float64\n",
            "2022-01-31       1\n",
            "2022-02-28       8\n",
            "2022-03-31      27\n",
            "2022-04-30      64\n",
            "2022-05-31     125\n",
            "2022-06-30     216\n",
            "2022-07-31     343\n",
            "2022-08-31     512\n",
            "2022-09-30     729\n",
            "2022-10-31    1000\n",
            "Freq: M, Name: First 10 integer cubes, dtype: int64\n"
          ]
        }
      ]
    },
    {
      "cell_type": "markdown",
      "metadata": {
        "id": "7WedejFZg19J"
      },
      "source": [
        "Series are usually accessed using the iloc[] and loc[] methods. iloc[] is used to access elements by integer index, and loc[] is used to access the index of the series.\n",
        "\n",
        "iloc[] is necessary when the index of a series are integers, take our previous defined series as example:"
      ]
    },
    {
      "cell_type": "code",
      "metadata": {
        "colab": {
          "base_uri": "https://localhost:8080/"
        },
        "id": "KrVSOyMvO58m",
        "outputId": "56e80dfb-0270-4880-b35c-17b9cdb85f00"
      },
      "source": [
        "s.index = [6,5,4,3,2,1]\n",
        "print(s)\n",
        "print(s[1])"
      ],
      "execution_count": 322,
      "outputs": [
        {
          "output_type": "stream",
          "name": "stdout",
          "text": [
            "6    143.73\n",
            "5    145.83\n",
            "4    143.68\n",
            "3    144.02\n",
            "2    143.50\n",
            "1    142.62\n",
            "Name: Apple Price List, dtype: float64\n",
            "142.62\n"
          ]
        }
      ]
    },
    {
      "cell_type": "markdown",
      "metadata": {
        "id": "r30VKPtpg61p"
      },
      "source": [
        "If we intended to take the second element of the series, we would make a mistake here, because the index are integers. In order to access to the element we want, we use iloc[] here:"
      ]
    },
    {
      "cell_type": "code",
      "metadata": {
        "colab": {
          "base_uri": "https://localhost:8080/"
        },
        "id": "bHukfaAmO58m",
        "outputId": "0e16559f-5c75-4b6c-b8e9-ecff0f7b0f4a"
      },
      "source": [
        "print(s.iloc[1])\n",
        "\n",
        "\n",
        "# ++\n",
        "\n",
        "# The next code accesses the first element of the my_cubes series using\n",
        "# zero-based numbering.\n",
        "print(my_cubes.iloc[0])\n",
        "\n",
        "# As we can see, negative indexes work as well. The next code prints\n",
        "# the last element of the my_cubes series.\n",
        "print(my_cubes[-1])"
      ],
      "execution_count": 323,
      "outputs": [
        {
          "output_type": "stream",
          "name": "stdout",
          "text": [
            "145.83\n",
            "1\n",
            "1000\n"
          ]
        }
      ]
    },
    {
      "cell_type": "markdown",
      "metadata": {
        "id": "kHVBRL_Rg84j"
      },
      "source": [
        "While working with time series data, we often use time as the index. Pandas provides us with various methods to access the data by time index"
      ]
    },
    {
      "cell_type": "code",
      "metadata": {
        "colab": {
          "base_uri": "https://localhost:8080/"
        },
        "id": "FCf8Hg7jO58n",
        "outputId": "5bfd7f42-b6de-47fd-98d1-337d72bb34d1"
      },
      "source": [
        "s.index = time_index\n",
        "print(s['2017-01-03'])"
      ],
      "execution_count": 324,
      "outputs": [
        {
          "output_type": "stream",
          "name": "stdout",
          "text": [
            "143.68\n"
          ]
        }
      ]
    },
    {
      "cell_type": "markdown",
      "metadata": {
        "id": "XJXcrSFpg-To"
      },
      "source": [
        "We can even access to a range of dates:"
      ]
    },
    {
      "cell_type": "code",
      "metadata": {
        "colab": {
          "base_uri": "https://localhost:8080/"
        },
        "id": "NsE-Lr_9O58n",
        "outputId": "443f0d02-b6de-4626-82fc-d9af3ad8f548"
      },
      "source": [
        "print(s['2017-01-02':'2017-01-05'])"
      ],
      "execution_count": 325,
      "outputs": [
        {
          "output_type": "stream",
          "name": "stdout",
          "text": [
            "2017-01-02    145.83\n",
            "2017-01-03    143.68\n",
            "2017-01-04    144.02\n",
            "2017-01-05    143.50\n",
            "Freq: D, Name: Apple Price List, dtype: float64\n"
          ]
        }
      ]
    },
    {
      "cell_type": "markdown",
      "metadata": {
        "id": "cWA3NCXEhCLB"
      },
      "source": [
        "Series[] provides us a very flexible way to index data. We can add any condition in the square brackets:"
      ]
    },
    {
      "cell_type": "code",
      "metadata": {
        "colab": {
          "base_uri": "https://localhost:8080/"
        },
        "id": "aawbrg2EO58n",
        "outputId": "66df432c-b626-4c09-8bc4-4d0843ab3840"
      },
      "source": [
        "print(s[s < np.mean(s)] )\n",
        "print([(s > np.mean(s)) & (s < np.mean(s) + 1.64*np.std(s))])\n",
        "\n",
        "\n",
        "# ++\n",
        "\n",
        "# The statement bellow prints the even cubes within halve a standard deviation\n",
        "# from the mean, the logical operator & is used.\n",
        "print(my_cubes.describe())\n",
        "print(my_cubes[(my_cubes % 2 == 0) &\n",
        "               (abs(np.mean(my_cubes)-my_cubes) < np.std(my_cubes)/2)])"
      ],
      "execution_count": 326,
      "outputs": [
        {
          "output_type": "stream",
          "name": "stdout",
          "text": [
            "2017-01-01    143.73\n",
            "2017-01-03    143.68\n",
            "2017-01-05    143.50\n",
            "2017-01-06    142.62\n",
            "Name: Apple Price List, dtype: float64\n",
            "[2017-01-01    False\n",
            "2017-01-02    False\n",
            "2017-01-03    False\n",
            "2017-01-04     True\n",
            "2017-01-05    False\n",
            "2017-01-06    False\n",
            "Freq: D, Name: Apple Price List, dtype: bool]\n",
            "count      10.000000\n",
            "mean      302.500000\n",
            "std       343.728333\n",
            "min         1.000000\n",
            "25%        36.250000\n",
            "50%       170.500000\n",
            "75%       469.750000\n",
            "max      1000.000000\n",
            "Name: First 10 integer cubes, dtype: float64\n",
            "2022-06-30    216\n",
            "Freq: M, Name: First 10 integer cubes, dtype: int64\n"
          ]
        }
      ]
    },
    {
      "cell_type": "markdown",
      "metadata": {
        "id": "jAByChIwhEuI"
      },
      "source": [
        "As demonstrated, we can use logical operators like & (and), | (or) and ~ (not) to group multiple conditions.\n",
        "\n",
        "# Summary\n",
        "Here we have introduced NumPy and Pandas for scientific computing in Python. In the next chapter, we will dive into Pandas to learn resampling and manipulating Pandas DataFrame, which are commonly used in financial data analysis."
      ]
    },
    {
      "cell_type": "markdown",
      "metadata": {
        "id": "OtjOpw6oJp6z"
      },
      "source": [
        "<div align=\"center\">\n",
        "<img style=\"display: block; margin: auto;\" alt=\"photo\" src=\"https://cdn.quantconnect.com/web/i/icon.png\"> <img style=\"display: block; margin: auto;\" alt=\"photo\" src=\"https://www.marketing-branding.com/wp-content/uploads/2020/07/google-colaboratory-colab-guia-completa.jpg \" width=\"50\" height=\"50\">\n",
        "<img style=\"display: block; margin: auto;\" alt=\"photo\" src=\"https://upload.wikimedia.org/wikipedia/commons/d/da/Yahoo_Finance_Logo_2019.svg\" width=\"50\" height=\"50\">  \n",
        "\n",
        "Quantconnect -> Google Colab with Yahoo Finance data\n",
        "\n",
        "Introduction to Financial Python\n",
        "</div>\n",
        "\n",
        "# 05 Pandas-Resampling and DataFrame\n",
        "\n",
        "# Introduction\n",
        "In the last chapter we had a glimpse of Pandas. In this chapter we will learn about resampling methods and the DataFrame object, which is a powerful tool for financial data analysis.\n",
        "\n",
        "# Fetching Data\n",
        "Here we use the Yahoo Finance to retrieve data.\n"
      ]
    },
    {
      "cell_type": "code",
      "metadata": {
        "colab": {
          "base_uri": "https://localhost:8080/"
        },
        "id": "luU8mZTsHW9x",
        "outputId": "1af7f06d-ada2-4f63-94d5-7cf90920cb10"
      },
      "source": [
        "!pip install yfinance"
      ],
      "execution_count": 327,
      "outputs": [
        {
          "output_type": "stream",
          "name": "stdout",
          "text": [
            "Looking in indexes: https://pypi.org/simple, https://us-python.pkg.dev/colab-wheels/public/simple/\n",
            "Requirement already satisfied: yfinance in /usr/local/lib/python3.7/dist-packages (0.1.74)\n",
            "Requirement already satisfied: pandas>=0.24.0 in /usr/local/lib/python3.7/dist-packages (from yfinance) (1.3.5)\n",
            "Requirement already satisfied: numpy>=1.15 in /usr/local/lib/python3.7/dist-packages (from yfinance) (1.21.6)\n",
            "Requirement already satisfied: requests>=2.26 in /usr/local/lib/python3.7/dist-packages (from yfinance) (2.28.1)\n",
            "Requirement already satisfied: lxml>=4.5.1 in /usr/local/lib/python3.7/dist-packages (from yfinance) (4.9.1)\n",
            "Requirement already satisfied: multitasking>=0.0.7 in /usr/local/lib/python3.7/dist-packages (from yfinance) (0.0.11)\n",
            "Requirement already satisfied: python-dateutil>=2.7.3 in /usr/local/lib/python3.7/dist-packages (from pandas>=0.24.0->yfinance) (2.8.2)\n",
            "Requirement already satisfied: pytz>=2017.3 in /usr/local/lib/python3.7/dist-packages (from pandas>=0.24.0->yfinance) (2022.2.1)\n",
            "Requirement already satisfied: six>=1.5 in /usr/local/lib/python3.7/dist-packages (from python-dateutil>=2.7.3->pandas>=0.24.0->yfinance) (1.15.0)\n",
            "Requirement already satisfied: urllib3<1.27,>=1.21.1 in /usr/local/lib/python3.7/dist-packages (from requests>=2.26->yfinance) (1.24.3)\n",
            "Requirement already satisfied: idna<4,>=2.5 in /usr/local/lib/python3.7/dist-packages (from requests>=2.26->yfinance) (2.10)\n",
            "Requirement already satisfied: charset-normalizer<3,>=2 in /usr/local/lib/python3.7/dist-packages (from requests>=2.26->yfinance) (2.1.0)\n",
            "Requirement already satisfied: certifi>=2017.4.17 in /usr/local/lib/python3.7/dist-packages (from requests>=2.26->yfinance) (2022.6.15)\n"
          ]
        }
      ]
    },
    {
      "cell_type": "code",
      "metadata": {
        "colab": {
          "base_uri": "https://localhost:8080/",
          "height": 492
        },
        "id": "mWZ-nirTZHrE",
        "outputId": "a778a2e4-edc7-4a06-bad7-9c1578ca41d5"
      },
      "source": [
        "import yfinance as yf\n",
        "\n",
        "aapl = yf.Ticker(\"AAPL\")\n",
        "\n",
        "# get stock info\n",
        "print(aapl.info)\n",
        "\n",
        "# get historical market data\n",
        "aapl_table = aapl.history(start=\"2016-01-01\",  end=\"2017-12-31\")\n",
        "aapl_table"
      ],
      "execution_count": 328,
      "outputs": [
        {
          "output_type": "stream",
          "name": "stdout",
          "text": [
            "{'zip': '95014', 'sector': 'Technology', 'fullTimeEmployees': 154000, 'longBusinessSummary': 'Apple Inc. designs, manufactures, and markets smartphones, personal computers, tablets, wearables, and accessories worldwide. It also sells various related services. In addition, the company offers iPhone, a line of smartphones; Mac, a line of personal computers; iPad, a line of multi-purpose tablets; AirPods Max, an over-ear wireless headphone; and wearables, home, and accessories comprising AirPods, Apple TV, Apple Watch, Beats products, HomePod, and iPod touch. Further, it provides AppleCare support services; cloud services store services; and operates various platforms, including the App Store that allow customers to discover and download applications and digital content, such as books, music, video, games, and podcasts. Additionally, the company offers various services, such as Apple Arcade, a game subscription service; Apple Music, which offers users a curated listening experience with on-demand radio stations; Apple News+, a subscription news and magazine service; Apple TV+, which offers exclusive original content; Apple Card, a co-branded credit card; and Apple Pay, a cashless payment service, as well as licenses its intellectual property. The company serves consumers, and small and mid-sized businesses; and the education, enterprise, and government markets. It distributes third-party applications for its products through the App Store. The company also sells its products through its retail and online stores, and direct sales force; and third-party cellular network carriers, wholesalers, retailers, and resellers. Apple Inc. was incorporated in 1977 and is headquartered in Cupertino, California.', 'city': 'Cupertino', 'phone': '408 996 1010', 'state': 'CA', 'country': 'United States', 'companyOfficers': [], 'website': 'https://www.apple.com', 'maxAge': 1, 'address1': 'One Apple Park Way', 'industry': 'Consumer Electronics', 'ebitdaMargins': 0.3343, 'profitMargins': 0.25709, 'grossMargins': 0.43313998, 'operatingCashflow': 118224003072, 'revenueGrowth': 0.019, 'operatingMargins': 0.30533, 'ebitda': 129556996096, 'targetLowPrice': 136, 'recommendationKey': 'buy', 'grossProfits': 152836000000, 'freeCashflow': 83344621568, 'targetMedianPrice': 185, 'currentPrice': 171.52, 'earningsGrowth': -0.077, 'currentRatio': 0.865, 'returnOnAssets': 0.22204, 'numberOfAnalystOpinions': 44, 'targetMeanPrice': 183.94, 'debtToEquity': 205.984, 'returnOnEquity': 1.62816, 'targetHighPrice': 220, 'totalCash': 48230998016, 'totalDebt': 119691001856, 'totalRevenue': 387541991424, 'totalCashPerShare': 3.001, 'financialCurrency': 'USD', 'revenuePerShare': 23.732, 'quickRatio': 0.697, 'recommendationMean': 1.9, 'exchange': 'NMS', 'shortName': 'Apple Inc.', 'longName': 'Apple Inc.', 'exchangeTimezoneName': 'America/New_York', 'exchangeTimezoneShortName': 'EDT', 'isEsgPopulated': False, 'gmtOffSetMilliseconds': '-14400000', 'quoteType': 'EQUITY', 'symbol': 'AAPL', 'messageBoardId': 'finmb_24937', 'market': 'us_market', 'annualHoldingsTurnover': None, 'enterpriseToRevenue': 7.297, 'beta3Year': None, 'enterpriseToEbitda': 21.828, '52WeekChange': 0.14568162, 'morningStarRiskRating': None, 'forwardEps': 6.44, 'revenueQuarterlyGrowth': None, 'sharesOutstanding': 16070800384, 'fundInceptionDate': None, 'annualReportExpenseRatio': None, 'totalAssets': None, 'bookValue': 3.61, 'sharesShort': 107535584, 'sharesPercentSharesOut': 0.0067000003, 'fundFamily': None, 'lastFiscalYearEnd': 1632528000, 'heldPercentInstitutions': 0.59714, 'netIncomeToCommon': 99632996352, 'trailingEps': 6.05, 'lastDividendValue': 0.23, 'SandP52WeekChange': -0.056043804, 'priceToBook': 47.512466, 'heldPercentInsiders': 0.0007, 'nextFiscalYearEnd': 1695600000, 'yield': None, 'mostRecentQuarter': 1656115200, 'shortRatio': 1.47, 'sharesShortPreviousMonthDate': 1656547200, 'floatShares': 16053234880, 'beta': 1.230174, 'enterpriseValue': 2827915362304, 'priceHint': 2, 'threeYearAverageReturn': None, 'lastSplitDate': 1598832000, 'lastSplitFactor': '4:1', 'legalType': None, 'lastDividendDate': 1659657600, 'morningStarOverallRating': None, 'earningsQuarterlyGrowth': -0.106, 'priceToSalesTrailing12Months': 7.1126842, 'dateShortInterest': 1659052800, 'pegRatio': 2.97, 'ytdReturn': None, 'forwardPE': 26.633541, 'lastCapGain': None, 'shortPercentOfFloat': 0.0067000003, 'sharesShortPriorMonth': 112994371, 'impliedSharesOutstanding': 0, 'category': None, 'fiveYearAverageReturn': None, 'previousClose': 174.15, 'regularMarketOpen': 173.03, 'twoHundredDayAverage': 160.461, 'trailingAnnualDividendYield': 0.005110537, 'payoutRatio': 0.1471, 'volume24Hr': None, 'regularMarketDayHigh': 173.74, 'navPrice': None, 'averageDailyVolume10Day': 64119090, 'regularMarketPreviousClose': 174.15, 'fiftyDayAverage': 151.3188, 'trailingAnnualDividendRate': 0.89, 'open': 173.03, 'toCurrency': None, 'averageVolume10days': 64119090, 'expireDate': None, 'algorithm': None, 'dividendRate': 0.92, 'exDividendDate': 1659657600, 'circulatingSupply': None, 'startDate': None, 'regularMarketDayLow': 171.3101, 'currency': 'USD', 'trailingPE': 28.350412, 'regularMarketVolume': 70346295, 'lastMarket': None, 'maxSupply': None, 'openInterest': None, 'marketCap': 2756463820800, 'volumeAllCurrencies': None, 'strikePrice': None, 'averageVolume': 76763275, 'dayLow': 171.3101, 'ask': 0, 'askSize': 900, 'volume': 70346295, 'fiftyTwoWeekHigh': 182.94, 'fromCurrency': None, 'fiveYearAvgDividendYield': 1.05, 'fiftyTwoWeekLow': 129.04, 'bid': 0, 'tradeable': False, 'dividendYield': 0.0054, 'bidSize': 900, 'dayHigh': 173.74, 'coinMarketCapLink': None, 'regularMarketPrice': 171.52, 'preMarketPrice': None, 'logo_url': 'https://logo.clearbit.com/apple.com', 'trailingPegRatio': 3.1143}\n"
          ]
        },
        {
          "output_type": "execute_result",
          "data": {
            "text/plain": [
              "                 Open       High        Low      Close     Volume  Dividends  \\\n",
              "Date                                                                           \n",
              "2016-01-04  23.523350  24.156081  23.383508  24.151495  270597600        0.0   \n",
              "2016-01-05  24.243193  24.266117  23.477498  23.546272  223164000        0.0   \n",
              "2016-01-06  23.053389  23.468333  22.895207  23.085484  273829600        0.0   \n",
              "2016-01-07  22.622398  22.954810  22.106586  22.111170  324377600        0.0   \n",
              "2016-01-08  22.592597  22.720976  22.182239  22.228088  283192000        0.0   \n",
              "...               ...        ...        ...        ...        ...        ...   \n",
              "2017-12-22  41.594672  41.770882  41.551813  41.673252   65397600        0.0   \n",
              "2017-12-26  40.670771  40.830311  40.404075  40.616005  132742000        0.0   \n",
              "2017-12-27  40.504090  40.666010  40.411224  40.623150   85992800        0.0   \n",
              "2017-12-28  40.718396  40.920799  40.594573  40.737446   65920800        0.0   \n",
              "2017-12-29  40.604100  40.620767  40.294545  40.296925  103999600        0.0   \n",
              "\n",
              "            Stock Splits  \n",
              "Date                      \n",
              "2016-01-04             0  \n",
              "2016-01-05             0  \n",
              "2016-01-06             0  \n",
              "2016-01-07             0  \n",
              "2016-01-08             0  \n",
              "...                  ...  \n",
              "2017-12-22             0  \n",
              "2017-12-26             0  \n",
              "2017-12-27             0  \n",
              "2017-12-28             0  \n",
              "2017-12-29             0  \n",
              "\n",
              "[503 rows x 7 columns]"
            ],
            "text/html": [
              "\n",
              "  <div id=\"df-eee65e73-9094-4be9-8d4b-5f0b890d4d8b\">\n",
              "    <div class=\"colab-df-container\">\n",
              "      <div>\n",
              "<style scoped>\n",
              "    .dataframe tbody tr th:only-of-type {\n",
              "        vertical-align: middle;\n",
              "    }\n",
              "\n",
              "    .dataframe tbody tr th {\n",
              "        vertical-align: top;\n",
              "    }\n",
              "\n",
              "    .dataframe thead th {\n",
              "        text-align: right;\n",
              "    }\n",
              "</style>\n",
              "<table border=\"1\" class=\"dataframe\">\n",
              "  <thead>\n",
              "    <tr style=\"text-align: right;\">\n",
              "      <th></th>\n",
              "      <th>Open</th>\n",
              "      <th>High</th>\n",
              "      <th>Low</th>\n",
              "      <th>Close</th>\n",
              "      <th>Volume</th>\n",
              "      <th>Dividends</th>\n",
              "      <th>Stock Splits</th>\n",
              "    </tr>\n",
              "    <tr>\n",
              "      <th>Date</th>\n",
              "      <th></th>\n",
              "      <th></th>\n",
              "      <th></th>\n",
              "      <th></th>\n",
              "      <th></th>\n",
              "      <th></th>\n",
              "      <th></th>\n",
              "    </tr>\n",
              "  </thead>\n",
              "  <tbody>\n",
              "    <tr>\n",
              "      <th>2016-01-04</th>\n",
              "      <td>23.523350</td>\n",
              "      <td>24.156081</td>\n",
              "      <td>23.383508</td>\n",
              "      <td>24.151495</td>\n",
              "      <td>270597600</td>\n",
              "      <td>0.0</td>\n",
              "      <td>0</td>\n",
              "    </tr>\n",
              "    <tr>\n",
              "      <th>2016-01-05</th>\n",
              "      <td>24.243193</td>\n",
              "      <td>24.266117</td>\n",
              "      <td>23.477498</td>\n",
              "      <td>23.546272</td>\n",
              "      <td>223164000</td>\n",
              "      <td>0.0</td>\n",
              "      <td>0</td>\n",
              "    </tr>\n",
              "    <tr>\n",
              "      <th>2016-01-06</th>\n",
              "      <td>23.053389</td>\n",
              "      <td>23.468333</td>\n",
              "      <td>22.895207</td>\n",
              "      <td>23.085484</td>\n",
              "      <td>273829600</td>\n",
              "      <td>0.0</td>\n",
              "      <td>0</td>\n",
              "    </tr>\n",
              "    <tr>\n",
              "      <th>2016-01-07</th>\n",
              "      <td>22.622398</td>\n",
              "      <td>22.954810</td>\n",
              "      <td>22.106586</td>\n",
              "      <td>22.111170</td>\n",
              "      <td>324377600</td>\n",
              "      <td>0.0</td>\n",
              "      <td>0</td>\n",
              "    </tr>\n",
              "    <tr>\n",
              "      <th>2016-01-08</th>\n",
              "      <td>22.592597</td>\n",
              "      <td>22.720976</td>\n",
              "      <td>22.182239</td>\n",
              "      <td>22.228088</td>\n",
              "      <td>283192000</td>\n",
              "      <td>0.0</td>\n",
              "      <td>0</td>\n",
              "    </tr>\n",
              "    <tr>\n",
              "      <th>...</th>\n",
              "      <td>...</td>\n",
              "      <td>...</td>\n",
              "      <td>...</td>\n",
              "      <td>...</td>\n",
              "      <td>...</td>\n",
              "      <td>...</td>\n",
              "      <td>...</td>\n",
              "    </tr>\n",
              "    <tr>\n",
              "      <th>2017-12-22</th>\n",
              "      <td>41.594672</td>\n",
              "      <td>41.770882</td>\n",
              "      <td>41.551813</td>\n",
              "      <td>41.673252</td>\n",
              "      <td>65397600</td>\n",
              "      <td>0.0</td>\n",
              "      <td>0</td>\n",
              "    </tr>\n",
              "    <tr>\n",
              "      <th>2017-12-26</th>\n",
              "      <td>40.670771</td>\n",
              "      <td>40.830311</td>\n",
              "      <td>40.404075</td>\n",
              "      <td>40.616005</td>\n",
              "      <td>132742000</td>\n",
              "      <td>0.0</td>\n",
              "      <td>0</td>\n",
              "    </tr>\n",
              "    <tr>\n",
              "      <th>2017-12-27</th>\n",
              "      <td>40.504090</td>\n",
              "      <td>40.666010</td>\n",
              "      <td>40.411224</td>\n",
              "      <td>40.623150</td>\n",
              "      <td>85992800</td>\n",
              "      <td>0.0</td>\n",
              "      <td>0</td>\n",
              "    </tr>\n",
              "    <tr>\n",
              "      <th>2017-12-28</th>\n",
              "      <td>40.718396</td>\n",
              "      <td>40.920799</td>\n",
              "      <td>40.594573</td>\n",
              "      <td>40.737446</td>\n",
              "      <td>65920800</td>\n",
              "      <td>0.0</td>\n",
              "      <td>0</td>\n",
              "    </tr>\n",
              "    <tr>\n",
              "      <th>2017-12-29</th>\n",
              "      <td>40.604100</td>\n",
              "      <td>40.620767</td>\n",
              "      <td>40.294545</td>\n",
              "      <td>40.296925</td>\n",
              "      <td>103999600</td>\n",
              "      <td>0.0</td>\n",
              "      <td>0</td>\n",
              "    </tr>\n",
              "  </tbody>\n",
              "</table>\n",
              "<p>503 rows × 7 columns</p>\n",
              "</div>\n",
              "      <button class=\"colab-df-convert\" onclick=\"convertToInteractive('df-eee65e73-9094-4be9-8d4b-5f0b890d4d8b')\"\n",
              "              title=\"Convert this dataframe to an interactive table.\"\n",
              "              style=\"display:none;\">\n",
              "        \n",
              "  <svg xmlns=\"http://www.w3.org/2000/svg\" height=\"24px\"viewBox=\"0 0 24 24\"\n",
              "       width=\"24px\">\n",
              "    <path d=\"M0 0h24v24H0V0z\" fill=\"none\"/>\n",
              "    <path d=\"M18.56 5.44l.94 2.06.94-2.06 2.06-.94-2.06-.94-.94-2.06-.94 2.06-2.06.94zm-11 1L8.5 8.5l.94-2.06 2.06-.94-2.06-.94L8.5 2.5l-.94 2.06-2.06.94zm10 10l.94 2.06.94-2.06 2.06-.94-2.06-.94-.94-2.06-.94 2.06-2.06.94z\"/><path d=\"M17.41 7.96l-1.37-1.37c-.4-.4-.92-.59-1.43-.59-.52 0-1.04.2-1.43.59L10.3 9.45l-7.72 7.72c-.78.78-.78 2.05 0 2.83L4 21.41c.39.39.9.59 1.41.59.51 0 1.02-.2 1.41-.59l7.78-7.78 2.81-2.81c.8-.78.8-2.07 0-2.86zM5.41 20L4 18.59l7.72-7.72 1.47 1.35L5.41 20z\"/>\n",
              "  </svg>\n",
              "      </button>\n",
              "      \n",
              "  <style>\n",
              "    .colab-df-container {\n",
              "      display:flex;\n",
              "      flex-wrap:wrap;\n",
              "      gap: 12px;\n",
              "    }\n",
              "\n",
              "    .colab-df-convert {\n",
              "      background-color: #E8F0FE;\n",
              "      border: none;\n",
              "      border-radius: 50%;\n",
              "      cursor: pointer;\n",
              "      display: none;\n",
              "      fill: #1967D2;\n",
              "      height: 32px;\n",
              "      padding: 0 0 0 0;\n",
              "      width: 32px;\n",
              "    }\n",
              "\n",
              "    .colab-df-convert:hover {\n",
              "      background-color: #E2EBFA;\n",
              "      box-shadow: 0px 1px 2px rgba(60, 64, 67, 0.3), 0px 1px 3px 1px rgba(60, 64, 67, 0.15);\n",
              "      fill: #174EA6;\n",
              "    }\n",
              "\n",
              "    [theme=dark] .colab-df-convert {\n",
              "      background-color: #3B4455;\n",
              "      fill: #D2E3FC;\n",
              "    }\n",
              "\n",
              "    [theme=dark] .colab-df-convert:hover {\n",
              "      background-color: #434B5C;\n",
              "      box-shadow: 0px 1px 3px 1px rgba(0, 0, 0, 0.15);\n",
              "      filter: drop-shadow(0px 1px 2px rgba(0, 0, 0, 0.3));\n",
              "      fill: #FFFFFF;\n",
              "    }\n",
              "  </style>\n",
              "\n",
              "      <script>\n",
              "        const buttonEl =\n",
              "          document.querySelector('#df-eee65e73-9094-4be9-8d4b-5f0b890d4d8b button.colab-df-convert');\n",
              "        buttonEl.style.display =\n",
              "          google.colab.kernel.accessAllowed ? 'block' : 'none';\n",
              "\n",
              "        async function convertToInteractive(key) {\n",
              "          const element = document.querySelector('#df-eee65e73-9094-4be9-8d4b-5f0b890d4d8b');\n",
              "          const dataTable =\n",
              "            await google.colab.kernel.invokeFunction('convertToInteractive',\n",
              "                                                     [key], {});\n",
              "          if (!dataTable) return;\n",
              "\n",
              "          const docLinkHtml = 'Like what you see? Visit the ' +\n",
              "            '<a target=\"_blank\" href=https://colab.research.google.com/notebooks/data_table.ipynb>data table notebook</a>'\n",
              "            + ' to learn more about interactive tables.';\n",
              "          element.innerHTML = '';\n",
              "          dataTable['output_type'] = 'display_data';\n",
              "          await google.colab.output.renderOutput(dataTable, element);\n",
              "          const docLink = document.createElement('div');\n",
              "          docLink.innerHTML = docLinkHtml;\n",
              "          element.appendChild(docLink);\n",
              "        }\n",
              "      </script>\n",
              "    </div>\n",
              "  </div>\n",
              "  "
            ]
          },
          "metadata": {},
          "execution_count": 328
        }
      ]
    },
    {
      "cell_type": "markdown",
      "metadata": {
        "id": "NkFztSYhJyVA"
      },
      "source": [
        "We will create a Series named \"aapl\" whose values are Apple's daily closing prices, which are of course indexed by dates:"
      ]
    },
    {
      "cell_type": "code",
      "metadata": {
        "id": "QDJbOpCeHW91"
      },
      "source": [
        "# Data fetch in the year 2017\n",
        "aapl = aapl_table['Close']['2017']"
      ],
      "execution_count": 329,
      "outputs": []
    },
    {
      "cell_type": "code",
      "metadata": {
        "colab": {
          "base_uri": "https://localhost:8080/"
        },
        "id": "SXfgCQJOHW91",
        "outputId": "00bdd520-b84e-4c3b-ceb1-d9bded66632f"
      },
      "source": [
        "print(aapl)"
      ],
      "execution_count": 330,
      "outputs": [
        {
          "output_type": "stream",
          "name": "stdout",
          "text": [
            "Date\n",
            "2017-01-03    27.219833\n",
            "2017-01-04    27.189369\n",
            "2017-01-05    27.327633\n",
            "2017-01-06    27.632294\n",
            "2017-01-09    27.885389\n",
            "                ...    \n",
            "2017-12-22    41.673252\n",
            "2017-12-26    40.616005\n",
            "2017-12-27    40.623150\n",
            "2017-12-28    40.737446\n",
            "2017-12-29    40.296925\n",
            "Name: Close, Length: 251, dtype: float64\n"
          ]
        }
      ]
    },
    {
      "cell_type": "markdown",
      "metadata": {
        "id": "waUEgBhzKEcA"
      },
      "source": [
        "Recall that we can fetch a specific data point using series['yyyy-mm-dd']. We can also fetch the data in a specific month using series['yyyy-mm']."
      ]
    },
    {
      "cell_type": "code",
      "metadata": {
        "colab": {
          "base_uri": "https://localhost:8080/"
        },
        "id": "2gS50G0zHW92",
        "outputId": "5874e3a0-22f7-4777-993e-12fdcf7b3895"
      },
      "source": [
        "print(aapl['2017-3'])\n",
        "\n",
        "\n",
        "# ++\n",
        "\n",
        "# The next line provides a second condition for the data from 2017-8\n",
        "print(aapl['2017-8'][aapl > 36])"
      ],
      "execution_count": 331,
      "outputs": [
        {
          "output_type": "stream",
          "name": "stdout",
          "text": [
            "Date\n",
            "2017-03-01    32.901905\n",
            "2017-03-02    32.706566\n",
            "2017-03-03    32.899559\n",
            "2017-03-06    32.796001\n",
            "2017-03-07    32.838367\n",
            "2017-03-08    32.715973\n",
            "2017-03-09    32.640652\n",
            "2017-03-10    32.748932\n",
            "2017-03-13    32.763046\n",
            "2017-03-14    32.713631\n",
            "2017-03-15    33.059612\n",
            "2017-03-16    33.113743\n",
            "2017-03-17    32.948990\n",
            "2017-03-20    33.294983\n",
            "2017-03-21    32.913692\n",
            "2017-03-22    33.285564\n",
            "2017-03-23    33.167881\n",
            "2017-03-24    33.101978\n",
            "2017-03-27    33.158459\n",
            "2017-03-28    33.845737\n",
            "2017-03-29    33.921047\n",
            "2017-03-30    33.876335\n",
            "2017-03-31    33.812794\n",
            "Name: Close, dtype: float64\n",
            "Date\n",
            "2017-08-02    37.138184\n",
            "2017-08-03    36.767151\n",
            "2017-08-04    36.960934\n",
            "2017-08-07    37.532875\n",
            "2017-08-08    37.833035\n",
            "2017-08-09    38.064640\n",
            "2017-08-10    36.852200\n",
            "2017-08-11    37.364700\n",
            "2017-08-14    37.927025\n",
            "2017-08-15    38.342239\n",
            "2017-08-16    38.188007\n",
            "2017-08-17    37.454872\n",
            "2017-08-18    37.369453\n",
            "2017-08-21    37.300640\n",
            "2017-08-22    37.910416\n",
            "2017-08-23    37.957859\n",
            "2017-08-24    37.789413\n",
            "2017-08-25    37.929394\n",
            "2017-08-28    38.311398\n",
            "2017-08-29    38.653065\n",
            "2017-08-30    38.757454\n",
            "2017-08-31    38.911682\n",
            "Name: Close, dtype: float64\n"
          ]
        }
      ]
    },
    {
      "cell_type": "code",
      "metadata": {
        "colab": {
          "base_uri": "https://localhost:8080/"
        },
        "id": "vpvxGwXtHW92",
        "outputId": "acefea85-4518-4f40-aad7-a25ebe47a806"
      },
      "source": [
        "print(aapl['2017-2':'2017-4'])\n",
        "\n",
        "\n",
        "# ++\n",
        "\n",
        "# The code below prints the data points between July 1st and\n",
        "# September 24th, excluding those that differ in more than\n",
        "# 0.5 units with the slice mean.\n",
        "print(aapl['2017-7':'2017-9-24'][abs(aapl - np.mean(aapl['2017-7':'2017-9-24']) < .5)])"
      ],
      "execution_count": 332,
      "outputs": [
        {
          "output_type": "stream",
          "name": "stdout",
          "text": [
            "Date\n",
            "2017-02-01    30.172651\n",
            "2017-02-02    30.121099\n",
            "2017-02-03    30.249989\n",
            "2017-02-06    30.533548\n",
            "2017-02-07    30.824135\n",
            "                ...    \n",
            "2017-04-24    33.808075\n",
            "2017-04-25    34.017559\n",
            "2017-04-26    33.817497\n",
            "2017-04-27    33.843384\n",
            "2017-04-28    33.810436\n",
            "Name: Close, Length: 61, dtype: float64\n",
            "Date\n",
            "2017-07-03    33.914536\n",
            "2017-07-05    34.053978\n",
            "2017-07-06    33.732555\n",
            "2017-07-07    34.075241\n",
            "2017-07-10    34.283226\n",
            "2017-07-11    34.394299\n",
            "2017-07-12    34.443939\n",
            "2017-07-13    34.923706\n",
            "2017-07-14    35.223846\n",
            "2017-07-17    35.346748\n",
            "2017-07-18    35.469646\n",
            "2017-07-19    35.691795\n",
            "2017-07-20    35.531086\n",
            "2017-07-21    35.514549\n",
            "2017-07-24    35.944679\n",
            "2017-07-25    36.098309\n",
            "2017-07-26    36.268475\n",
            "2017-07-27    35.583088\n",
            "2017-07-28    35.332569\n",
            "2017-07-31    35.150589\n",
            "2017-08-01    35.462551\n",
            "2017-08-02    37.138184\n",
            "2017-08-03    36.767151\n",
            "2017-08-04    36.960934\n",
            "2017-08-10    36.852200\n",
            "2017-09-20    37.030167\n",
            "2017-09-21    36.394287\n",
            "2017-09-22    36.038372\n",
            "Name: Close, dtype: float64\n"
          ]
        }
      ]
    },
    {
      "cell_type": "markdown",
      "metadata": {
        "id": "lWwoD39pKNKb"
      },
      "source": [
        ".head(N) and .tail(N) are methods for quickly accessing the first or last N elements."
      ]
    },
    {
      "cell_type": "code",
      "metadata": {
        "colab": {
          "base_uri": "https://localhost:8080/"
        },
        "id": "1eU218ALHW93",
        "outputId": "e7855eb4-97c8-489c-ad65-dcc0160830f5"
      },
      "source": [
        "print(aapl.head(5))\n",
        "print(aapl.tail(10))\n",
        "\n",
        "\n",
        "# ++\n",
        "\n",
        "# The same can be achieved with integer indexes.\n",
        "print(aapl.iloc[:5])\n",
        "print(aapl.iloc[-10:])"
      ],
      "execution_count": 333,
      "outputs": [
        {
          "output_type": "stream",
          "name": "stdout",
          "text": [
            "Date\n",
            "2017-01-03    27.219833\n",
            "2017-01-04    27.189369\n",
            "2017-01-05    27.327633\n",
            "2017-01-06    27.632294\n",
            "2017-01-09    27.885389\n",
            "Name: Close, dtype: float64\n",
            "Date\n",
            "2017-12-15    41.425610\n",
            "2017-12-18    42.009003\n",
            "2017-12-19    41.561340\n",
            "2017-12-20    41.516098\n",
            "2017-12-21    41.673252\n",
            "2017-12-22    41.673252\n",
            "2017-12-26    40.616005\n",
            "2017-12-27    40.623150\n",
            "2017-12-28    40.737446\n",
            "2017-12-29    40.296925\n",
            "Name: Close, dtype: float64\n",
            "Date\n",
            "2017-01-03    27.219833\n",
            "2017-01-04    27.189369\n",
            "2017-01-05    27.327633\n",
            "2017-01-06    27.632294\n",
            "2017-01-09    27.885389\n",
            "Name: Close, dtype: float64\n",
            "Date\n",
            "2017-12-15    41.425610\n",
            "2017-12-18    42.009003\n",
            "2017-12-19    41.561340\n",
            "2017-12-20    41.516098\n",
            "2017-12-21    41.673252\n",
            "2017-12-22    41.673252\n",
            "2017-12-26    40.616005\n",
            "2017-12-27    40.623150\n",
            "2017-12-28    40.737446\n",
            "2017-12-29    40.296925\n",
            "Name: Close, dtype: float64\n"
          ]
        }
      ]
    },
    {
      "cell_type": "markdown",
      "metadata": {
        "id": "IxhKxtj-KQ66"
      },
      "source": [
        "# Resampling\n",
        "**_series.resample(freq)_** is a class called \"DatetimeIndexResampler\" which groups data in a Series object into regular time intervals. The argument \"freq\" determines the length of each interval.\n",
        "\n",
        "**_series.resample.mean()_** is a complete statement that groups data into intervals, and then compute the mean of each interval. For example, if we want to aggregate the daily data into monthly data by mean:"
      ]
    },
    {
      "cell_type": "code",
      "metadata": {
        "colab": {
          "base_uri": "https://localhost:8080/"
        },
        "id": "rAV8NkHkHW93",
        "outputId": "a45e4391-ad54-408f-b476-6badc4a043cc"
      },
      "source": [
        "by_month = aapl.resample('M').mean()\n",
        "print(by_month)\n",
        "\n",
        "\n",
        "# ++\n",
        "\n",
        "# The next line groups data by month and takes the minimum data by month.\n",
        "by_month_max = aapl.resample(\"M\").min()\n",
        "print(by_month_max)"
      ],
      "execution_count": 334,
      "outputs": [
        {
          "output_type": "stream",
          "name": "stdout",
          "text": [
            "Date\n",
            "2017-01-31    28.021314\n",
            "2017-02-28    31.430153\n",
            "2017-03-31    33.096759\n",
            "2017-04-30    33.630810\n",
            "2017-05-31    35.924379\n",
            "2017-06-30    34.938204\n",
            "2017-07-31    35.048843\n",
            "2017-08-31    37.686052\n",
            "2017-09-30    37.395190\n",
            "2017-10-31    37.444725\n",
            "2017-11-30    41.004146\n",
            "2017-12-31    40.930681\n",
            "Freq: M, Name: Close, dtype: float64\n",
            "Date\n",
            "2017-01-31    27.189369\n",
            "2017-02-28    30.121099\n",
            "2017-03-31    32.640652\n",
            "2017-04-30    33.111389\n",
            "2017-05-31    34.488289\n",
            "2017-06-30    33.623848\n",
            "2017-07-31    33.732555\n",
            "2017-08-31    35.462551\n",
            "2017-09-30    35.720436\n",
            "2017-10-31    36.415638\n",
            "2017-11-30    39.597378\n",
            "2017-12-31    40.244545\n",
            "Freq: M, Name: Close, dtype: float64\n"
          ]
        }
      ]
    },
    {
      "cell_type": "markdown",
      "metadata": {
        "id": "QDPfVzBEKV6Q"
      },
      "source": [
        "We can also aggregate the data by week:"
      ]
    },
    {
      "cell_type": "code",
      "metadata": {
        "colab": {
          "base_uri": "https://localhost:8080/"
        },
        "id": "aAP3tKkBHW94",
        "outputId": "cf75f353-dd8a-49b5-d565-cc07afc2bd05"
      },
      "source": [
        "by_week = aapl.resample('W').mean()\n",
        "print(by_week.head())"
      ],
      "execution_count": 335,
      "outputs": [
        {
          "output_type": "stream",
          "name": "stdout",
          "text": [
            "Date\n",
            "2017-01-08    27.342282\n",
            "2017-01-15    27.941166\n",
            "2017-01-22    28.108611\n",
            "2017-01-29    28.394868\n",
            "2017-02-05    29.497255\n",
            "Freq: W-SUN, Name: Close, dtype: float64\n"
          ]
        }
      ]
    },
    {
      "cell_type": "markdown",
      "metadata": {
        "id": "o_MXSVsILoBS"
      },
      "source": [
        "We can also aggregate the data by month with max:"
      ]
    },
    {
      "cell_type": "code",
      "metadata": {
        "colab": {
          "base_uri": "https://localhost:8080/"
        },
        "id": "gn0wqXBTHW95",
        "outputId": "5ead4d26-8441-49fc-aa92-acff6172af7f"
      },
      "source": [
        "# Data is grouped into months and then the maximum of each month is computed.\n",
        "aapl.resample('M').max()"
      ],
      "execution_count": 336,
      "outputs": [
        {
          "output_type": "execute_result",
          "data": {
            "text/plain": [
              "Date\n",
              "2017-01-31    28.579069\n",
              "2017-02-28    32.271137\n",
              "2017-03-31    33.921047\n",
              "2017-04-30    34.074047\n",
              "2017-05-31    36.892403\n",
              "2017-06-30    36.738777\n",
              "2017-07-31    36.268475\n",
              "2017-08-31    38.911682\n",
              "2017-09-30    38.923538\n",
              "2017-10-31    40.107498\n",
              "2017-11-30    41.815819\n",
              "2017-12-31    42.009003\n",
              "Freq: M, Name: Close, dtype: float64"
            ]
          },
          "metadata": {},
          "execution_count": 336
        }
      ]
    },
    {
      "cell_type": "markdown",
      "metadata": {
        "id": "Z8r46UFlLdAh"
      },
      "source": [
        "We can choose almost any frequency by using the format 'nf', where 'n' is an integer and 'f' is M for month, W for week and D for day."
      ]
    },
    {
      "cell_type": "code",
      "metadata": {
        "colab": {
          "base_uri": "https://localhost:8080/"
        },
        "id": "kdVB_-JFHW96",
        "outputId": "f5117c5a-dde5-499e-d5fb-2babcfcc47cf"
      },
      "source": [
        "three_day = aapl.resample('3D').mean()\n",
        "two_week = aapl.resample('2W').mean()\n",
        "two_month = aapl.resample('2M').mean()\n",
        "\n",
        "\n",
        "print(three_day)\n",
        "print(two_week)\n",
        "print(two_month)"
      ],
      "execution_count": 337,
      "outputs": [
        {
          "output_type": "stream",
          "name": "stdout",
          "text": [
            "Date\n",
            "2017-01-03    27.245612\n",
            "2017-01-06    27.632294\n",
            "2017-01-09    27.954131\n",
            "2017-01-12    27.921719\n",
            "2017-01-15    28.122086\n",
            "                ...    \n",
            "2017-12-17    41.785172\n",
            "2017-12-20    41.620867\n",
            "2017-12-23          NaN\n",
            "2017-12-26    40.658867\n",
            "2017-12-29    40.296925\n",
            "Freq: 3D, Name: Close, Length: 121, dtype: float64\n",
            "Date\n",
            "2017-01-08    27.342282\n",
            "2017-01-22    28.015586\n",
            "2017-02-05    28.946062\n",
            "2017-02-19    31.341191\n",
            "2017-03-05    32.413922\n",
            "2017-03-19    32.833895\n",
            "2017-04-02    33.437847\n",
            "2017-04-16    33.661105\n",
            "2017-04-30    33.603545\n",
            "2017-05-14    35.498712\n",
            "2017-05-28    36.292809\n",
            "2017-06-11    36.311532\n",
            "2017-06-25    34.336639\n",
            "2017-07-09    34.074194\n",
            "2017-07-23    35.082284\n",
            "2017-08-06    36.070653\n",
            "2017-08-20    37.692905\n",
            "2017-09-03    38.244486\n",
            "2017-09-17    38.069384\n",
            "2017-10-01    36.635582\n",
            "2017-10-15    36.865018\n",
            "2017-10-29    37.546923\n",
            "2017-11-12    40.803592\n",
            "2017-11-26    40.974770\n",
            "2017-12-10    40.639344\n",
            "2017-12-24    41.388940\n",
            "2018-01-07    40.568381\n",
            "Freq: 2W-SUN, Name: Close, dtype: float64\n",
            "Date\n",
            "2017-01-31    28.021314\n",
            "2017-03-31    32.342818\n",
            "2017-05-31    34.861506\n",
            "2017-07-31    34.990889\n",
            "2017-09-30    37.550767\n",
            "2017-11-30    39.183047\n",
            "2018-01-31    40.930681\n",
            "Freq: 2M, Name: Close, dtype: float64\n"
          ]
        }
      ]
    },
    {
      "cell_type": "markdown",
      "metadata": {
        "id": "iy4RqsnwL-Bw"
      },
      "source": [
        "Besides the mean() method, other methods can also be used with the resampler:\n",
        "\n"
      ]
    },
    {
      "cell_type": "code",
      "metadata": {
        "colab": {
          "base_uri": "https://localhost:8080/"
        },
        "id": "DNT8Fx9dHW96",
        "outputId": "87e8a03b-7ea8-48c8-cc49-10bb9fea6d13"
      },
      "source": [
        "std = aapl.resample('W').std()\n",
        "max = aapl.resample('W').max()\n",
        "min = aapl.resample('W').min()\n",
        "\n",
        "\n",
        "print(std)\n",
        "print(max)\n",
        "print(min)"
      ],
      "execution_count": 338,
      "outputs": [
        {
          "output_type": "stream",
          "name": "stdout",
          "text": [
            "Date\n",
            "2017-01-08    0.202235\n",
            "2017-01-15    0.072124\n",
            "2017-01-22    0.025410\n",
            "2017-01-29    0.243920\n",
            "2017-02-05    0.938004\n",
            "2017-02-12    0.250597\n",
            "2017-02-19    0.230104\n",
            "2017-02-26    0.059015\n",
            "2017-03-05    0.338195\n",
            "2017-03-12    0.075863\n",
            "2017-03-19    0.176841\n",
            "2017-03-26    0.156385\n",
            "2017-04-02    0.318029\n",
            "2017-04-09    0.127973\n",
            "2017-04-16    0.211289\n",
            "2017-04-23    0.173703\n",
            "2017-04-30    0.089524\n",
            "2017-05-07    0.234327\n",
            "2017-05-14    0.351016\n",
            "2017-05-21    0.533099\n",
            "2017-05-28    0.060056\n",
            "2017-06-04    0.279656\n",
            "2017-06-11    0.616582\n",
            "2017-06-18    0.380433\n",
            "2017-06-25    0.128173\n",
            "2017-07-02    0.262638\n",
            "2017-07-09    0.158005\n",
            "2017-07-16    0.402029\n",
            "2017-07-23    0.124289\n",
            "2017-07-30    0.382300\n",
            "2017-08-06    0.919238\n",
            "2017-08-13    0.464869\n",
            "2017-08-20    0.432820\n",
            "2017-08-27    0.274228\n",
            "2017-09-03    0.250321\n",
            "2017-09-10    0.379509\n",
            "2017-09-17    0.292502\n",
            "2017-09-24    0.731101\n",
            "2017-10-01    0.352871\n",
            "2017-10-08    0.203713\n",
            "2017-10-15    0.118070\n",
            "2017-10-22    0.514117\n",
            "2017-10-29    0.676665\n",
            "2017-11-05    0.557560\n",
            "2017-11-12    0.189904\n",
            "2017-11-19    0.433770\n",
            "2017-11-26    0.559907\n",
            "2017-12-03    0.425062\n",
            "2017-12-10    0.072717\n",
            "2017-12-17    0.204119\n",
            "2017-12-24    0.193042\n",
            "2017-12-31    0.189331\n",
            "Freq: W-SUN, Name: Close, dtype: float64\n",
            "Date\n",
            "2017-01-08    27.632294\n",
            "2017-01-15    28.063494\n",
            "2017-01-22    28.122086\n",
            "2017-01-29    28.579069\n",
            "2017-02-05    30.249989\n",
            "2017-02-12    31.167261\n",
            "2017-02-19    31.943966\n",
            "2017-02-26    32.271137\n",
            "2017-03-05    32.901905\n",
            "2017-03-12    32.838367\n",
            "2017-03-19    33.113743\n",
            "2017-03-26    33.294983\n",
            "2017-04-02    33.921047\n",
            "2017-04-09    34.074047\n",
            "2017-04-16    33.697449\n",
            "2017-04-23    33.525642\n",
            "2017-04-30    34.017559\n",
            "2017-05-07    35.060234\n",
            "2017-05-14    36.892403\n",
            "2017-05-21    36.797855\n",
            "2017-05-28    36.393723\n",
            "2017-06-04    36.738777\n",
            "2017-06-11    36.719875\n",
            "2017-06-18    34.644829\n",
            "2017-06-25    34.585728\n",
            "2017-07-02    34.465202\n",
            "2017-07-09    34.075241\n",
            "2017-07-16    35.223846\n",
            "2017-07-23    35.691795\n",
            "2017-07-30    36.268475\n",
            "2017-08-06    37.138184\n",
            "2017-08-13    38.064640\n",
            "2017-08-20    38.342239\n",
            "2017-08-27    37.957859\n",
            "2017-09-03    38.923538\n",
            "2017-09-10    38.456123\n",
            "2017-09-17    38.318516\n",
            "2017-09-24    37.661282\n",
            "2017-10-01    36.593582\n",
            "2017-10-08    36.868805\n",
            "2017-10-15    37.248440\n",
            "2017-10-22    38.074127\n",
            "2017-10-29    38.686279\n",
            "2017-11-05    40.928444\n",
            "2017-11-12    41.815819\n",
            "2017-11-19    41.425610\n",
            "2017-11-26    41.663727\n",
            "2017-12-03    41.454189\n",
            "2017-12-10    40.432648\n",
            "2017-12-17    41.425610\n",
            "2017-12-24    42.009003\n",
            "2017-12-31    40.737446\n",
            "Freq: W-SUN, Name: Close, dtype: float64\n",
            "Date\n",
            "2017-01-08    27.189369\n",
            "2017-01-15    27.885389\n",
            "2017-01-22    28.070532\n",
            "2017-01-29    28.115053\n",
            "2017-02-05    28.438459\n",
            "2017-02-12    30.533548\n",
            "2017-02-19    31.372030\n",
            "2017-02-26    32.134621\n",
            "2017-03-05    32.228767\n",
            "2017-03-12    32.640652\n",
            "2017-03-19    32.713631\n",
            "2017-03-26    32.913692\n",
            "2017-04-02    33.158459\n",
            "2017-04-09    33.737469\n",
            "2017-04-16    33.198479\n",
            "2017-04-23    33.111389\n",
            "2017-04-30    33.808075\n",
            "2017-05-07    34.488289\n",
            "2017-05-14    36.013462\n",
            "2017-05-21    35.509827\n",
            "2017-05-28    36.240105\n",
            "2017-06-04    36.103024\n",
            "2017-06-11    35.209667\n",
            "2017-06-18    33.623848\n",
            "2017-06-25    34.271408\n",
            "2017-07-02    33.957077\n",
            "2017-07-09    33.732555\n",
            "2017-07-16    34.283226\n",
            "2017-07-23    35.346748\n",
            "2017-07-30    35.332569\n",
            "2017-08-06    35.150589\n",
            "2017-08-13    36.852200\n",
            "2017-08-20    37.369453\n",
            "2017-08-27    37.300640\n",
            "2017-09-03    38.311398\n",
            "2017-09-10    37.637566\n",
            "2017-09-17    37.554516\n",
            "2017-09-24    36.038372\n",
            "2017-10-01    35.720436\n",
            "2017-10-08    36.415638\n",
            "2017-10-15    36.975590\n",
            "2017-10-22    37.008797\n",
            "2017-10-29    37.053886\n",
            "2017-11-05    39.557041\n",
            "2017-11-12    41.343666\n",
            "2017-11-19    40.261200\n",
            "2017-11-26    40.475517\n",
            "2017-12-03    40.356457\n",
            "2017-12-10    40.244545\n",
            "2017-12-17    40.885082\n",
            "2017-12-24    41.516098\n",
            "2017-12-31    40.296925\n",
            "Freq: W-SUN, Name: Close, dtype: float64\n"
          ]
        }
      ]
    },
    {
      "cell_type": "markdown",
      "metadata": {
        "id": "uqln0s5DMI3I"
      },
      "source": [
        "Often we want to calculate monthly returns of a stock, based on prices on the last day of each month. To fetch those prices, we use the series.resample.agg() method:"
      ]
    },
    {
      "cell_type": "code",
      "metadata": {
        "colab": {
          "base_uri": "https://localhost:8080/"
        },
        "id": "A6FSYvqbHW97",
        "outputId": "ca8eb03d-a8ef-48cd-e802-a5be4f0a9139"
      },
      "source": [
        "# x takes every value in the column of monthly data.\n",
        "last_day = aapl.resample('M').agg(lambda x: x[-1])\n",
        "print(last_day)\n",
        "\n",
        "\n",
        "# ++\n",
        "\n",
        "# The next line fetches the prices on the last day of each month and computes\n",
        "# their difference with the prices on January 31st.\n",
        "january_diff = aapl.resample('M').agg(lambda x: abs(x[-1] - aapl[\"2017-01\"][-1]))\n",
        "print(january_diff)"
      ],
      "execution_count": 339,
      "outputs": [
        {
          "output_type": "stream",
          "name": "stdout",
          "text": [
            "Date\n",
            "2017-01-31    28.438459\n",
            "2017-02-28    32.242882\n",
            "2017-03-31    33.812794\n",
            "2017-04-30    33.810436\n",
            "2017-05-31    36.103024\n",
            "2017-06-30    34.037430\n",
            "2017-07-31    35.150589\n",
            "2017-08-31    38.911682\n",
            "2017-09-30    36.567490\n",
            "2017-10-31    40.107498\n",
            "2017-11-30    40.920811\n",
            "2017-12-31    40.296925\n",
            "Freq: M, Name: Close, dtype: float64\n",
            "Date\n",
            "2017-01-31     0.000000\n",
            "2017-02-28     3.804422\n",
            "2017-03-31     5.374334\n",
            "2017-04-30     5.371977\n",
            "2017-05-31     7.664564\n",
            "2017-06-30     5.598970\n",
            "2017-07-31     6.712130\n",
            "2017-08-31    10.473223\n",
            "2017-09-30     8.129030\n",
            "2017-10-31    11.669039\n",
            "2017-11-30    12.482351\n",
            "2017-12-31    11.858465\n",
            "Freq: M, Name: Close, dtype: float64\n"
          ]
        }
      ]
    },
    {
      "cell_type": "markdown",
      "metadata": {
        "id": "uwomY3aXMR46"
      },
      "source": [
        "Or directly calculate the monthly rates of return using the data for the first day and the last day:"
      ]
    },
    {
      "cell_type": "code",
      "metadata": {
        "colab": {
          "base_uri": "https://localhost:8080/"
        },
        "id": "qK2NMJrNHW96",
        "outputId": "a3325d28-7d03-4862-a4bf-134f3a8a423b"
      },
      "source": [
        "monthly_return = aapl.resample('M').agg(lambda x: x[-1]/x[0] - 1)\n",
        "print(monthly_return)"
      ],
      "execution_count": 340,
      "outputs": [
        {
          "output_type": "stream",
          "name": "stdout",
          "text": [
            "Date\n",
            "2017-01-31    0.044770\n",
            "2017-02-28    0.068613\n",
            "2017-03-31    0.027685\n",
            "2017-04-30   -0.000348\n",
            "2017-05-31    0.046463\n",
            "2017-06-30   -0.059799\n",
            "2017-07-31    0.036446\n",
            "2017-08-31    0.097261\n",
            "2017-09-30   -0.060530\n",
            "2017-10-31    0.099018\n",
            "2017-11-30    0.033422\n",
            "2017-12-31   -0.010640\n",
            "Freq: M, Name: Close, dtype: float64\n"
          ]
        }
      ]
    },
    {
      "cell_type": "markdown",
      "metadata": {
        "id": "_DYbMTFWMj8J"
      },
      "source": [
        "Series object also provides us some convenient methods to do some quick calculation."
      ]
    },
    {
      "cell_type": "code",
      "metadata": {
        "colab": {
          "base_uri": "https://localhost:8080/"
        },
        "id": "1Mxc0HwvHW98",
        "outputId": "918ea979-f05a-4b7f-e90d-46983e1e8c6e"
      },
      "source": [
        "# Compute average by adding the data and dividing the result by the number \n",
        "# of data elements.\n",
        "print(monthly_return.mean())\n",
        "\n",
        "# Compute standard deviation.\n",
        "print(monthly_return.std())\n",
        "\n",
        "# Find maximum.\n",
        "print(monthly_return.max())\n",
        "\n",
        "\n",
        "# ++\n",
        "\n",
        "# Find minimum.\n",
        "print(monthly_return.min())\n",
        "\n",
        "# Add all the data.\n",
        "print(monthly_return.sum())\n",
        "\n",
        "# Compute product.\n",
        "print(monthly_return.prod())"
      ],
      "execution_count": 341,
      "outputs": [
        {
          "output_type": "stream",
          "name": "stdout",
          "text": [
            "0.02686341469547739\n",
            "0.05225850941003253\n",
            "0.09901830993350358\n",
            "-0.06053017511906611\n",
            "0.3223609763457287\n",
            "6.205670946207166e-19\n"
          ]
        }
      ]
    },
    {
      "cell_type": "markdown",
      "metadata": {
        "id": "mn59J5dqMpqX"
      },
      "source": [
        "Another two methods frequently used on Series are .diff() and .pct_change(). The former calculates the difference between consecutive elements, and the latter calculates the percentage change."
      ]
    },
    {
      "cell_type": "code",
      "metadata": {
        "colab": {
          "base_uri": "https://localhost:8080/"
        },
        "id": "DupZTSqqHW99",
        "outputId": "76019ad2-8274-4064-d7cb-edce895efde7"
      },
      "source": [
        "print(last_day.diff())\n",
        "print(last_day.pct_change())\n",
        "\n",
        "\n",
        "# ++\n",
        "\n",
        "# The diff method admits a parameter to determine the sepparation\n",
        "# of the data whose difference is to be taken.\n",
        "# The following code takes the differences betwen the 1st and 3rd \n",
        "# elements, 2nd and 4th elemnts, 3rd and 5th elements, etc.\n",
        "last_day_spaced_diff = last_day.diff(2)\n",
        "print(last_day_spaced_diff)"
      ],
      "execution_count": 342,
      "outputs": [
        {
          "output_type": "stream",
          "name": "stdout",
          "text": [
            "Date\n",
            "2017-01-31         NaN\n",
            "2017-02-28    3.804422\n",
            "2017-03-31    1.569912\n",
            "2017-04-30   -0.002357\n",
            "2017-05-31    2.292587\n",
            "2017-06-30   -2.065594\n",
            "2017-07-31    1.113159\n",
            "2017-08-31    3.761093\n",
            "2017-09-30   -2.344193\n",
            "2017-10-31    3.540009\n",
            "2017-11-30    0.813313\n",
            "2017-12-31   -0.623886\n",
            "Freq: M, Name: Close, dtype: float64\n",
            "Date\n",
            "2017-01-31         NaN\n",
            "2017-02-28    0.133777\n",
            "2017-03-31    0.048690\n",
            "2017-04-30   -0.000070\n",
            "2017-05-31    0.067807\n",
            "2017-06-30   -0.057214\n",
            "2017-07-31    0.032704\n",
            "2017-08-31    0.106999\n",
            "2017-09-30   -0.060244\n",
            "2017-10-31    0.096808\n",
            "2017-11-30    0.020278\n",
            "2017-12-31   -0.015246\n",
            "Freq: M, Name: Close, dtype: float64\n",
            "Date\n",
            "2017-01-31         NaN\n",
            "2017-02-28         NaN\n",
            "2017-03-31    5.374334\n",
            "2017-04-30    1.567554\n",
            "2017-05-31    2.290230\n",
            "2017-06-30    0.226994\n",
            "2017-07-31   -0.952435\n",
            "2017-08-31    4.874252\n",
            "2017-09-30    1.416901\n",
            "2017-10-31    1.195816\n",
            "2017-11-30    4.353321\n",
            "2017-12-31    0.189426\n",
            "Freq: M, Name: Close, dtype: float64\n"
          ]
        }
      ]
    },
    {
      "cell_type": "markdown",
      "metadata": {
        "id": "RaMAOFepM6Io"
      },
      "source": [
        "Notice that we induced a NaN value while calculating percentage changes i.e. returns.\n",
        "\n",
        "When dealing with NaN values, we usually either removing the data point or fill it with a specific value. Here we fill it with 0:"
      ]
    },
    {
      "cell_type": "code",
      "metadata": {
        "colab": {
          "base_uri": "https://localhost:8080/"
        },
        "id": "-xyLb3A3HW99",
        "outputId": "020cad07-8e1f-4f15-f978-6ea1e6dd9c4a"
      },
      "source": [
        "daily_return = last_day.pct_change()\n",
        "print(daily_return.fillna(0))\n",
        "\n",
        "\n",
        "# ++\n",
        "\n",
        "# fillna removes all NaN values:\n",
        "print(last_day_spaced_diff.head(5))\n",
        "last_day_spaced_diff = last_day_spaced_diff.fillna(0)\n",
        "print(last_day_spaced_diff.head(5))"
      ],
      "execution_count": 343,
      "outputs": [
        {
          "output_type": "stream",
          "name": "stdout",
          "text": [
            "Date\n",
            "2017-01-31    0.000000\n",
            "2017-02-28    0.133777\n",
            "2017-03-31    0.048690\n",
            "2017-04-30   -0.000070\n",
            "2017-05-31    0.067807\n",
            "2017-06-30   -0.057214\n",
            "2017-07-31    0.032704\n",
            "2017-08-31    0.106999\n",
            "2017-09-30   -0.060244\n",
            "2017-10-31    0.096808\n",
            "2017-11-30    0.020278\n",
            "2017-12-31   -0.015246\n",
            "Freq: M, Name: Close, dtype: float64\n",
            "Date\n",
            "2017-01-31         NaN\n",
            "2017-02-28         NaN\n",
            "2017-03-31    5.374334\n",
            "2017-04-30    1.567554\n",
            "2017-05-31    2.290230\n",
            "Freq: M, Name: Close, dtype: float64\n",
            "Date\n",
            "2017-01-31    0.000000\n",
            "2017-02-28    0.000000\n",
            "2017-03-31    5.374334\n",
            "2017-04-30    1.567554\n",
            "2017-05-31    2.290230\n",
            "Freq: M, Name: Close, dtype: float64\n"
          ]
        }
      ]
    },
    {
      "cell_type": "markdown",
      "metadata": {
        "id": "BYS10Om1NQVC"
      },
      "source": [
        "Alternatively, we can fill a NaN with the next fitted value. This is called 'backward fill', or 'bfill' in short:"
      ]
    },
    {
      "cell_type": "code",
      "metadata": {
        "colab": {
          "base_uri": "https://localhost:8080/"
        },
        "id": "J513kHeKHW9-",
        "outputId": "82b7f02e-1791-4815-c0f0-9b7e06a3337c"
      },
      "source": [
        "daily_return = last_day.pct_change()\n",
        "print(daily_return.fillna(method = 'bfill'))\n",
        "\n",
        "\n",
        "# ++\n",
        "\n",
        "# The amount of filled NaN values can be limited.\n",
        "last_day_spaced_diff = last_day.diff(2)\n",
        "# The next line only deals with one NaN value.\n",
        "print(last_day_spaced_diff.fillna(method = 'bfill', limit = 1))"
      ],
      "execution_count": 344,
      "outputs": [
        {
          "output_type": "stream",
          "name": "stdout",
          "text": [
            "Date\n",
            "2017-01-31    0.133777\n",
            "2017-02-28    0.133777\n",
            "2017-03-31    0.048690\n",
            "2017-04-30   -0.000070\n",
            "2017-05-31    0.067807\n",
            "2017-06-30   -0.057214\n",
            "2017-07-31    0.032704\n",
            "2017-08-31    0.106999\n",
            "2017-09-30   -0.060244\n",
            "2017-10-31    0.096808\n",
            "2017-11-30    0.020278\n",
            "2017-12-31   -0.015246\n",
            "Freq: M, Name: Close, dtype: float64\n",
            "Date\n",
            "2017-01-31         NaN\n",
            "2017-02-28    5.374334\n",
            "2017-03-31    5.374334\n",
            "2017-04-30    1.567554\n",
            "2017-05-31    2.290230\n",
            "2017-06-30    0.226994\n",
            "2017-07-31   -0.952435\n",
            "2017-08-31    4.874252\n",
            "2017-09-30    1.416901\n",
            "2017-10-31    1.195816\n",
            "2017-11-30    4.353321\n",
            "2017-12-31    0.189426\n",
            "Freq: M, Name: Close, dtype: float64\n"
          ]
        }
      ]
    },
    {
      "cell_type": "markdown",
      "metadata": {
        "id": "bj8QUSgdNepf"
      },
      "source": [
        "As expected, since there is a 'backward fill' method, there must be a 'forward fill' method, or 'ffill' in short. However we can't use it here because the NaN is the first value.\n",
        "\n",
        "We can also simply remove NaN values by **_.dropna()_**"
      ]
    },
    {
      "cell_type": "code",
      "metadata": {
        "colab": {
          "base_uri": "https://localhost:8080/"
        },
        "id": "WG5ux1lqHW9-",
        "outputId": "1551d40a-f1fd-40ac-b943-5fb64c12e3c7"
      },
      "source": [
        "daily_return = last_day.pct_change()\n",
        "print(daily_return.dropna())\n",
        "\n",
        "\n",
        "# ++\n",
        "\n",
        "# The dropna method simply removes the missing data.\n",
        "last_day_spaced_diff = last_day.diff(2)\n",
        "# This will display only 10 months.\n",
        "print(last_day_spaced_diff.dropna())"
      ],
      "execution_count": 345,
      "outputs": [
        {
          "output_type": "stream",
          "name": "stdout",
          "text": [
            "Date\n",
            "2017-02-28    0.133777\n",
            "2017-03-31    0.048690\n",
            "2017-04-30   -0.000070\n",
            "2017-05-31    0.067807\n",
            "2017-06-30   -0.057214\n",
            "2017-07-31    0.032704\n",
            "2017-08-31    0.106999\n",
            "2017-09-30   -0.060244\n",
            "2017-10-31    0.096808\n",
            "2017-11-30    0.020278\n",
            "2017-12-31   -0.015246\n",
            "Freq: M, Name: Close, dtype: float64\n",
            "Date\n",
            "2017-03-31    5.374334\n",
            "2017-04-30    1.567554\n",
            "2017-05-31    2.290230\n",
            "2017-06-30    0.226994\n",
            "2017-07-31   -0.952435\n",
            "2017-08-31    4.874252\n",
            "2017-09-30    1.416901\n",
            "2017-10-31    1.195816\n",
            "2017-11-30    4.353321\n",
            "2017-12-31    0.189426\n",
            "Freq: M, Name: Close, dtype: float64\n"
          ]
        }
      ]
    },
    {
      "cell_type": "markdown",
      "metadata": {
        "id": "nQH2eBWkNjdC"
      },
      "source": [
        "# DataFrame\n",
        "The **DataFrame** is the most commonly used data structure in Pandas. It is essentially a table, just like an Excel spreadsheet.\n",
        "\n",
        "More precisely, a DataFrame is a collection of Series objects, each of which may contain different data types. A DataFrame can be created from various data types: dictionary, 2-D numpy.ndarray, a Series or another DataFrame.\n",
        "\n",
        "## Create DataFrames\n",
        "The most common method of creating a DataFrame is passing a dictionary:"
      ]
    },
    {
      "cell_type": "code",
      "metadata": {
        "colab": {
          "base_uri": "https://localhost:8080/"
        },
        "id": "vd5Wf1ohHW9-",
        "outputId": "5d6805b4-d515-4ed5-929b-6258ed673e4d"
      },
      "source": [
        "import pandas as pd\n",
        "\n",
        "dict = {'AAPL': [143.5, 144.09, 142.73, 144.18, 143.77],'GOOG':[898.7, 911.71, 906.69, 918.59, 926.99],\n",
        "        'IBM':[155.58, 153.67, 152.36, 152.94, 153.49]}\n",
        "data_index = pd.date_range('2017-07-03',periods = 5, freq = 'D')\n",
        "df = pd.DataFrame(dict, index = data_index)\n",
        "print(df)\n",
        "\n",
        "\n",
        "# ++\n",
        "\n",
        "# The following dictionary has list with the first 15 second, third,\n",
        "# fourth, fifth and sixth, powers stored in lists.\n",
        "powers = {2:[x**2 for x in range(1, 11)], \n",
        "          3:[x**3 for x in range(1, 11)], \n",
        "          4:[x**4 for x in range(1, 11)],\n",
        "          5:[x**5 for x in range(1, 11)],\n",
        "          6:[x**6 for x in range(1, 11)],}\n",
        "power_index = range(1, 11)\n",
        "power_df = pd.DataFrame(powers, index = power_index)\n",
        "print(power_df)"
      ],
      "execution_count": 346,
      "outputs": [
        {
          "output_type": "stream",
          "name": "stdout",
          "text": [
            "              AAPL    GOOG     IBM\n",
            "2017-07-03  143.50  898.70  155.58\n",
            "2017-07-04  144.09  911.71  153.67\n",
            "2017-07-05  142.73  906.69  152.36\n",
            "2017-07-06  144.18  918.59  152.94\n",
            "2017-07-07  143.77  926.99  153.49\n",
            "      2     3      4       5        6\n",
            "1     1     1      1       1        1\n",
            "2     4     8     16      32       64\n",
            "3     9    27     81     243      729\n",
            "4    16    64    256    1024     4096\n",
            "5    25   125    625    3125    15625\n",
            "6    36   216   1296    7776    46656\n",
            "7    49   343   2401   16807   117649\n",
            "8    64   512   4096   32768   262144\n",
            "9    81   729   6561   59049   531441\n",
            "10  100  1000  10000  100000  1000000\n"
          ]
        }
      ]
    },
    {
      "cell_type": "markdown",
      "metadata": {
        "id": "0uYmLQTgOPnX"
      },
      "source": [
        "## Manipulating DataFrames\n",
        "We can fetch values in a DataFrame by columns and index. Each column in a DataFrame is essentially a Pandas Series. We can fetch a column by square brackets: **df['column_name']**\n",
        "\n",
        "If a column name contains no spaces, then we can also use df.column_name to fetch a column:"
      ]
    },
    {
      "cell_type": "code",
      "metadata": {
        "colab": {
          "base_uri": "https://localhost:8080/"
        },
        "id": "2pB2f7lBHW9_",
        "outputId": "e5d8e110-3f1e-4c29-b9e7-606ffbe34b46"
      },
      "source": [
        "df = aapl_table\n",
        "print(df.Close.tail(5))\n",
        "print(df['Volume'].tail(5))\n",
        "\n",
        "\n",
        "# ++\n",
        "\n",
        "# The next line returns the results of adding: 1^2 + 1^4, 2^2 + 2^4...\n",
        "print(power_df[2] + power_df[4])"
      ],
      "execution_count": 347,
      "outputs": [
        {
          "output_type": "stream",
          "name": "stdout",
          "text": [
            "Date\n",
            "2017-12-22    41.673252\n",
            "2017-12-26    40.616005\n",
            "2017-12-27    40.623150\n",
            "2017-12-28    40.737446\n",
            "2017-12-29    40.296925\n",
            "Name: Close, dtype: float64\n",
            "Date\n",
            "2017-12-22     65397600\n",
            "2017-12-26    132742000\n",
            "2017-12-27     85992800\n",
            "2017-12-28     65920800\n",
            "2017-12-29    103999600\n",
            "Name: Volume, dtype: int64\n",
            "1         2\n",
            "2        20\n",
            "3        90\n",
            "4       272\n",
            "5       650\n",
            "6      1332\n",
            "7      2450\n",
            "8      4160\n",
            "9      6642\n",
            "10    10100\n",
            "dtype: int64\n"
          ]
        }
      ]
    },
    {
      "cell_type": "markdown",
      "metadata": {
        "id": "z0ugOel9O4-P"
      },
      "source": [
        "All the methods we applied to a Series index such as iloc[], loc[] and resampling methods, can also be applied to a DataFrame:"
      ]
    },
    {
      "cell_type": "code",
      "metadata": {
        "colab": {
          "base_uri": "https://localhost:8080/"
        },
        "id": "_8dfjkedHW9_",
        "outputId": "63edd1ed-3c97-4aec-f1c7-15201d605197"
      },
      "source": [
        "aapl_2016 = df['2016']\n",
        "aapl_month = aapl_2016.resample('M').agg(lambda x: x[-1])\n",
        "print(aapl_month)\n",
        "\n",
        "\n",
        "# ++\n",
        "\n",
        "# Below, we slace our powers DataFrame and produce the remainder of its\n",
        "# values when divided by 5.\n",
        "mini_power_df = power_df[:8].agg(lambda x: x % 5)\n",
        "print(mini_power_df)"
      ],
      "execution_count": 348,
      "outputs": [
        {
          "output_type": "stream",
          "name": "stdout",
          "text": [
            "                 Open       High        Low      Close     Volume  Dividends  \\\n",
            "Date                                                                           \n",
            "2016-01-31  21.730620  22.315207  21.629749  22.315207  257666000        0.0   \n",
            "2016-02-29  22.325658  22.641435  22.277254  22.286474  140865200        0.0   \n",
            "2016-03-31  25.289805  25.331294  25.096189  25.121544  103553600        0.0   \n",
            "2016-04-30  21.664134  21.832395  21.323003  21.606510  274126000        0.0   \n",
            "2016-05-31  23.096979  23.282497  22.916099  23.157272  169228800        0.0   \n",
            "2016-06-30  21.900390  22.208812  21.867924  22.169390  143345600        0.0   \n",
            "2016-07-31  24.161392  24.244875  24.043124  24.166029  110934800        0.0   \n",
            "2016-08-31  24.635012  24.847181  24.630348  24.737598  118649600        0.0   \n",
            "2016-09-30  26.220457  26.432628  26.066577  26.358019  145516400        0.0   \n",
            "2016-10-31  26.497912  26.633142  26.392992  26.472265  105677600        0.0   \n",
            "2016-11-30  26.153537  26.294148  25.841851  25.900438  144649200        0.0   \n",
            "2016-12-31  27.337010  27.465901  27.051101  27.142498  122345200        0.0   \n",
            "\n",
            "            Stock Splits  \n",
            "Date                      \n",
            "2016-01-31             0  \n",
            "2016-02-29             0  \n",
            "2016-03-31             0  \n",
            "2016-04-30             0  \n",
            "2016-05-31             0  \n",
            "2016-06-30             0  \n",
            "2016-07-31             0  \n",
            "2016-08-31             0  \n",
            "2016-09-30             0  \n",
            "2016-10-31             0  \n",
            "2016-11-30             0  \n",
            "2016-12-31             0  \n",
            "   2  3  4  5  6\n",
            "1  1  1  1  1  1\n",
            "2  4  3  1  2  4\n",
            "3  4  2  1  3  4\n",
            "4  1  4  1  4  1\n",
            "5  0  0  0  0  0\n",
            "6  1  1  1  1  1\n",
            "7  4  3  1  2  4\n",
            "8  4  2  1  3  4\n"
          ]
        },
        {
          "output_type": "stream",
          "name": "stderr",
          "text": [
            "/usr/local/lib/python3.7/dist-packages/ipykernel_launcher.py:1: FutureWarning: Indexing a DataFrame with a datetimelike index using a single string to slice the rows, like `frame[string]`, is deprecated and will be removed in a future version. Use `frame.loc[string]` instead.\n",
            "  \"\"\"Entry point for launching an IPython kernel.\n"
          ]
        }
      ]
    },
    {
      "cell_type": "markdown",
      "metadata": {
        "id": "CqrbrbFZPTJe"
      },
      "source": [
        "We may select certain columns of a DataFrame using their names:"
      ]
    },
    {
      "cell_type": "code",
      "metadata": {
        "colab": {
          "base_uri": "https://localhost:8080/"
        },
        "id": "7bQGeyCAHW9_",
        "outputId": "c2d10098-ba9f-4cde-b208-70b69aa69d7a"
      },
      "source": [
        "aapl_bar = aapl_month[['Open', 'High', 'Low', 'Close']]\n",
        "print(aapl_bar)\n",
        "\n",
        "\n",
        "# ++\n",
        "\n",
        "# The next two lines selects the 2nd and 4th columns.\n",
        "powers3n5 = power_df[[3, 5]]\n",
        "print(powers3n5)"
      ],
      "execution_count": 349,
      "outputs": [
        {
          "output_type": "stream",
          "name": "stdout",
          "text": [
            "                 Open       High        Low      Close\n",
            "Date                                                  \n",
            "2016-01-31  21.730620  22.315207  21.629749  22.315207\n",
            "2016-02-29  22.325658  22.641435  22.277254  22.286474\n",
            "2016-03-31  25.289805  25.331294  25.096189  25.121544\n",
            "2016-04-30  21.664134  21.832395  21.323003  21.606510\n",
            "2016-05-31  23.096979  23.282497  22.916099  23.157272\n",
            "2016-06-30  21.900390  22.208812  21.867924  22.169390\n",
            "2016-07-31  24.161392  24.244875  24.043124  24.166029\n",
            "2016-08-31  24.635012  24.847181  24.630348  24.737598\n",
            "2016-09-30  26.220457  26.432628  26.066577  26.358019\n",
            "2016-10-31  26.497912  26.633142  26.392992  26.472265\n",
            "2016-11-30  26.153537  26.294148  25.841851  25.900438\n",
            "2016-12-31  27.337010  27.465901  27.051101  27.142498\n",
            "       3       5\n",
            "1      1       1\n",
            "2      8      32\n",
            "3     27     243\n",
            "4     64    1024\n",
            "5    125    3125\n",
            "6    216    7776\n",
            "7    343   16807\n",
            "8    512   32768\n",
            "9    729   59049\n",
            "10  1000  100000\n"
          ]
        }
      ]
    },
    {
      "cell_type": "markdown",
      "metadata": {
        "id": "8CQaZCAQP68O"
      },
      "source": [
        "We can even specify both rows and columns using loc[]. The row indices and column names are separated by a comma:"
      ]
    },
    {
      "cell_type": "code",
      "metadata": {
        "colab": {
          "base_uri": "https://localhost:8080/"
        },
        "id": "YjWWiHVpHW-A",
        "outputId": "0c2239ba-eac8-40b7-86ca-1f960ba3843d"
      },
      "source": [
        "print(aapl_month.loc['2016-03':'2016-06',['Open', 'High', 'Low', 'Close']])\n",
        "\n",
        "\n",
        "# ++\n",
        "\n",
        "# The next lines uses loc and iloc to print the first odd 3rd and 5th powers.\n",
        "print(power_df.loc[::2, [3, 5]])\n",
        "# iloc allows the usage of zero-based numbering.\n",
        "print(power_df.iloc[::2, [1, 3]])"
      ],
      "execution_count": 350,
      "outputs": [
        {
          "output_type": "stream",
          "name": "stdout",
          "text": [
            "                 Open       High        Low      Close\n",
            "Date                                                  \n",
            "2016-03-31  25.289805  25.331294  25.096189  25.121544\n",
            "2016-04-30  21.664134  21.832395  21.323003  21.606510\n",
            "2016-05-31  23.096979  23.282497  22.916099  23.157272\n",
            "2016-06-30  21.900390  22.208812  21.867924  22.169390\n",
            "     3      5\n",
            "1    1      1\n",
            "3   27    243\n",
            "5  125   3125\n",
            "7  343  16807\n",
            "9  729  59049\n",
            "     3      5\n",
            "1    1      1\n",
            "3   27    243\n",
            "5  125   3125\n",
            "7  343  16807\n",
            "9  729  59049\n"
          ]
        }
      ]
    },
    {
      "cell_type": "markdown",
      "metadata": {
        "id": "Xcn_pHNLQBEH"
      },
      "source": [
        "The subset methods in DataFrame is quite useful. By writing logical statements in square brackets, we can make customized subsets:"
      ]
    },
    {
      "cell_type": "code",
      "metadata": {
        "colab": {
          "base_uri": "https://localhost:8080/"
        },
        "id": "RxKg4dObHW-A",
        "outputId": "20806261-2eb3-402d-ef89-59b779f08fdf"
      },
      "source": [
        "import numpy as np\n",
        "\n",
        "# Filters so that only the rows with a Close value over the mean remain.\n",
        "above = aapl_bar[aapl_bar.Close > np.mean(aapl_bar.Close)]\n",
        "print(above)"
      ],
      "execution_count": 351,
      "outputs": [
        {
          "output_type": "stream",
          "name": "stdout",
          "text": [
            "                 Open       High        Low      Close\n",
            "Date                                                  \n",
            "2016-03-31  25.289805  25.331294  25.096189  25.121544\n",
            "2016-08-31  24.635012  24.847181  24.630348  24.737598\n",
            "2016-09-30  26.220457  26.432628  26.066577  26.358019\n",
            "2016-10-31  26.497912  26.633142  26.392992  26.472265\n",
            "2016-11-30  26.153537  26.294148  25.841851  25.900438\n",
            "2016-12-31  27.337010  27.465901  27.051101  27.142498\n"
          ]
        }
      ]
    },
    {
      "cell_type": "markdown",
      "metadata": {
        "id": "wcm_UadkQLL5"
      },
      "source": [
        "## Data Validation\n",
        "As mentioned, all methods that apply to a Series can also be applied to a DataFrame. Here we add a new column to an existing DataFrame:"
      ]
    },
    {
      "cell_type": "code",
      "metadata": {
        "colab": {
          "base_uri": "https://localhost:8080/"
        },
        "id": "jZXFdOVFHW-A",
        "outputId": "1e126215-fd02-4d23-d543-e87c18aa7a5e"
      },
      "source": [
        "aapl_bar['rate_return'] = aapl_bar.Close.pct_change()\n",
        "print(aapl_bar)\n",
        "\n",
        "\n",
        "# ++\n",
        "\n",
        "# A new column with the 6th powers is added by multiplying the values \n",
        "# in the 4th column and the index values.\n",
        "power_df[6] = power_df[5] * power_df.index\n",
        "print(power_df)"
      ],
      "execution_count": 352,
      "outputs": [
        {
          "output_type": "stream",
          "name": "stdout",
          "text": [
            "                 Open       High        Low      Close  rate_return\n",
            "Date                                                               \n",
            "2016-01-31  21.730620  22.315207  21.629749  22.315207          NaN\n",
            "2016-02-29  22.325658  22.641435  22.277254  22.286474    -0.001288\n",
            "2016-03-31  25.289805  25.331294  25.096189  25.121544     0.127210\n",
            "2016-04-30  21.664134  21.832395  21.323003  21.606510    -0.139921\n",
            "2016-05-31  23.096979  23.282497  22.916099  23.157272     0.071773\n",
            "2016-06-30  21.900390  22.208812  21.867924  22.169390    -0.042660\n",
            "2016-07-31  24.161392  24.244875  24.043124  24.166029     0.090063\n",
            "2016-08-31  24.635012  24.847181  24.630348  24.737598     0.023652\n",
            "2016-09-30  26.220457  26.432628  26.066577  26.358019     0.065504\n",
            "2016-10-31  26.497912  26.633142  26.392992  26.472265     0.004334\n",
            "2016-11-30  26.153537  26.294148  25.841851  25.900438    -0.021601\n",
            "2016-12-31  27.337010  27.465901  27.051101  27.142498     0.047955\n",
            "      2     3      4       5        6\n",
            "1     1     1      1       1        1\n",
            "2     4     8     16      32       64\n",
            "3     9    27     81     243      729\n",
            "4    16    64    256    1024     4096\n",
            "5    25   125    625    3125    15625\n",
            "6    36   216   1296    7776    46656\n",
            "7    49   343   2401   16807   117649\n",
            "8    64   512   4096   32768   262144\n",
            "9    81   729   6561   59049   531441\n",
            "10  100  1000  10000  100000  1000000\n"
          ]
        },
        {
          "output_type": "stream",
          "name": "stderr",
          "text": [
            "/usr/local/lib/python3.7/dist-packages/ipykernel_launcher.py:1: SettingWithCopyWarning: \n",
            "A value is trying to be set on a copy of a slice from a DataFrame.\n",
            "Try using .loc[row_indexer,col_indexer] = value instead\n",
            "\n",
            "See the caveats in the documentation: https://pandas.pydata.org/pandas-docs/stable/user_guide/indexing.html#returning-a-view-versus-a-copy\n",
            "  \"\"\"Entry point for launching an IPython kernel.\n"
          ]
        }
      ]
    },
    {
      "cell_type": "markdown",
      "metadata": {
        "id": "_or6n5-LQUa-"
      },
      "source": [
        "Here the calculation introduced a NaN value. If the DataFrame is large, we would not be able to observe it. **isnull()** provides a convenient way to check abnormal values."
      ]
    },
    {
      "cell_type": "code",
      "metadata": {
        "colab": {
          "base_uri": "https://localhost:8080/"
        },
        "id": "V5wgmhIPHW-B",
        "outputId": "9a4a764f-2609-4e7c-987c-d0bfc7e12ab0"
      },
      "source": [
        "missing = aapl_bar.isnull()\n",
        "print(missing)\n",
        "print('---------------------------------------------')\n",
        "print(missing.describe(), end=\"\\n\"*2)\n",
        "\n",
        "\n",
        "# ++\n",
        "\n",
        "# The following code adds a column with the difference between each \n",
        "# 5th power and the value 4 rows below.\n",
        "power_df[\"diff\"] = power_df[5].diff(4)\n",
        "print(power_df)\n",
        "\n",
        "# Missing data can be appreciated in the upper right corner.\n",
        "print(power_df.isnull())\n",
        "print('---------------------------------------------')\n",
        "\n",
        "# The describe method shows the presence of two different characters, \n",
        "# implying the precense of NaN values.\n",
        "print(power_df.isnull().describe())"
      ],
      "execution_count": 353,
      "outputs": [
        {
          "output_type": "stream",
          "name": "stdout",
          "text": [
            "             Open   High    Low  Close  rate_return\n",
            "Date                                               \n",
            "2016-01-31  False  False  False  False         True\n",
            "2016-02-29  False  False  False  False        False\n",
            "2016-03-31  False  False  False  False        False\n",
            "2016-04-30  False  False  False  False        False\n",
            "2016-05-31  False  False  False  False        False\n",
            "2016-06-30  False  False  False  False        False\n",
            "2016-07-31  False  False  False  False        False\n",
            "2016-08-31  False  False  False  False        False\n",
            "2016-09-30  False  False  False  False        False\n",
            "2016-10-31  False  False  False  False        False\n",
            "2016-11-30  False  False  False  False        False\n",
            "2016-12-31  False  False  False  False        False\n",
            "---------------------------------------------\n",
            "         Open   High    Low  Close rate_return\n",
            "count      12     12     12     12          12\n",
            "unique      1      1      1      1           2\n",
            "top     False  False  False  False       False\n",
            "freq       12     12     12     12          11\n",
            "\n",
            "      2     3      4       5        6     diff\n",
            "1     1     1      1       1        1      NaN\n",
            "2     4     8     16      32       64      NaN\n",
            "3     9    27     81     243      729      NaN\n",
            "4    16    64    256    1024     4096      NaN\n",
            "5    25   125    625    3125    15625   3124.0\n",
            "6    36   216   1296    7776    46656   7744.0\n",
            "7    49   343   2401   16807   117649  16564.0\n",
            "8    64   512   4096   32768   262144  31744.0\n",
            "9    81   729   6561   59049   531441  55924.0\n",
            "10  100  1000  10000  100000  1000000  92224.0\n",
            "        2      3      4      5      6   diff\n",
            "1   False  False  False  False  False   True\n",
            "2   False  False  False  False  False   True\n",
            "3   False  False  False  False  False   True\n",
            "4   False  False  False  False  False   True\n",
            "5   False  False  False  False  False  False\n",
            "6   False  False  False  False  False  False\n",
            "7   False  False  False  False  False  False\n",
            "8   False  False  False  False  False  False\n",
            "9   False  False  False  False  False  False\n",
            "10  False  False  False  False  False  False\n",
            "---------------------------------------------\n",
            "            2      3      4      5      6   diff\n",
            "count      10     10     10     10     10     10\n",
            "unique      1      1      1      1      1      2\n",
            "top     False  False  False  False  False  False\n",
            "freq       10     10     10     10     10      6\n"
          ]
        }
      ]
    },
    {
      "cell_type": "markdown",
      "metadata": {
        "id": "d6KFV4i0QfLW"
      },
      "source": [
        "The row labelled \"unique\" indicates the number of unique values in each column. Since the \"rate_return\" column has 2 unique values, it has at least one missing value.\n",
        "\n",
        "We can deduce the number of missing values by comparing \"count\" with \"freq\". There are 12 counts and 11 False values, so there is one True value which corresponds to the missing value.\n",
        "\n",
        "We can also find the rows with missing values easily:"
      ]
    },
    {
      "cell_type": "code",
      "metadata": {
        "colab": {
          "base_uri": "https://localhost:8080/"
        },
        "id": "Eo0ZAhCsHW-B",
        "outputId": "d6869a53-26eb-4474-c957-45589275e79f"
      },
      "source": [
        "print(missing[missing.rate_return == True])\n",
        "\n",
        "\n",
        "# ++\n",
        "\n",
        "# Spot the rows with NaN values in the \"diff\" column.\n",
        "power_missing = power_df.isnull()\n",
        "print(power_missing[power_missing[\"diff\"] == True])\n",
        "\n",
        "#Drops the \"diff\" column.\n",
        "power_df = power_df.drop(\"diff\", axis=1)"
      ],
      "execution_count": 354,
      "outputs": [
        {
          "output_type": "stream",
          "name": "stdout",
          "text": [
            "             Open   High    Low  Close  rate_return\n",
            "Date                                               \n",
            "2016-01-31  False  False  False  False         True\n",
            "       2      3      4      5      6  diff\n",
            "1  False  False  False  False  False  True\n",
            "2  False  False  False  False  False  True\n",
            "3  False  False  False  False  False  True\n",
            "4  False  False  False  False  False  True\n"
          ]
        }
      ]
    },
    {
      "cell_type": "markdown",
      "metadata": {
        "id": "qgggpD8OQkZX"
      },
      "source": [
        "Usually when dealing with missing data, we either delete the whole row or fill it with some value. As we introduced in the Series chapter, the same method **dropna()** and **fillna()** can be applied to a DataFrame."
      ]
    },
    {
      "cell_type": "code",
      "metadata": {
        "colab": {
          "base_uri": "https://localhost:8080/"
        },
        "id": "j8PaIokjHW-B",
        "outputId": "021e301a-c410-4cbb-9182-6c9a105ba57d"
      },
      "source": [
        "# Drops the first row.\n",
        "drop = aapl_bar.dropna()\n",
        "print(drop)\n",
        "print('\\n--------------------------------------------------\\n')\n",
        "# Replaces NaN values with zeros.\n",
        "fill = aapl_bar.fillna(0)\n",
        "print(fill)"
      ],
      "execution_count": 355,
      "outputs": [
        {
          "output_type": "stream",
          "name": "stdout",
          "text": [
            "                 Open       High        Low      Close  rate_return\n",
            "Date                                                               \n",
            "2016-02-29  22.325658  22.641435  22.277254  22.286474    -0.001288\n",
            "2016-03-31  25.289805  25.331294  25.096189  25.121544     0.127210\n",
            "2016-04-30  21.664134  21.832395  21.323003  21.606510    -0.139921\n",
            "2016-05-31  23.096979  23.282497  22.916099  23.157272     0.071773\n",
            "2016-06-30  21.900390  22.208812  21.867924  22.169390    -0.042660\n",
            "2016-07-31  24.161392  24.244875  24.043124  24.166029     0.090063\n",
            "2016-08-31  24.635012  24.847181  24.630348  24.737598     0.023652\n",
            "2016-09-30  26.220457  26.432628  26.066577  26.358019     0.065504\n",
            "2016-10-31  26.497912  26.633142  26.392992  26.472265     0.004334\n",
            "2016-11-30  26.153537  26.294148  25.841851  25.900438    -0.021601\n",
            "2016-12-31  27.337010  27.465901  27.051101  27.142498     0.047955\n",
            "\n",
            "--------------------------------------------------\n",
            "\n",
            "                 Open       High        Low      Close  rate_return\n",
            "Date                                                               \n",
            "2016-01-31  21.730620  22.315207  21.629749  22.315207     0.000000\n",
            "2016-02-29  22.325658  22.641435  22.277254  22.286474    -0.001288\n",
            "2016-03-31  25.289805  25.331294  25.096189  25.121544     0.127210\n",
            "2016-04-30  21.664134  21.832395  21.323003  21.606510    -0.139921\n",
            "2016-05-31  23.096979  23.282497  22.916099  23.157272     0.071773\n",
            "2016-06-30  21.900390  22.208812  21.867924  22.169390    -0.042660\n",
            "2016-07-31  24.161392  24.244875  24.043124  24.166029     0.090063\n",
            "2016-08-31  24.635012  24.847181  24.630348  24.737598     0.023652\n",
            "2016-09-30  26.220457  26.432628  26.066577  26.358019     0.065504\n",
            "2016-10-31  26.497912  26.633142  26.392992  26.472265     0.004334\n",
            "2016-11-30  26.153537  26.294148  25.841851  25.900438    -0.021601\n",
            "2016-12-31  27.337010  27.465901  27.051101  27.142498     0.047955\n"
          ]
        }
      ]
    },
    {
      "cell_type": "markdown",
      "metadata": {
        "id": "0tvoFlKWQxYG"
      },
      "source": [
        "## DataFrame Concat\n",
        "We have seen how to extract a Series from a dataFrame. Now we need to consider how to merge a Series or a DataFrame into another one.\n",
        "\n",
        "In Pandas, the function **concat()** allows us to merge multiple Series into a DataFrame:"
      ]
    },
    {
      "cell_type": "code",
      "metadata": {
        "colab": {
          "base_uri": "https://localhost:8080/"
        },
        "id": "uQrmLIWKHW-C",
        "outputId": "0b8591ba-a180-437b-f663-7cc776351fde"
      },
      "source": [
        "s1 = pd.Series([143.5, 144.09, 142.73, 144.18, 143.77], name = 'AAPL')\n",
        "s2 = pd.Series([898.7, 911.71, 906.69, 918.59, 926.99], name = 'GOOG')\n",
        "data_frame = pd.concat([s1,s2], axis = 1)\n",
        "print(data_frame)\n",
        "\n",
        "\n",
        "# ++\n",
        "\n",
        "# Creates a series with the first 10 7th powers.\n",
        "seventh = pd.Series([x**7 for x in range(1, 11)], name = 7)\n",
        "seventh.index = range(1, 11)\n",
        "\n",
        "# Merges the power_df dataframe and the seventh series by the side.\n",
        "power_df = pd.concat([power_df, seventh], axis = 1)\n",
        "print(power_df)"
      ],
      "execution_count": 356,
      "outputs": [
        {
          "output_type": "stream",
          "name": "stdout",
          "text": [
            "     AAPL    GOOG\n",
            "0  143.50  898.70\n",
            "1  144.09  911.71\n",
            "2  142.73  906.69\n",
            "3  144.18  918.59\n",
            "4  143.77  926.99\n",
            "      2     3      4       5        6         7\n",
            "1     1     1      1       1        1         1\n",
            "2     4     8     16      32       64       128\n",
            "3     9    27     81     243      729      2187\n",
            "4    16    64    256    1024     4096     16384\n",
            "5    25   125    625    3125    15625     78125\n",
            "6    36   216   1296    7776    46656    279936\n",
            "7    49   343   2401   16807   117649    823543\n",
            "8    64   512   4096   32768   262144   2097152\n",
            "9    81   729   6561   59049   531441   4782969\n",
            "10  100  1000  10000  100000  1000000  10000000\n"
          ]
        }
      ]
    },
    {
      "cell_type": "markdown",
      "metadata": {
        "id": "3ojbNYJLR2vv"
      },
      "source": [
        "The \"axis = 1\" parameter will join two DataFrames by columns:"
      ]
    },
    {
      "cell_type": "code",
      "metadata": {
        "colab": {
          "base_uri": "https://localhost:8080/"
        },
        "id": "DJsaLd-cRoIm",
        "outputId": "e600f63f-910e-4f73-f1d9-69bdce0f6442"
      },
      "source": [
        "log_price = np.log(aapl_bar.Close)\n",
        "log_price.name = 'log_price'\n",
        "print(log_price)\n",
        "print('\\n---------------------- separate line--------------------\\n')\n",
        "concat = pd.concat([aapl_bar, log_price], axis = 1)\n",
        "print(concat)"
      ],
      "execution_count": 357,
      "outputs": [
        {
          "output_type": "stream",
          "name": "stdout",
          "text": [
            "Date\n",
            "2016-01-31    3.105268\n",
            "2016-02-29    3.103980\n",
            "2016-03-31    3.223726\n",
            "2016-04-30    3.072995\n",
            "2016-05-31    3.142309\n",
            "2016-06-30    3.098712\n",
            "2016-07-31    3.184948\n",
            "2016-08-31    3.208324\n",
            "2016-09-30    3.271773\n",
            "2016-10-31    3.276098\n",
            "2016-11-30    3.254260\n",
            "2016-12-31    3.301101\n",
            "Freq: M, Name: log_price, dtype: float64\n",
            "\n",
            "---------------------- separate line--------------------\n",
            "\n",
            "                 Open       High        Low      Close  rate_return  log_price\n",
            "Date                                                                          \n",
            "2016-01-31  21.730620  22.315207  21.629749  22.315207          NaN   3.105268\n",
            "2016-02-29  22.325658  22.641435  22.277254  22.286474    -0.001288   3.103980\n",
            "2016-03-31  25.289805  25.331294  25.096189  25.121544     0.127210   3.223726\n",
            "2016-04-30  21.664134  21.832395  21.323003  21.606510    -0.139921   3.072995\n",
            "2016-05-31  23.096979  23.282497  22.916099  23.157272     0.071773   3.142309\n",
            "2016-06-30  21.900390  22.208812  21.867924  22.169390    -0.042660   3.098712\n",
            "2016-07-31  24.161392  24.244875  24.043124  24.166029     0.090063   3.184948\n",
            "2016-08-31  24.635012  24.847181  24.630348  24.737598     0.023652   3.208324\n",
            "2016-09-30  26.220457  26.432628  26.066577  26.358019     0.065504   3.271773\n",
            "2016-10-31  26.497912  26.633142  26.392992  26.472265     0.004334   3.276098\n",
            "2016-11-30  26.153537  26.294148  25.841851  25.900438    -0.021601   3.254260\n",
            "2016-12-31  27.337010  27.465901  27.051101  27.142498     0.047955   3.301101\n"
          ]
        }
      ]
    },
    {
      "cell_type": "markdown",
      "metadata": {
        "id": "mIZz-FUyR_62"
      },
      "source": [
        "We can also join two DataFrames by rows. Consider these two DataFrames:"
      ]
    },
    {
      "cell_type": "code",
      "metadata": {
        "colab": {
          "base_uri": "https://localhost:8080/"
        },
        "id": "W7uXZptLHW-C",
        "outputId": "53533d80-d49e-4daf-8ce6-e7c07dc9444f"
      },
      "source": [
        "df_volume = aapl_table.loc['2016-10':'2017-04',['Volume', 'Stock Splits']].resample('M').agg(lambda x: x[-1])\n",
        "print(df_volume)\n",
        "print('\\n---------------------- separate line--------------------\\n')\n",
        "df_2017 = aapl_table.loc['2016-10':'2017-04',['Open', 'High', 'Low', 'Close']].resample('M').agg(lambda x: x[-1])\n",
        "print(df_2017)"
      ],
      "execution_count": 358,
      "outputs": [
        {
          "output_type": "stream",
          "name": "stdout",
          "text": [
            "               Volume  Stock Splits\n",
            "Date                               \n",
            "2016-10-31  105677600             0\n",
            "2016-11-30  144649200             0\n",
            "2016-12-31  122345200             0\n",
            "2017-01-31  196804000             0\n",
            "2017-02-28   93931600             0\n",
            "2017-03-31   78646800             0\n",
            "2017-04-30   83441600             0\n",
            "\n",
            "---------------------- separate line--------------------\n",
            "\n",
            "                 Open       High        Low      Close\n",
            "Date                                                  \n",
            "2016-10-31  26.497912  26.633142  26.392992  26.472265\n",
            "2016-11-30  26.153537  26.294148  25.841851  25.900438\n",
            "2016-12-31  27.337010  27.465901  27.051101  27.142498\n",
            "2017-01-31  28.391590  28.447834  28.267384  28.438459\n",
            "2017-02-28  32.264064  32.348796  32.174623  32.242882\n",
            "2017-03-31  33.826915  33.956368  33.659803  33.812794\n",
            "2017-04-30  33.913998  33.963427  33.720999  33.810436\n"
          ]
        }
      ]
    },
    {
      "cell_type": "markdown",
      "metadata": {
        "id": "iZk_C9aSSLeP"
      },
      "source": [
        "Now we merge the DataFrames with our DataFrame 'aapl_bar'"
      ]
    },
    {
      "cell_type": "code",
      "metadata": {
        "colab": {
          "base_uri": "https://localhost:8080/"
        },
        "id": "aFqmjokOHW-C",
        "outputId": "fa167960-b402-4ddd-f6ac-414000e1101c"
      },
      "source": [
        "concat = pd.concat([aapl_bar, df_volume], axis = 1)\n",
        "print(concat)"
      ],
      "execution_count": 359,
      "outputs": [
        {
          "output_type": "stream",
          "name": "stdout",
          "text": [
            "                 Open       High        Low      Close  rate_return  \\\n",
            "Date                                                                  \n",
            "2016-01-31  21.730620  22.315207  21.629749  22.315207          NaN   \n",
            "2016-02-29  22.325658  22.641435  22.277254  22.286474    -0.001288   \n",
            "2016-03-31  25.289805  25.331294  25.096189  25.121544     0.127210   \n",
            "2016-04-30  21.664134  21.832395  21.323003  21.606510    -0.139921   \n",
            "2016-05-31  23.096979  23.282497  22.916099  23.157272     0.071773   \n",
            "2016-06-30  21.900390  22.208812  21.867924  22.169390    -0.042660   \n",
            "2016-07-31  24.161392  24.244875  24.043124  24.166029     0.090063   \n",
            "2016-08-31  24.635012  24.847181  24.630348  24.737598     0.023652   \n",
            "2016-09-30  26.220457  26.432628  26.066577  26.358019     0.065504   \n",
            "2016-10-31  26.497912  26.633142  26.392992  26.472265     0.004334   \n",
            "2016-11-30  26.153537  26.294148  25.841851  25.900438    -0.021601   \n",
            "2016-12-31  27.337010  27.465901  27.051101  27.142498     0.047955   \n",
            "2017-01-31        NaN        NaN        NaN        NaN          NaN   \n",
            "2017-02-28        NaN        NaN        NaN        NaN          NaN   \n",
            "2017-03-31        NaN        NaN        NaN        NaN          NaN   \n",
            "2017-04-30        NaN        NaN        NaN        NaN          NaN   \n",
            "\n",
            "                 Volume  Stock Splits  \n",
            "Date                                   \n",
            "2016-01-31          NaN           NaN  \n",
            "2016-02-29          NaN           NaN  \n",
            "2016-03-31          NaN           NaN  \n",
            "2016-04-30          NaN           NaN  \n",
            "2016-05-31          NaN           NaN  \n",
            "2016-06-30          NaN           NaN  \n",
            "2016-07-31          NaN           NaN  \n",
            "2016-08-31          NaN           NaN  \n",
            "2016-09-30          NaN           NaN  \n",
            "2016-10-31  105677600.0           0.0  \n",
            "2016-11-30  144649200.0           0.0  \n",
            "2016-12-31  122345200.0           0.0  \n",
            "2017-01-31  196804000.0           0.0  \n",
            "2017-02-28   93931600.0           0.0  \n",
            "2017-03-31   78646800.0           0.0  \n",
            "2017-04-30   83441600.0           0.0  \n"
          ]
        }
      ]
    },
    {
      "cell_type": "markdown",
      "metadata": {
        "id": "7yI3tgB4SR4O"
      },
      "source": [
        "By default the DataFrame are joined with all of the data. This default options results in zero information loss. We can also merge them by intersection, this is called 'inner join"
      ]
    },
    {
      "cell_type": "code",
      "metadata": {
        "colab": {
          "base_uri": "https://localhost:8080/"
        },
        "id": "31QGLyijHW-C",
        "outputId": "5a9243ed-a539-4e5f-9628-c50d42e810f6"
      },
      "source": [
        "# Every row with a NaN value is dropped.\n",
        "concat = pd.concat([aapl_bar,df_volume],axis = 1, join = 'inner')\n",
        "print(concat)"
      ],
      "execution_count": 360,
      "outputs": [
        {
          "output_type": "stream",
          "name": "stdout",
          "text": [
            "                 Open       High        Low      Close  rate_return  \\\n",
            "Date                                                                  \n",
            "2016-10-31  26.497912  26.633142  26.392992  26.472265     0.004334   \n",
            "2016-11-30  26.153537  26.294148  25.841851  25.900438    -0.021601   \n",
            "2016-12-31  27.337010  27.465901  27.051101  27.142498     0.047955   \n",
            "\n",
            "               Volume  Stock Splits  \n",
            "Date                                 \n",
            "2016-10-31  105677600             0  \n",
            "2016-11-30  144649200             0  \n",
            "2016-12-31  122345200             0  \n"
          ]
        }
      ]
    },
    {
      "cell_type": "markdown",
      "metadata": {
        "id": "oudcWMm5Sd0u"
      },
      "source": [
        "Only the intersection part was left if use 'inner join' method. Now let's try to append a DataFrame to another one:"
      ]
    },
    {
      "cell_type": "code",
      "metadata": {
        "colab": {
          "base_uri": "https://localhost:8080/"
        },
        "id": "lgw0qaOsHW-D",
        "outputId": "1dfab558-a71a-4c13-d778-a5cc4d31af2e"
      },
      "source": [
        "append = aapl_bar.append(df_2017)\n",
        "print(append)\n",
        "\n",
        "\n",
        "# ++\n",
        "\n",
        "# Creates a series with the first 7 powers of 11 and the due indexes.\n",
        "elevenp = pd.Series([11**x for x in range(2, 8)], name = 11)\n",
        "elevenp.index = range(2, 8)\n",
        "\n",
        "# Uses append to add the row with the powers of 11.\n",
        "power_df = power_df.append(elevenp)\n",
        "print(power_df)"
      ],
      "execution_count": 361,
      "outputs": [
        {
          "output_type": "stream",
          "name": "stdout",
          "text": [
            "                 Open       High        Low      Close  rate_return\n",
            "Date                                                               \n",
            "2016-01-31  21.730620  22.315207  21.629749  22.315207          NaN\n",
            "2016-02-29  22.325658  22.641435  22.277254  22.286474    -0.001288\n",
            "2016-03-31  25.289805  25.331294  25.096189  25.121544     0.127210\n",
            "2016-04-30  21.664134  21.832395  21.323003  21.606510    -0.139921\n",
            "2016-05-31  23.096979  23.282497  22.916099  23.157272     0.071773\n",
            "2016-06-30  21.900390  22.208812  21.867924  22.169390    -0.042660\n",
            "2016-07-31  24.161392  24.244875  24.043124  24.166029     0.090063\n",
            "2016-08-31  24.635012  24.847181  24.630348  24.737598     0.023652\n",
            "2016-09-30  26.220457  26.432628  26.066577  26.358019     0.065504\n",
            "2016-10-31  26.497912  26.633142  26.392992  26.472265     0.004334\n",
            "2016-11-30  26.153537  26.294148  25.841851  25.900438    -0.021601\n",
            "2016-12-31  27.337010  27.465901  27.051101  27.142498     0.047955\n",
            "2016-10-31  26.497912  26.633142  26.392992  26.472265          NaN\n",
            "2016-11-30  26.153537  26.294148  25.841851  25.900438          NaN\n",
            "2016-12-31  27.337010  27.465901  27.051101  27.142498          NaN\n",
            "2017-01-31  28.391590  28.447834  28.267384  28.438459          NaN\n",
            "2017-02-28  32.264064  32.348796  32.174623  32.242882          NaN\n",
            "2017-03-31  33.826915  33.956368  33.659803  33.812794          NaN\n",
            "2017-04-30  33.913998  33.963427  33.720999  33.810436          NaN\n",
            "      2     3      4       5        6         7\n",
            "1     1     1      1       1        1         1\n",
            "2     4     8     16      32       64       128\n",
            "3     9    27     81     243      729      2187\n",
            "4    16    64    256    1024     4096     16384\n",
            "5    25   125    625    3125    15625     78125\n",
            "6    36   216   1296    7776    46656    279936\n",
            "7    49   343   2401   16807   117649    823543\n",
            "8    64   512   4096   32768   262144   2097152\n",
            "9    81   729   6561   59049   531441   4782969\n",
            "10  100  1000  10000  100000  1000000  10000000\n",
            "11  121  1331  14641  161051  1771561  19487171\n"
          ]
        }
      ]
    },
    {
      "cell_type": "markdown",
      "metadata": {
        "id": "zXT6cMquSq_P"
      },
      "source": [
        "'Append' is essentially to concat two DataFrames by axis = 0, thus here is an alternative way to append:"
      ]
    },
    {
      "cell_type": "code",
      "metadata": {
        "colab": {
          "base_uri": "https://localhost:8080/"
        },
        "id": "2EuSaFO9HW-D",
        "outputId": "607727cc-68d0-4982-d097-ccf900c2a8d4"
      },
      "source": [
        "# One DataFrame is \"stacked\" over the other.\n",
        "concat = pd.concat([aapl_bar, df_2017], axis = 0)\n",
        "print(concat)"
      ],
      "execution_count": 362,
      "outputs": [
        {
          "output_type": "stream",
          "name": "stdout",
          "text": [
            "                 Open       High        Low      Close  rate_return\n",
            "Date                                                               \n",
            "2016-01-31  21.730620  22.315207  21.629749  22.315207          NaN\n",
            "2016-02-29  22.325658  22.641435  22.277254  22.286474    -0.001288\n",
            "2016-03-31  25.289805  25.331294  25.096189  25.121544     0.127210\n",
            "2016-04-30  21.664134  21.832395  21.323003  21.606510    -0.139921\n",
            "2016-05-31  23.096979  23.282497  22.916099  23.157272     0.071773\n",
            "2016-06-30  21.900390  22.208812  21.867924  22.169390    -0.042660\n",
            "2016-07-31  24.161392  24.244875  24.043124  24.166029     0.090063\n",
            "2016-08-31  24.635012  24.847181  24.630348  24.737598     0.023652\n",
            "2016-09-30  26.220457  26.432628  26.066577  26.358019     0.065504\n",
            "2016-10-31  26.497912  26.633142  26.392992  26.472265     0.004334\n",
            "2016-11-30  26.153537  26.294148  25.841851  25.900438    -0.021601\n",
            "2016-12-31  27.337010  27.465901  27.051101  27.142498     0.047955\n",
            "2016-10-31  26.497912  26.633142  26.392992  26.472265          NaN\n",
            "2016-11-30  26.153537  26.294148  25.841851  25.900438          NaN\n",
            "2016-12-31  27.337010  27.465901  27.051101  27.142498          NaN\n",
            "2017-01-31  28.391590  28.447834  28.267384  28.438459          NaN\n",
            "2017-02-28  32.264064  32.348796  32.174623  32.242882          NaN\n",
            "2017-03-31  33.826915  33.956368  33.659803  33.812794          NaN\n",
            "2017-04-30  33.913998  33.963427  33.720999  33.810436          NaN\n"
          ]
        }
      ]
    },
    {
      "cell_type": "markdown",
      "metadata": {
        "id": "-YXL7V9ASst9"
      },
      "source": [
        "Please note that if the two DataFrame have some columns with the same column names, these columns are considered to be the same and will be merged. It's very important to have the right column names. If we change a column names here:"
      ]
    },
    {
      "cell_type": "code",
      "metadata": {
        "colab": {
          "base_uri": "https://localhost:8080/"
        },
        "id": "aT1eoa8mHW-D",
        "outputId": "5eaaf819-285e-4454-e282-5701f583b757"
      },
      "source": [
        "df_2017.columns = ['Change', 'High','Low','Close']\n",
        "concat = pd.concat([aapl_bar, df_2017], axis = 0)\n",
        "print(concat)"
      ],
      "execution_count": 363,
      "outputs": [
        {
          "output_type": "stream",
          "name": "stdout",
          "text": [
            "                 Open       High        Low      Close  rate_return     Change\n",
            "Date                                                                          \n",
            "2016-01-31  21.730620  22.315207  21.629749  22.315207          NaN        NaN\n",
            "2016-02-29  22.325658  22.641435  22.277254  22.286474    -0.001288        NaN\n",
            "2016-03-31  25.289805  25.331294  25.096189  25.121544     0.127210        NaN\n",
            "2016-04-30  21.664134  21.832395  21.323003  21.606510    -0.139921        NaN\n",
            "2016-05-31  23.096979  23.282497  22.916099  23.157272     0.071773        NaN\n",
            "2016-06-30  21.900390  22.208812  21.867924  22.169390    -0.042660        NaN\n",
            "2016-07-31  24.161392  24.244875  24.043124  24.166029     0.090063        NaN\n",
            "2016-08-31  24.635012  24.847181  24.630348  24.737598     0.023652        NaN\n",
            "2016-09-30  26.220457  26.432628  26.066577  26.358019     0.065504        NaN\n",
            "2016-10-31  26.497912  26.633142  26.392992  26.472265     0.004334        NaN\n",
            "2016-11-30  26.153537  26.294148  25.841851  25.900438    -0.021601        NaN\n",
            "2016-12-31  27.337010  27.465901  27.051101  27.142498     0.047955        NaN\n",
            "2016-10-31        NaN  26.633142  26.392992  26.472265          NaN  26.497912\n",
            "2016-11-30        NaN  26.294148  25.841851  25.900438          NaN  26.153537\n",
            "2016-12-31        NaN  27.465901  27.051101  27.142498          NaN  27.337010\n",
            "2017-01-31        NaN  28.447834  28.267384  28.438459          NaN  28.391590\n",
            "2017-02-28        NaN  32.348796  32.174623  32.242882          NaN  32.264064\n",
            "2017-03-31        NaN  33.956368  33.659803  33.812794          NaN  33.826915\n",
            "2017-04-30        NaN  33.963427  33.720999  33.810436          NaN  33.913998\n"
          ]
        }
      ]
    },
    {
      "cell_type": "markdown",
      "metadata": {
        "id": "shbpOFyyS6uV"
      },
      "source": [
        "Since the column name of 'Open' has been changed, the new DataFrame has an new column named 'Change'.\n",
        "\n",
        "# Summary\n",
        "\n",
        "Hereby we introduced the most import part of python: resampling and DataFrame manipulation. We only introduced the most commonly used method in Financial data analysis. There are also many methods used in data mining, which are also beneficial. You can always check the [Pandas](https://pandas.pydata.org/pandas-docs/stable/index.html) official documentations for help."
      ]
    }
  ]
}